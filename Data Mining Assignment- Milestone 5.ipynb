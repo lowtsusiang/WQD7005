{
 "cells": [
  {
   "cell_type": "markdown",
   "metadata": {},
   "source": [
    "# Data Mining Assignment\n",
    "KLSE Glove Company Stock Price Prediction\n",
    "\n",
    "Name: Low Tsu Siang\n",
    "\n",
    "Matrix Number: WQD180072"
   ]
  },
  {
   "cell_type": "markdown",
   "metadata": {},
   "source": [
    "### Background Story\n",
    "The outcome of this assignment is to develop a web app with the function of the stock price prediction. History data of the stock data was collected via web scrapping from respective website. The collected data was managed & then stored in data lake. Microsoft Azure's blob container was choosen as the data lake platform for this project. \n",
    "Regresion model was selected as prediction model for this application. Data can be easily restored from data lake & run the necessary processes when internet connection is available. No security limitation was set for the data lake database. \n",
    "Flask web app is developed as the UI for this prediction model. \n"
   ]
  },
  {
   "cell_type": "markdown",
   "metadata": {},
   "source": []
  },
  {
   "cell_type": "markdown",
   "metadata": {},
   "source": [
    "### Milestone 1: Web scraping\n",
    "Web scarping stock information from website"
   ]
  },
  {
   "cell_type": "code",
   "execution_count": null,
   "metadata": {},
   "outputs": [],
   "source": [
    "sector_key_value = [{\"main_market\": \"healthcare\"}]\n",
    "sector_key_value = [{\"main_market\": \"healthcare\"}]\n",
    "stock_list = []\n",
    "for item in sector_key_value:\n",
    "    for k, v in item.items():\n",
    "        stock_list.append([\"https://s3-ap-southeast-1.amazonaws.com/biz.thestar.com.my/json/sectors/{0}/{1}/stocks.js\".\n",
    "                          format(k, v), k, v])"
   ]
  },
  {
   "cell_type": "code",
   "execution_count": null,
   "metadata": {},
   "outputs": [],
   "source": [
    "## Collect the data of selected counter\n",
    "\n",
    "def company_name(js_urls):\n",
    "    for url in js_urls:\n",
    "#        try:\n",
    "            res = urllib.request.urlopen(url[0])\n",
    "            body = str(res.read()).split(\"=\")\n",
    "            body = body[1].replace(\"\\\\r\\\\n\", \"\")\n",
    "            body = body.replace(body[0:14], \"\")\n",
    "            body = body.replace(\"]};\\'\", \"\")\n",
    "            data = eval(body)\n",
    "            try:\n",
    "                for item in data:\n",
    "                    crawl_data(item, url[1], url[2])\n",
    "            except:\n",
    "                crawl_data(data, url[1], url[2])\n",
    "#        except:\n",
    "#            print(\"error_stop1\")\n",
    "#            continue\n",
    "\n",
    "\n",
    "def crawl_data(name, sector, subsector):\n",
    "    start_date = \"1230872400\"\n",
    "    end_date = \"1577826000\"\n",
    "    url = \"https://charts.thestar.com.my/datafeed-udf/history?symbol={0}&resolution=D&from={1}&to={2}\".format(name[\"counter\"], start_date, end_date)\n",
    "    res = urllib.request.urlopen(url)\n",
    "    body = res.read().decode()\n",
    "    dict_data = eval(body)\n",
    "#    print(dict_data)\n",
    "    df=pd.DataFrame(dict_data)\n",
    "    path=\"C:\\\\Users\\\\ts\\\\Documents\\\\Data Mining\\\\Data\\\\\"\n",
    "    #print(path)\n",
    "    csv_file = format(name[\"counter\"])+\".csv\"\n",
    "    #print(csv_file)\n",
    "    df.to_csv (os.path.join(path,csv_file), index = False, header=True)\n",
    "\n",
    "if __name__ == \"__main__\":\n",
    "    company_name(stock_list)"
   ]
  },
  {
   "cell_type": "code",
   "execution_count": null,
   "metadata": {},
   "outputs": [],
   "source": []
  },
  {
   "cell_type": "markdown",
   "metadata": {},
   "source": [
    "### Milestone 2: Store data at Data Lake \n",
    "Pre-requisite: \n",
    "1. Create a Microsoft Azure account (student account is available for free)\n",
    "2. Create Block Blob Service"
   ]
  },
  {
   "cell_type": "code",
   "execution_count": null,
   "metadata": {},
   "outputs": [],
   "source": [
    "import os, uuid, sys\n",
    "from azure.storage.blob import BlockBlobService, PublicAccess\n",
    "block_blob_service = BlockBlobService(account_name='wqd7005', account_key='XpndfNFVKvJKGU22QzDYnw8VKc91G4QIW3JESEZQSO4hxLkCB16O+F0wdo6IAAuPvJ+FizhoDO7AWKm4x9N6xw==')"
   ]
  },
  {
   "cell_type": "code",
   "execution_count": null,
   "metadata": {},
   "outputs": [],
   "source": [
    "# Create a container called 'rawblob'.\n",
    "container_name ='rawblob'\n",
    "block_blob_service.create_container(container_name)\n",
    "# Set the permission so the blobs are public.\n",
    "block_blob_service.set_container_acl(container_name, public_access=PublicAccess.Container)"
   ]
  },
  {
   "cell_type": "code",
   "execution_count": null,
   "metadata": {},
   "outputs": [],
   "source": [
    "# Upload the created file, use local_file_name for the blob name\n",
    "import os\n",
    "local_path=os.path.abspath(os.path.curdir)\n",
    "path=os.path.join(local_path, \"Data\")\n",
    "\n",
    "def files(path):\n",
    "    for file in os.listdir(path):\n",
    "        if os.path.isfile(os.path.join(path, file)):\n",
    "            yield file\n",
    "\n",
    "for file in files(os.path.join(local_path, \"Data\")):\n",
    "    local_file_name=os.path.join(\"Data\",file)\n",
    "    full_path_to_file =os.path.join(local_path, local_file_name)\n",
    "    block_blob_service.create_blob_from_path(container_name, local_file_name, full_path_to_file)\n",
    "    print (file)"
   ]
  },
  {
   "cell_type": "code",
   "execution_count": null,
   "metadata": {},
   "outputs": [],
   "source": [
    "#Check available data\n",
    "print(\"\\nList blobs in the container\")\n",
    "generator = block_blob_service.list_blobs(container_name)\n",
    "for blob in generator:\n",
    "    print(\"\\t Blob name: \" + blob.name)"
   ]
  },
  {
   "cell_type": "markdown",
   "metadata": {},
   "source": [
    "2 ways to retrieve data from Data Lake:\n",
    "1. Download as csv & store in harddrive\n",
    "2. Download as dictionary within python platform"
   ]
  },
  {
   "cell_type": "code",
   "execution_count": null,
   "metadata": {},
   "outputs": [],
   "source": [
    "# Download the blob(s) to local drive in csv format\n",
    "# Add '_DOWNLOADED' as prefix to '.txt' so you can see both files in Documents.\n",
    "generator = block_blob_service.list_blobs(container_name)\n",
    "for blob in generator:\n",
    "#    print(\"\\t Blob name: \" + blob.name)\n",
    "    local_file_name=os.path.join(blob.name)\n",
    "    full_path_to_file2 = os.path.join(local_path, str.replace(local_file_name ,'.csv', '_DOWNLOADED.csv'))\n",
    "    print(\"\\nDownloading blob to \" + full_path_to_file2)\n",
    "    block_blob_service.get_blob_to_path(container_name, blob.name, full_path_to_file2)\n",
    "    \n",
    "\n",
    "    \n",
    "    \n",
    "## Download blob in dataframe\n",
    "from io import StringIO\n",
    "import pandas as pd\n",
    "generator = block_blob_service.list_blobs(container_name)\n",
    "tables = {}\n",
    "for blob in generator:\n",
    "    local_file_name=os.path.join(blob.name)\n",
    "    #from azure.storage.blob import BlobService\n",
    "    #print(local_file_name)\n",
    "    blobstring = block_blob_service.get_blob_to_text(container_name,local_file_name).content\n",
    "    #df = pd.read_csv(StringIO(blobstring))\n",
    "    names1 = blob.name[5:]\n",
    "    names = names1[:-4]\n",
    "    print(names)\n",
    "    tables[names] = pd.read_csv(StringIO(blobstring))    \n"
   ]
  },
  {
   "cell_type": "code",
   "execution_count": null,
   "metadata": {},
   "outputs": [],
   "source": []
  },
  {
   "cell_type": "code",
   "execution_count": null,
   "metadata": {},
   "outputs": [],
   "source": []
  },
  {
   "cell_type": "code",
   "execution_count": 1,
   "metadata": {},
   "outputs": [],
   "source": [
    "from urllib.request import Request\n",
    "import urllib\n",
    "from datetime import datetime\n",
    "import numpy as np\n",
    "import pandas as pd\n",
    "import csv\n",
    "import os\n",
    "from sklearn.model_selection import train_test_split \n",
    "from sklearn.linear_model import LinearRegression\n",
    "from sklearn import metrics\n",
    "import plotly.offline as po\n",
    "import plotly.graph_objs as go"
   ]
  },
  {
   "cell_type": "markdown",
   "metadata": {},
   "source": [
    "Retrive data from Data lake & store in dictionary as the stock counter name"
   ]
  },
  {
   "cell_type": "code",
   "execution_count": 2,
   "metadata": {},
   "outputs": [
    {
     "name": "stdout",
     "output_type": "stream",
     "text": [
      "ADVENTA\n",
      "AHEALTH\n",
      "DPHARMA\n",
      "HARTA\n",
      "IHH\n",
      "KOSSAN\n",
      "KOTRA\n",
      "KPJ\n",
      "PHARMA\n",
      "SUPERMX\n",
      "TMCLIFE\n",
      "TOPGLOV\n",
      "YSPSAH\n"
     ]
    }
   ],
   "source": [
    "##Pre-defined\n",
    "import os, uuid, sys\n",
    "from azure.storage.blob import BlockBlobService, PublicAccess\n",
    "block_blob_service = BlockBlobService(account_name='wqd7005', account_key='XpndfNFVKvJKGU22QzDYnw8VKc91G4QIW3JESEZQSO4hxLkCB16O+F0wdo6IAAuPvJ+FizhoDO7AWKm4x9N6xw==')\n",
    "container_name ='rawblob'\n",
    "\n",
    "## Download blob in dataframe\n",
    "from io import StringIO\n",
    "import pandas as pd\n",
    "generator = block_blob_service.list_blobs(container_name)\n",
    "tables = {}\n",
    "for blob in generator:\n",
    "    local_file_name=os.path.join(blob.name)\n",
    "    #from azure.storage.blob import BlobService\n",
    "    #print(local_file_name)\n",
    "    blobstring = block_blob_service.get_blob_to_text(container_name,local_file_name).content\n",
    "    #df = pd.read_csv(StringIO(blobstring))\n",
    "    names1 = blob.name[5:]\n",
    "    names = names1[:-4]\n",
    "    print(names)\n",
    "    tables[names] = pd.read_csv(StringIO(blobstring))"
   ]
  },
  {
   "cell_type": "markdown",
   "metadata": {},
   "source": [
    "Data Transformation: Convert time format"
   ]
  },
  {
   "cell_type": "code",
   "execution_count": 3,
   "metadata": {},
   "outputs": [],
   "source": [
    "for name in list(tables):\n",
    "    tables[name].iloc[:,0] = pd.to_datetime(tables[name].iloc[:,0], unit='s').dt.strftime('%Y-%m-%d')\n",
    "    #print(name)\n",
    "    #print(tables[name].iloc[:,0])"
   ]
  },
  {
   "cell_type": "markdown",
   "metadata": {},
   "source": [
    "## Use counter KOSSAN as sample"
   ]
  },
  {
   "cell_type": "code",
   "execution_count": 4,
   "metadata": {},
   "outputs": [],
   "source": [
    "df=tables['KOSSAN']"
   ]
  },
  {
   "cell_type": "code",
   "execution_count": 5,
   "metadata": {},
   "outputs": [
    {
     "name": "stderr",
     "output_type": "stream",
     "text": [
      "D:\\software\\anaconda\\lib\\site-packages\\pandas_datareader\\compat\\__init__.py:7: FutureWarning:\n",
      "\n",
      "pandas.util.testing is deprecated. Use the functions in the public API at pandas.testing instead.\n",
      "\n"
     ]
    },
    {
     "data": {
      "text/html": [
       "<div>\n",
       "<style scoped>\n",
       "    .dataframe tbody tr th:only-of-type {\n",
       "        vertical-align: middle;\n",
       "    }\n",
       "\n",
       "    .dataframe tbody tr th {\n",
       "        vertical-align: top;\n",
       "    }\n",
       "\n",
       "    .dataframe thead th {\n",
       "        text-align: right;\n",
       "    }\n",
       "</style>\n",
       "<table border=\"1\" class=\"dataframe\">\n",
       "  <thead>\n",
       "    <tr style=\"text-align: right;\">\n",
       "      <th></th>\n",
       "      <th>t</th>\n",
       "      <th>c</th>\n",
       "      <th>o</th>\n",
       "      <th>h</th>\n",
       "      <th>l</th>\n",
       "      <th>v</th>\n",
       "      <th>s</th>\n",
       "      <th>100ma</th>\n",
       "      <th>20ma</th>\n",
       "    </tr>\n",
       "  </thead>\n",
       "  <tbody>\n",
       "    <tr>\n",
       "      <th>0</th>\n",
       "      <td>2009-01-01</td>\n",
       "      <td>0.723</td>\n",
       "      <td>0.698</td>\n",
       "      <td>0.723</td>\n",
       "      <td>0.698</td>\n",
       "      <td>357600</td>\n",
       "      <td>ok</td>\n",
       "      <td>0.723000</td>\n",
       "      <td>0.723000</td>\n",
       "    </tr>\n",
       "    <tr>\n",
       "      <th>1</th>\n",
       "      <td>2009-01-04</td>\n",
       "      <td>0.753</td>\n",
       "      <td>0.726</td>\n",
       "      <td>0.753</td>\n",
       "      <td>0.726</td>\n",
       "      <td>118300</td>\n",
       "      <td>ok</td>\n",
       "      <td>0.738000</td>\n",
       "      <td>0.738000</td>\n",
       "    </tr>\n",
       "    <tr>\n",
       "      <th>2</th>\n",
       "      <td>2009-01-05</td>\n",
       "      <td>0.748</td>\n",
       "      <td>0.758</td>\n",
       "      <td>0.783</td>\n",
       "      <td>0.743</td>\n",
       "      <td>430500</td>\n",
       "      <td>ok</td>\n",
       "      <td>0.741333</td>\n",
       "      <td>0.741333</td>\n",
       "    </tr>\n",
       "    <tr>\n",
       "      <th>3</th>\n",
       "      <td>2009-01-06</td>\n",
       "      <td>0.768</td>\n",
       "      <td>0.758</td>\n",
       "      <td>0.778</td>\n",
       "      <td>0.758</td>\n",
       "      <td>160200</td>\n",
       "      <td>ok</td>\n",
       "      <td>0.748000</td>\n",
       "      <td>0.748000</td>\n",
       "    </tr>\n",
       "    <tr>\n",
       "      <th>4</th>\n",
       "      <td>2009-01-07</td>\n",
       "      <td>0.763</td>\n",
       "      <td>0.763</td>\n",
       "      <td>0.763</td>\n",
       "      <td>0.746</td>\n",
       "      <td>122400</td>\n",
       "      <td>ok</td>\n",
       "      <td>0.751000</td>\n",
       "      <td>0.751000</td>\n",
       "    </tr>\n",
       "    <tr>\n",
       "      <th>...</th>\n",
       "      <td>...</td>\n",
       "      <td>...</td>\n",
       "      <td>...</td>\n",
       "      <td>...</td>\n",
       "      <td>...</td>\n",
       "      <td>...</td>\n",
       "      <td>...</td>\n",
       "      <td>...</td>\n",
       "      <td>...</td>\n",
       "    </tr>\n",
       "    <tr>\n",
       "      <th>2691</th>\n",
       "      <td>2019-12-23</td>\n",
       "      <td>4.170</td>\n",
       "      <td>4.180</td>\n",
       "      <td>4.180</td>\n",
       "      <td>4.160</td>\n",
       "      <td>45900</td>\n",
       "      <td>ok</td>\n",
       "      <td>4.188300</td>\n",
       "      <td>4.153000</td>\n",
       "    </tr>\n",
       "    <tr>\n",
       "      <th>2692</th>\n",
       "      <td>2019-12-25</td>\n",
       "      <td>4.200</td>\n",
       "      <td>4.160</td>\n",
       "      <td>4.250</td>\n",
       "      <td>4.160</td>\n",
       "      <td>312700</td>\n",
       "      <td>ok</td>\n",
       "      <td>4.189600</td>\n",
       "      <td>4.153000</td>\n",
       "    </tr>\n",
       "    <tr>\n",
       "      <th>2693</th>\n",
       "      <td>2019-12-26</td>\n",
       "      <td>4.250</td>\n",
       "      <td>4.180</td>\n",
       "      <td>4.250</td>\n",
       "      <td>4.160</td>\n",
       "      <td>311200</td>\n",
       "      <td>ok</td>\n",
       "      <td>4.191400</td>\n",
       "      <td>4.155500</td>\n",
       "    </tr>\n",
       "    <tr>\n",
       "      <th>2694</th>\n",
       "      <td>2019-12-29</td>\n",
       "      <td>4.200</td>\n",
       "      <td>4.240</td>\n",
       "      <td>4.240</td>\n",
       "      <td>4.190</td>\n",
       "      <td>467800</td>\n",
       "      <td>ok</td>\n",
       "      <td>4.192700</td>\n",
       "      <td>4.156000</td>\n",
       "    </tr>\n",
       "    <tr>\n",
       "      <th>2695</th>\n",
       "      <td>2019-12-30</td>\n",
       "      <td>4.160</td>\n",
       "      <td>4.180</td>\n",
       "      <td>4.190</td>\n",
       "      <td>4.150</td>\n",
       "      <td>152200</td>\n",
       "      <td>ok</td>\n",
       "      <td>4.193600</td>\n",
       "      <td>4.155000</td>\n",
       "    </tr>\n",
       "  </tbody>\n",
       "</table>\n",
       "<p>2696 rows × 9 columns</p>\n",
       "</div>"
      ],
      "text/plain": [
       "               t      c      o      h      l       v   s     100ma      20ma\n",
       "0     2009-01-01  0.723  0.698  0.723  0.698  357600  ok  0.723000  0.723000\n",
       "1     2009-01-04  0.753  0.726  0.753  0.726  118300  ok  0.738000  0.738000\n",
       "2     2009-01-05  0.748  0.758  0.783  0.743  430500  ok  0.741333  0.741333\n",
       "3     2009-01-06  0.768  0.758  0.778  0.758  160200  ok  0.748000  0.748000\n",
       "4     2009-01-07  0.763  0.763  0.763  0.746  122400  ok  0.751000  0.751000\n",
       "...          ...    ...    ...    ...    ...     ...  ..       ...       ...\n",
       "2691  2019-12-23  4.170  4.180  4.180  4.160   45900  ok  4.188300  4.153000\n",
       "2692  2019-12-25  4.200  4.160  4.250  4.160  312700  ok  4.189600  4.153000\n",
       "2693  2019-12-26  4.250  4.180  4.250  4.160  311200  ok  4.191400  4.155500\n",
       "2694  2019-12-29  4.200  4.240  4.240  4.190  467800  ok  4.192700  4.156000\n",
       "2695  2019-12-30  4.160  4.180  4.190  4.150  152200  ok  4.193600  4.155000\n",
       "\n",
       "[2696 rows x 9 columns]"
      ]
     },
     "execution_count": 5,
     "metadata": {},
     "output_type": "execute_result"
    }
   ],
   "source": [
    "import datetime as dt\n",
    "import matplotlib.pyplot as plt\n",
    "from matplotlib import style\n",
    "import pandas_datareader.data as web\n",
    "style.use('ggplot')\n",
    "df=tables['KOSSAN']\n",
    "df['100ma']=df['c'].rolling(window=100,min_periods=0).mean()\n",
    "df['20ma']=df['c'].rolling(window=20,min_periods=0).mean()\n",
    "df.dropna()"
   ]
  },
  {
   "cell_type": "code",
   "execution_count": 6,
   "metadata": {},
   "outputs": [],
   "source": [
    "import matplotlib.pyplot as plt\n",
    "import matplotlib.dates as mdates\n",
    "get_ipython().magic('matplotlib qt')\n",
    "ax1=plt.subplot2grid((13,2),(0,0),rowspan=10, colspan=2)\n",
    "ax2=plt.subplot2grid((13,2),(11,0),rowspan=2, colspan=2, sharex=ax1)\n",
    "\n",
    "ax1.plot(df['t'], df['c'], label=\"Closing Price\")\n",
    "ax1.plot(df['100ma'], label=\"100ma\")\n",
    "ax1.plot(df['20ma'], label=\"20ma\")\n",
    "ax1.legend(loc='upper left', frameon=False)\n",
    "\n",
    "ax2.bar(df.index, df['v'])\n",
    "ax2.set_ylabel('Volume', fontsize=8)\n",
    "\n",
    "#set ticks every week\n",
    "ax1.xaxis.set_major_locator(mdates.MonthLocator())\n",
    "#set major ticks format\n",
    "ax1.xaxis.set_major_formatter(mdates.DateFormatter('%b %d'))\n",
    "\n",
    "\n",
    "\n",
    "plt.savefig('foo.png')"
   ]
  },
  {
   "cell_type": "markdown",
   "metadata": {},
   "source": [
    "## Using Regression - testing purpose before deploy in web app"
   ]
  },
  {
   "cell_type": "code",
   "execution_count": 10,
   "metadata": {},
   "outputs": [],
   "source": [
    "#For Prediction\n",
    "## Regression\n",
    "import pandas as pd  \n",
    "import numpy as np  \n",
    "import matplotlib.pyplot as plt  \n",
    "import seaborn as seabornInstance \n",
    "from sklearn.model_selection import train_test_split \n",
    "from sklearn.linear_model import LinearRegression\n",
    "from sklearn import preprocessing\n",
    "%matplotlib inline"
   ]
  },
  {
   "cell_type": "code",
   "execution_count": 12,
   "metadata": {},
   "outputs": [
    {
     "data": {
      "text/plain": [
       "LinearRegression(copy_X=True, fit_intercept=True, n_jobs=None, normalize=False)"
      ]
     },
     "execution_count": 12,
     "metadata": {},
     "output_type": "execute_result"
    }
   ],
   "source": [
    "X = df[['o','h','l','v']]\n",
    "y = df['c']\n",
    "X_train, X_test, y_train, y_test = train_test_split(X, y, test_size=0.2, random_state=0)\n",
    "regressor = LinearRegression()  \n",
    "regressor.fit(X_train, y_train)\n",
    "#coeff_df = pd.DataFrame(regressor.coef_, X.columns, columns=['Coefficient'])  \n",
    "#coeff_df"
   ]
  },
  {
   "cell_type": "code",
   "execution_count": 13,
   "metadata": {},
   "outputs": [
    {
     "data": {
      "text/html": [
       "<div>\n",
       "<style scoped>\n",
       "    .dataframe tbody tr th:only-of-type {\n",
       "        vertical-align: middle;\n",
       "    }\n",
       "\n",
       "    .dataframe tbody tr th {\n",
       "        vertical-align: top;\n",
       "    }\n",
       "\n",
       "    .dataframe thead th {\n",
       "        text-align: right;\n",
       "    }\n",
       "</style>\n",
       "<table border=\"1\" class=\"dataframe\">\n",
       "  <thead>\n",
       "    <tr style=\"text-align: right;\">\n",
       "      <th></th>\n",
       "      <th>Coefficient</th>\n",
       "    </tr>\n",
       "  </thead>\n",
       "  <tbody>\n",
       "    <tr>\n",
       "      <th>o</th>\n",
       "      <td>-4.633118e-01</td>\n",
       "    </tr>\n",
       "    <tr>\n",
       "      <th>h</th>\n",
       "      <td>7.614298e-01</td>\n",
       "    </tr>\n",
       "    <tr>\n",
       "      <th>l</th>\n",
       "      <td>7.024062e-01</td>\n",
       "    </tr>\n",
       "    <tr>\n",
       "      <th>v</th>\n",
       "      <td>-3.727089e-09</td>\n",
       "    </tr>\n",
       "  </tbody>\n",
       "</table>\n",
       "</div>"
      ],
      "text/plain": [
       "    Coefficient\n",
       "o -4.633118e-01\n",
       "h  7.614298e-01\n",
       "l  7.024062e-01\n",
       "v -3.727089e-09"
      ]
     },
     "execution_count": 13,
     "metadata": {},
     "output_type": "execute_result"
    }
   ],
   "source": [
    "coeff_df = pd.DataFrame(regressor.coef_, X.columns, columns=['Coefficient'])  \n",
    "coeff_df"
   ]
  },
  {
   "cell_type": "code",
   "execution_count": 14,
   "metadata": {},
   "outputs": [],
   "source": [
    "y_pred = regressor.predict(X_test)"
   ]
  },
  {
   "cell_type": "code",
   "execution_count": 15,
   "metadata": {},
   "outputs": [
    {
     "data": {
      "text/html": [
       "<div>\n",
       "<style scoped>\n",
       "    .dataframe tbody tr th:only-of-type {\n",
       "        vertical-align: middle;\n",
       "    }\n",
       "\n",
       "    .dataframe tbody tr th {\n",
       "        vertical-align: top;\n",
       "    }\n",
       "\n",
       "    .dataframe thead th {\n",
       "        text-align: right;\n",
       "    }\n",
       "</style>\n",
       "<table border=\"1\" class=\"dataframe\">\n",
       "  <thead>\n",
       "    <tr style=\"text-align: right;\">\n",
       "      <th></th>\n",
       "      <th>Actual</th>\n",
       "      <th>Predicted</th>\n",
       "    </tr>\n",
       "  </thead>\n",
       "  <tbody>\n",
       "    <tr>\n",
       "      <th>195</th>\n",
       "      <td>1.220</td>\n",
       "      <td>1.225610</td>\n",
       "    </tr>\n",
       "    <tr>\n",
       "      <th>2342</th>\n",
       "      <td>8.470</td>\n",
       "      <td>8.500168</td>\n",
       "    </tr>\n",
       "    <tr>\n",
       "      <th>1597</th>\n",
       "      <td>6.530</td>\n",
       "      <td>6.595419</td>\n",
       "    </tr>\n",
       "    <tr>\n",
       "      <th>2537</th>\n",
       "      <td>3.680</td>\n",
       "      <td>3.643404</td>\n",
       "    </tr>\n",
       "    <tr>\n",
       "      <th>1457</th>\n",
       "      <td>4.350</td>\n",
       "      <td>4.391626</td>\n",
       "    </tr>\n",
       "    <tr>\n",
       "      <th>...</th>\n",
       "      <td>...</td>\n",
       "      <td>...</td>\n",
       "    </tr>\n",
       "    <tr>\n",
       "      <th>914</th>\n",
       "      <td>1.502</td>\n",
       "      <td>1.500108</td>\n",
       "    </tr>\n",
       "    <tr>\n",
       "      <th>357</th>\n",
       "      <td>1.847</td>\n",
       "      <td>1.844194</td>\n",
       "    </tr>\n",
       "    <tr>\n",
       "      <th>910</th>\n",
       "      <td>1.507</td>\n",
       "      <td>1.512508</td>\n",
       "    </tr>\n",
       "    <tr>\n",
       "      <th>682</th>\n",
       "      <td>1.437</td>\n",
       "      <td>1.471588</td>\n",
       "    </tr>\n",
       "    <tr>\n",
       "      <th>636</th>\n",
       "      <td>1.562</td>\n",
       "      <td>1.558518</td>\n",
       "    </tr>\n",
       "  </tbody>\n",
       "</table>\n",
       "<p>540 rows × 2 columns</p>\n",
       "</div>"
      ],
      "text/plain": [
       "      Actual  Predicted\n",
       "195    1.220   1.225610\n",
       "2342   8.470   8.500168\n",
       "1597   6.530   6.595419\n",
       "2537   3.680   3.643404\n",
       "1457   4.350   4.391626\n",
       "...      ...        ...\n",
       "914    1.502   1.500108\n",
       "357    1.847   1.844194\n",
       "910    1.507   1.512508\n",
       "682    1.437   1.471588\n",
       "636    1.562   1.558518\n",
       "\n",
       "[540 rows x 2 columns]"
      ]
     },
     "execution_count": 15,
     "metadata": {},
     "output_type": "execute_result"
    }
   ],
   "source": [
    "result = pd.DataFrame({'Actual': y_test, 'Predicted': y_pred})\n",
    "result"
   ]
  },
  {
   "cell_type": "code",
   "execution_count": 16,
   "metadata": {},
   "outputs": [
    {
     "name": "stdout",
     "output_type": "stream",
     "text": [
      "Mean Absolute Error: 0.021540659196480683\n",
      "Mean Squared Error: 0.001140308335129862\n",
      "Root Mean Squared Error: 0.033768451772769534\n"
     ]
    }
   ],
   "source": [
    "print('Mean Absolute Error:', metrics.mean_absolute_error(y_test, y_pred))  \n",
    "print('Mean Squared Error:', metrics.mean_squared_error(y_test, y_pred))  \n",
    "print('Root Mean Squared Error:', np.sqrt(metrics.mean_squared_error(y_test, y_pred)))"
   ]
  },
  {
   "cell_type": "markdown",
   "metadata": {},
   "source": [
    "### Function for Web App "
   ]
  },
  {
   "cell_type": "code",
   "execution_count": 17,
   "metadata": {},
   "outputs": [],
   "source": [
    "def prediction(symbol):\n",
    "\n",
    "    df = tables[symbol]\n",
    "    X = df[['o','h','l','v']]\n",
    "    y = df['c']\n",
    "    X_train, X_test, y_train, y_test = train_test_split(X, y, test_size=0.2, random_state=0)\n",
    "    regressor = LinearRegression()  \n",
    "    regressor.fit(X_train, y_train)\n",
    "    y_pred = regressor.predict(X)\n",
    "    result = pd.DataFrame({'Actual': y, 'Predicted': y_pred})\n",
    "    return result"
   ]
  },
  {
   "cell_type": "code",
   "execution_count": 18,
   "metadata": {},
   "outputs": [],
   "source": [
    "def get_graph(symbol):\n",
    "    data = prediction(symbol)\n",
    "    SMA5  = data['Actual'].rolling(5).mean()\n",
    "    Regression = data['Predicted']\n",
    "    Close = data['Actual']\n",
    "    s5 = go.Scatter(x = SMA5.index,y = SMA5.values,name = '5MA')\n",
    "    cls = go.Scatter(x = Close.index,y = Close.values,name = 'Close')\n",
    "    reg = go.Scatter(x = Regression.index,y = Regression.values,name = 'Regression')\n",
    "    data = [s5,cls,reg]\n",
    "    layout = {'title': symbol}\n",
    "    fig = dict(data=data, layout=layout)\n",
    "    po.plot(fig, filename='templates/stock.html',auto_open=False)\n",
    "    return True\n",
    "\n"
   ]
  },
  {
   "cell_type": "code",
   "execution_count": 19,
   "metadata": {},
   "outputs": [],
   "source": [
    "def result(symbol,num1, num2, num3, num4):\n",
    "    df = tables[symbol]\n",
    "    X = df[['o','h','l','v']]\n",
    "    y = df['c']\n",
    "    X_train, X_test, y_train, y_test = train_test_split(X, y, test_size=0.2, random_state=0)\n",
    "    regressor = LinearRegression()  \n",
    "    regressor.fit(X_train, y_train)\n",
    "    Xnum1 = float(num1)\n",
    "    Xnum2 = float(num2)\n",
    "    Xnum3 = float(num3)\n",
    "    Xnum4 = int(num4)\n",
    "    X_result=[]\n",
    "    X_result = [(Xnum1, Xnum2, Xnum3, Xnum4)]\n",
    "    result = regressor.predict(X_result)\n",
    "    return result\n"
   ]
  },
  {
   "cell_type": "markdown",
   "metadata": {},
   "source": [
    "### Web App main application "
   ]
  },
  {
   "cell_type": "code",
   "execution_count": null,
   "metadata": {
    "scrolled": true
   },
   "outputs": [
    {
     "name": "stdout",
     "output_type": "stream",
     "text": [
      " * Serving Flask app \"__main__\" (lazy loading)\n",
      " * Environment: production\n",
      "   WARNING: This is a development server. Do not use it in a production deployment.\n",
      "   Use a production WSGI server instead.\n",
      " * Debug mode: off\n"
     ]
    },
    {
     "name": "stderr",
     "output_type": "stream",
     "text": [
      " * Running on http://127.0.0.1:5000/ (Press CTRL+C to quit)\n",
      "127.0.0.1 - - [19/Jun/2020 23:10:03] \"\u001b[37mGET / HTTP/1.1\u001b[0m\" 200 -\n",
      "127.0.0.1 - - [19/Jun/2020 23:28:08] \"\u001b[37mGET / HTTP/1.1\u001b[0m\" 200 -\n",
      "127.0.0.1 - - [19/Jun/2020 23:34:11] \"\u001b[37mPOST /send HTTP/1.1\u001b[0m\" 200 -\n",
      "127.0.0.1 - - [19/Jun/2020 23:34:46] \"\u001b[37mGET /index HTTP/1.1\u001b[0m\" 200 -\n",
      "127.0.0.1 - - [19/Jun/2020 23:34:53] \"\u001b[37mPOST /index HTTP/1.1\u001b[0m\" 200 -\n"
     ]
    }
   ],
   "source": [
    "from pandas_datareader import data as web\n",
    "from io import BytesIO\n",
    "from flask import Flask, request, render_template, redirect, url_for\n",
    "#from forms import SymbolSearch\n",
    "import base64\n",
    "from matplotlib.backends.backend_agg import FigureCanvasAgg as FigureCanvas\n",
    "from matplotlib.figure import Figure\n",
    "from matplotlib.dates import DateFormatter\n",
    "\n",
    "app = Flask(__name__)\n",
    "symbol2={}\n",
    "\n",
    "@app.route('/')\n",
    "def home():\n",
    "    return render_template('index.html')\n",
    "\n",
    "@app.route(\"/index\", methods=['GET', 'POST'])\n",
    "def index():\n",
    "    error = None\n",
    "    if request.method == 'POST':\n",
    "        symbol=request.form['symbol']\n",
    "        result = get_graph(symbol)\n",
    "        if result == True:\n",
    "            return render_template(\"stock.html\")\n",
    "        else:\n",
    "            return render_template('selection.html', sign='notfound')\n",
    "    else:\n",
    "        return render_template('selection.html')\n",
    "\n",
    "@app.route('/send', methods=['POST'])\n",
    "def send(sum=sum):\n",
    "    if request.method == 'POST':\n",
    "        num1 = request.form['num1']\n",
    "        num2 = request.form['num2']\n",
    "        num3 = request.form['num3']\n",
    "        num4 = request.form['num4']\n",
    "        \n",
    "        operation = request.form['operation']\n",
    "\n",
    "        if operation == 'KOSSAN':\n",
    "            sum = result(operation, num1, num2, num3, num4)\n",
    "            return render_template('index.html', sum=sum)\n",
    "\n",
    "        elif operation == 'HARTA':\n",
    "            sum = result(operation, num1, num2, num3, num4)\n",
    "            return render_template('index.html', sum=sum)\n",
    "\n",
    "        elif operation == 'TOPGLOV':\n",
    "            sum = result(operation, num1, num2, num3, num4)\n",
    "            return render_template('index.html', sum=sum)\n",
    "\n",
    "        elif operation == 'SUPERMX':\n",
    "            sum = result(operation, num1, num2, num3, num4)\n",
    "            return render_template('index.html', sum=sum)\n",
    "        else:\n",
    "            return render_template('index.html')\n",
    "\n",
    "\n",
    "\n",
    "if __name__ == '__main__':\n",
    "    app.run()"
   ]
  },
  {
   "cell_type": "code",
   "execution_count": null,
   "metadata": {},
   "outputs": [],
   "source": []
  }
 ],
 "metadata": {
  "kernelspec": {
   "display_name": "Python 3",
   "language": "python",
   "name": "python3"
  },
  "language_info": {
   "codemirror_mode": {
    "name": "ipython",
    "version": 3
   },
   "file_extension": ".py",
   "mimetype": "text/x-python",
   "name": "python",
   "nbconvert_exporter": "python",
   "pygments_lexer": "ipython3",
   "version": "3.7.6"
  }
 },
 "nbformat": 4,
 "nbformat_minor": 2
}
