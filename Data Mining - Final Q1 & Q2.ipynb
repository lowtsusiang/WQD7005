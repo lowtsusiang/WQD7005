{
 "cells": [
  {
   "cell_type": "markdown",
   "metadata": {},
   "source": [
    "# Final Exam - Data Mining\n",
    "Name: Low Tsu Siang\n",
    "\n",
    "Matrix Number: WQD180072\n",
    "\n",
    "New Study ID: 17051570"
   ]
  },
  {
   "cell_type": "markdown",
   "metadata": {},
   "source": [
    "### Question 1\n",
    "You are required  to make a user-agent that will crawl the WWW (your familiar domain)  to produce dataset of a particular website. \n",
    "\n",
    "- the web site can be as simple as a list of webpages and what other pages they link to\n",
    "\n",
    "- the output does not need to be in XHTML (or HTML) form a multi-stage approach (e.g. produce the xhtml or html  in csv format  )        \n",
    "\n"
   ]
  },
  {
   "cell_type": "code",
   "execution_count": 1,
   "metadata": {},
   "outputs": [],
   "source": [
    "import urllib.request\n",
    "from urllib.request import urlopen\n",
    "from bs4 import BeautifulSoup as soup\n",
    "import pandas as pd\n",
    "import re"
   ]
  },
  {
   "cell_type": "markdown",
   "metadata": {},
   "source": [
    "### Background\n",
    "This analysis is to examine the factors of building a winning EPL team. The Premier League, often referred to as the English Premier League or the EPL outside England, is the top level of the English football league system. Contested by 20 clubs. \n",
    "\n",
    "The EPL team will be divided in the 5 categories according the team points. "
   ]
  },
  {
   "cell_type": "markdown",
   "metadata": {},
   "source": [
    "##### Extract main dataframe\n",
    "The main dataframe will consists of team name in EPL, team's manager & team's captain. The information is extracted from wikipedia page. All the information is stored as \"df\" dataframe"
   ]
  },
  {
   "cell_type": "code",
   "execution_count": 2,
   "metadata": {},
   "outputs": [],
   "source": [
    "my_url= \"https://en.wikipedia.org/wiki/2019%E2%80%9320_Premier_League\"\n",
    "page_html = urllib.request.urlopen(my_url)\n",
    "page_soup = soup(page_html, \"lxml\")"
   ]
  },
  {
   "cell_type": "code",
   "execution_count": 3,
   "metadata": {},
   "outputs": [],
   "source": [
    "# Focus on retrieving data from the main table\n",
    "right_table=page_soup.find_all('table')                           \n",
    "r_table = right_table[2].tbody\n",
    "#rows\n",
    "##Strap every role of the tables\n",
    "rows = r_table.find_all('tr')\n",
    "#rows[1]\n",
    "###To extract & examine the data for signal row aka country (testpoint)\n",
    "team = rows[2].find_all('td')\n",
    "#team"
   ]
  },
  {
   "cell_type": "code",
   "execution_count": 4,
   "metadata": {},
   "outputs": [],
   "source": [
    "# Extract the website table header name\n",
    "mcolumns = [v.text.replace('\\n','') for v in rows[0].find_all('th')]\n",
    "mcolumns.remove('Shirt sponsor (sleeve)')\n",
    "mcolumns.remove('Shirt sponsor (chest)')"
   ]
  },
  {
   "cell_type": "code",
   "execution_count": 5,
   "metadata": {},
   "outputs": [
    {
     "data": {
      "text/html": [
       "<div>\n",
       "<style scoped>\n",
       "    .dataframe tbody tr th:only-of-type {\n",
       "        vertical-align: middle;\n",
       "    }\n",
       "\n",
       "    .dataframe tbody tr th {\n",
       "        vertical-align: top;\n",
       "    }\n",
       "\n",
       "    .dataframe thead th {\n",
       "        text-align: right;\n",
       "    }\n",
       "</style>\n",
       "<table border=\"1\" class=\"dataframe\">\n",
       "  <thead>\n",
       "    <tr style=\"text-align: right;\">\n",
       "      <th></th>\n",
       "      <th>Team</th>\n",
       "      <th>Manager</th>\n",
       "      <th>Captain</th>\n",
       "      <th>Kit manufacturer</th>\n",
       "    </tr>\n",
       "  </thead>\n",
       "  <tbody>\n",
       "  </tbody>\n",
       "</table>\n",
       "</div>"
      ],
      "text/plain": [
       "Empty DataFrame\n",
       "Columns: [Team, Manager, Captain, Kit manufacturer]\n",
       "Index: []"
      ]
     },
     "execution_count": 5,
     "metadata": {},
     "output_type": "execute_result"
    }
   ],
   "source": [
    "## Rename columns to shortform\n",
    "maindf=[]\n",
    "maindf = pd.DataFrame(columns = mcolumns)\n",
    "maindf"
   ]
  },
  {
   "cell_type": "code",
   "execution_count": 6,
   "metadata": {},
   "outputs": [
    {
     "name": "stdout",
     "output_type": "stream",
     "text": [
      "                       Team               Manager                     Captain  \\\n",
      "0                   Arsenal          Mikel Arteta   Pierre-Emerick Aubameyang   \n",
      "1               Aston Villa            Dean Smith               Jack Grealish   \n",
      "2               Bournemouth            Eddie Howe               Simon Francis   \n",
      "3    Brighton & Hove Albion         Graham Potter                  Lewis Dunk   \n",
      "4                   Burnley            Sean Dyche                     Ben Mee   \n",
      "5                   Chelsea         Frank Lampard           César Azpilicueta   \n",
      "6            Crystal Palace           Roy Hodgson            Luka Milivojević   \n",
      "7                   Everton       Carlo Ancelotti              Séamus Coleman   \n",
      "8            Leicester City       Brendan Rodgers           Kasper Schmeichel   \n",
      "9                 Liverpool          Jürgen Klopp            Jordan Henderson   \n",
      "10          Manchester City         Pep Guardiola                 David Silva   \n",
      "11        Manchester United   Ole Gunnar Solskjær           Harry Maguire[88]   \n",
      "12         Newcastle United           Steve Bruce            Jamaal Lascelles   \n",
      "13             Norwich City          Daniel Farke                Grant Hanley   \n",
      "14         Sheffield United          Chris Wilder                 Billy Sharp   \n",
      "15              Southampton      Ralph Hasenhüttl          James Ward-Prowse    \n",
      "16        Tottenham Hotspur         José Mourinho                 Hugo Lloris   \n",
      "17                  Watford         Nigel Pearson                 Troy Deeney   \n",
      "18          West Ham United           David Moyes                  Mark Noble   \n",
      "19  Wolverhampton Wanderers   Nuno Espírito Santo                 Conor Coady   \n",
      "\n",
      "    Kit manufacturer  \n",
      "0         Adidas[59]  \n",
      "1          Kappa[62]  \n",
      "2          Umbro[65]  \n",
      "3           Nike[67]  \n",
      "4              Umbro  \n",
      "5           Nike[70]  \n",
      "6           Puma[74]  \n",
      "7          Umbro[76]  \n",
      "8         Adidas[79]  \n",
      "9    New Balance[82]  \n",
      "10          Puma[85]  \n",
      "11        Adidas[89]  \n",
      "12          Puma[92]  \n",
      "13         Erreà[95]  \n",
      "14            Adidas  \n",
      "15  Under Armour[99]  \n",
      "16         Nike[102]  \n",
      "17       Adidas[104]  \n",
      "18        Umbro[107]  \n",
      "19       Adidas[110]  \n"
     ]
    }
   ],
   "source": [
    "##row 0 is the table header. Value collection start at row 1\n",
    "right_table=page_soup.find_all('table')\n",
    "r_table = right_table[2].tbody\n",
    "rows = r_table.find_all('tr')\n",
    "for i in range (1, len(rows)):\n",
    "    tds = rows[i].find_all('td')\n",
    "    values = [tds[0].text.replace('\\n',''), tds[1].text.replace('\\n',''), tds[2].text.replace('\\n',''), \n",
    "                  tds[3].text.replace('\\n','')]\n",
    "\n",
    "##Use break function to examine the for loop at initial stage (Checkpoint)\n",
    "#    break\n",
    "    maindf = maindf.append(pd.Series(values, index=mcolumns),ignore_index=True)\n",
    "#print(maindf)"
   ]
  },
  {
   "cell_type": "code",
   "execution_count": null,
   "metadata": {},
   "outputs": [],
   "source": []
  },
  {
   "cell_type": "markdown",
   "metadata": {},
   "source": [
    "##### EPL Standings Board\n",
    "EPL Standings Board can be extracted from the same wikipedia page. The aim is to extract all the information on the EPL standing baord. After the web scrawling, the information is stored in \"pointdf\" dataframe. The main information of this dataframe is the Points for each time. This is the labelled variable of this analysis"
   ]
  },
  {
   "cell_type": "code",
   "execution_count": 7,
   "metadata": {},
   "outputs": [],
   "source": [
    "right_table=page_soup.find_all('table')\n",
    "r_table2 = right_table[4].tbody\n",
    "rows2 = r_table2.find_all('tr')\n",
    "pcolumns = [v.text.replace('\\n','') for v in rows2[0].find_all('th')]\n",
    "pcolumns.remove('Qualification or relegation')\n",
    "pcolumns.remove('Pos')\n",
    "pcolumns = ['Team', 'Pld', 'W', 'D', 'L', 'GF', 'GA', 'GD', 'Pts']"
   ]
  },
  {
   "cell_type": "code",
   "execution_count": 8,
   "metadata": {},
   "outputs": [
    {
     "data": {
      "text/html": [
       "<div>\n",
       "<style scoped>\n",
       "    .dataframe tbody tr th:only-of-type {\n",
       "        vertical-align: middle;\n",
       "    }\n",
       "\n",
       "    .dataframe tbody tr th {\n",
       "        vertical-align: top;\n",
       "    }\n",
       "\n",
       "    .dataframe thead th {\n",
       "        text-align: right;\n",
       "    }\n",
       "</style>\n",
       "<table border=\"1\" class=\"dataframe\">\n",
       "  <thead>\n",
       "    <tr style=\"text-align: right;\">\n",
       "      <th></th>\n",
       "      <th>Team</th>\n",
       "      <th>Pld</th>\n",
       "      <th>W</th>\n",
       "      <th>D</th>\n",
       "      <th>L</th>\n",
       "      <th>GF</th>\n",
       "      <th>GA</th>\n",
       "      <th>GD</th>\n",
       "      <th>Pts</th>\n",
       "    </tr>\n",
       "  </thead>\n",
       "  <tbody>\n",
       "  </tbody>\n",
       "</table>\n",
       "</div>"
      ],
      "text/plain": [
       "Empty DataFrame\n",
       "Columns: [Team, Pld, W, D, L, GF, GA, GD, Pts]\n",
       "Index: []"
      ]
     },
     "execution_count": 8,
     "metadata": {},
     "output_type": "execute_result"
    }
   ],
   "source": [
    "## Rename columns to shortform\n",
    "#newcolumns = ['Rank','Country','Elec_Consp','Data_Yr','Source','Population','As_of','Avg_Elec_kWh','Avg_Elec_W']\n",
    "pointdf=[]\n",
    "pointdf = pd.DataFrame(columns = pcolumns)\n",
    "pointdf"
   ]
  },
  {
   "cell_type": "code",
   "execution_count": 9,
   "metadata": {
    "scrolled": true
   },
   "outputs": [
    {
     "name": "stdout",
     "output_type": "stream",
     "text": [
      "                       Team Pld   W   D   L  GF  GA   GD Pts\n",
      "0          Liverpool (C, Q)  31  28   2   1  70  21  +49  86\n",
      "1        Manchester City[a]  31  20   3   8  77  33  +44  63\n",
      "2            Leicester City  32  16   7   9  60  31  +29  55\n",
      "3                   Chelsea  32  16   6  10  57  44  +13  54\n",
      "4         Manchester United  32  14  10   8  51  31  +20  52\n",
      "5   Wolverhampton Wanderers  32  13  13   6  45  34  +11  52\n",
      "6          Sheffield United  32  12  11   9  33  32   +1  47\n",
      "7                   Arsenal  32  11  13   8  47  41   +6  46\n",
      "8         Tottenham Hotspur  32  12   9  11  51  44   +7  45\n",
      "9                   Burnley  32  13   6  13  36  45   −9  45\n",
      "10                  Everton  32  12   8  12  40  47   −7  44\n",
      "11           Crystal Palace  32  11   9  12  28  37   −9  42\n",
      "12         Newcastle United  32  11   9  12  33  43  −10  42\n",
      "13              Southampton  32  12   4  16  41  55  −14  40\n",
      "14   Brighton & Hove Albion  32   7  12  13  34  44  −10  33\n",
      "15          West Ham United  32   8   6  18  38  56  −18  30\n",
      "16                  Watford  32   6  10  16  29  49  −20  28\n",
      "17              Aston Villa  32   7   6  19  36  60  −24  27\n",
      "18              Bournemouth  32   7   6  19  30  54  −24  27\n",
      "19             Norwich City  32   5   6  21  25  60  −35  21\n"
     ]
    }
   ],
   "source": [
    "##row 0 is the table header. Value collection start at row 1\n",
    "for i in range (1, len(rows)):\n",
    "    tds = rows2[i].find_all('td')\n",
    "    pvalues = [tds[0].text.replace('\\n',''), tds[1].text.replace('\\n',''), tds[2].text.replace('\\n',''), \n",
    "               tds[3].text.replace('\\n',''),tds[4].text.replace('\\n',''),tds[5].text.replace('\\n',''), \n",
    "               tds[6].text.replace('\\n',''),tds[7].text.replace('\\n',''),tds[8].text.replace('\\n','')]\n",
    "\n",
    "##Use break function to examine the for loop at initial stage (Checkpoint)\n",
    "#    break\n",
    "    pointdf = pointdf.append(pd.Series(pvalues, index=pcolumns),ignore_index=True)\n",
    "print(pointdf)"
   ]
  },
  {
   "cell_type": "code",
   "execution_count": null,
   "metadata": {},
   "outputs": [],
   "source": []
  },
  {
   "cell_type": "code",
   "execution_count": null,
   "metadata": {},
   "outputs": [],
   "source": []
  },
  {
   "cell_type": "markdown",
   "metadata": {},
   "source": [
    "##### Manager Data\n",
    "Manager data can be extracted from wikipedia page. Each manager name in wikipedia table consists of the hyperlink of manager profile. By extracting the \"href\" information, I can get the url for each manager profile website. ALl the information is stored under \"managerdf\" dataframe\n"
   ]
  },
  {
   "cell_type": "code",
   "execution_count": 10,
   "metadata": {},
   "outputs": [],
   "source": [
    "## Test Point\n",
    "## Extract the wikipedia url for each manager\n",
    "manager_url ='https://en.wikipedia.org'+team[1] .find('span',{'class':'vcard'}).a['href']\n",
    "#manager_url\n",
    "manager_html = urllib.request.urlopen(manager_url)\n",
    "manager_soup = soup(manager_html, \"lxml\")"
   ]
  },
  {
   "cell_type": "code",
   "execution_count": 11,
   "metadata": {},
   "outputs": [],
   "source": [
    "def managerage(couch_url):\n",
    "    manager_html = urllib.request.urlopen(manager_url)\n",
    "    manager_soup = soup(manager_html, \"lxml\")\n",
    "    c_table=manager_soup.find('table', {'class':'infobox vcard'}).tbody\n",
    "    age = c_table.find('span',{'class':'noprint ForceAgeToShow'}).text.replace('age\\xa0','') \n",
    "    return age\n",
    "\n",
    "def managername(couch_url):\n",
    "    manager_html = urllib.request.urlopen(manager_url)\n",
    "    manager_soup = soup(manager_html, \"lxml\")\n",
    "    c_table=manager_soup.find('table', {'class':'infobox vcard'}).tbody\n",
    "    c_table=manager_soup.find('table', {'class':'infobox vcard'})\n",
    "    name = c_table.span.text\n",
    "    return name  "
   ]
  },
  {
   "cell_type": "code",
   "execution_count": 12,
   "metadata": {},
   "outputs": [],
   "source": [
    "managerdf=[]\n",
    "ccolumns = ['Manager','Age']\n",
    "managerdf = pd.DataFrame(columns = ccolumns)\n",
    "for i in range (1, len(rows)):\n",
    "    cteam = rows[i].find_all('td')\n",
    "    manager_url ='https://en.wikipedia.org'+cteam[1] .find('span',{'class':'vcard'}).a['href']\n",
    "    value1 = cteam[1].text.replace('\\n','')\n",
    "    value2 = managerage(manager_url)\n",
    "    #print(value1, value2)\n",
    "    #break\n",
    "    cvalues = [value1, value2]\n",
    "    managerdf = managerdf.append(pd.Series(cvalues,index=ccolumns),ignore_index=True)"
   ]
  },
  {
   "cell_type": "markdown",
   "metadata": {},
   "source": [
    "##### Captain Data\n",
    "Captain data can be extracted from wikipedia page. Each captain name in wikipedia table consists of the hyperlink of captain profile. By extracting the \"href\" information, I can get the url for each captain profile website. All information is stored under \"capdf\" dataframe"
   ]
  },
  {
   "cell_type": "code",
   "execution_count": 119,
   "metadata": {},
   "outputs": [],
   "source": [
    "## Test Point\n",
    "## Extract the wikipedia url for each team's Captain\n",
    "cap_url ='https://en.wikipedia.org'+team[2] .find('span',{'class':'vcard'}).a['href']\n",
    "cap_url\n",
    "cap_html = urllib.request.urlopen(cap_url)\n",
    "cap_soup = soup(cap_html, \"lxml\")\n",
    "## Checkpoint\n",
    "#cap_soup.find('td',{'class':'birthplace'}).a['title']"
   ]
  },
  {
   "cell_type": "code",
   "execution_count": 15,
   "metadata": {},
   "outputs": [],
   "source": [
    "def capage(cap_url):\n",
    "    cap_html = urllib.request.urlopen(cap_url)\n",
    "    cap_soup = soup(cap_html, \"lxml\")\n",
    "    c_table=cap_soup.find('table', {'class':'infobox vcard'}).tbody\n",
    "    age = c_table.find('span',{'class':'noprint ForceAgeToShow'}).text.replace('age\\xa0','') \n",
    "    return age\n",
    "\n",
    "def cappos(cap_url):\n",
    "    cap_html = urllib.request.urlopen(cap_url)\n",
    "    cap_soup = soup(cap_html, \"lxml\")\n",
    "    c_table=cap_soup.find('table', {'class':'infobox vcard'}).tbody\n",
    "    pos = cap_soup.find('td',{'class':'role'}).a['title'] \n",
    "    return pos\n",
    "\n",
    "def capbirth(cap_url):\n",
    "    cap_html = urllib.request.urlopen(cap_url)\n",
    "    cap_soup = soup(cap_html, \"lxml\")\n",
    "    c_table=cap_soup.find('table', {'class':'infobox vcard'}).tbody\n",
    "    birth = cap_soup.find('td',{'class':'birthplace'}).a['title']\n",
    "    return birth"
   ]
  },
  {
   "cell_type": "code",
   "execution_count": 120,
   "metadata": {},
   "outputs": [
    {
     "ename": "AttributeError",
     "evalue": "ResultSet object has no attribute 'find'. You're probably treating a list of elements like a single element. Did you call find_all() when you meant to call find()?",
     "output_type": "error",
     "traceback": [
      "\u001b[1;31m---------------------------------------------------------------------------\u001b[0m",
      "\u001b[1;31mAttributeError\u001b[0m                            Traceback (most recent call last)",
      "\u001b[1;32m<ipython-input-120-ffffe2fee9b2>\u001b[0m in \u001b[0;36m<module>\u001b[1;34m\u001b[0m\n\u001b[0;32m      6\u001b[0m     \u001b[0mcap_url\u001b[0m \u001b[1;33m=\u001b[0m\u001b[1;34m'https://en.wikipedia.org'\u001b[0m\u001b[1;33m+\u001b[0m\u001b[0mcapteam\u001b[0m\u001b[1;33m[\u001b[0m\u001b[1;36m2\u001b[0m\u001b[1;33m]\u001b[0m\u001b[1;33m.\u001b[0m\u001b[0mfind\u001b[0m\u001b[1;33m(\u001b[0m\u001b[1;34m'span'\u001b[0m\u001b[1;33m,\u001b[0m\u001b[1;33m{\u001b[0m\u001b[1;34m'class'\u001b[0m\u001b[1;33m:\u001b[0m\u001b[1;34m'vcard'\u001b[0m\u001b[1;33m}\u001b[0m\u001b[1;33m)\u001b[0m\u001b[1;33m.\u001b[0m\u001b[0ma\u001b[0m\u001b[1;33m[\u001b[0m\u001b[1;34m'href'\u001b[0m\u001b[1;33m]\u001b[0m\u001b[1;33m\u001b[0m\u001b[1;33m\u001b[0m\u001b[0m\n\u001b[0;32m      7\u001b[0m     \u001b[0mvalue1\u001b[0m \u001b[1;33m=\u001b[0m \u001b[0mcapteam\u001b[0m\u001b[1;33m[\u001b[0m\u001b[1;36m2\u001b[0m\u001b[1;33m]\u001b[0m\u001b[1;33m.\u001b[0m\u001b[0mtext\u001b[0m\u001b[1;33m.\u001b[0m\u001b[0mreplace\u001b[0m\u001b[1;33m(\u001b[0m\u001b[1;34m'\\n'\u001b[0m\u001b[1;33m,\u001b[0m\u001b[1;34m''\u001b[0m\u001b[1;33m)\u001b[0m\u001b[1;33m\u001b[0m\u001b[1;33m\u001b[0m\u001b[0m\n\u001b[1;32m----> 8\u001b[1;33m     \u001b[0mvalue2\u001b[0m \u001b[1;33m=\u001b[0m \u001b[0mcapage\u001b[0m\u001b[1;33m(\u001b[0m\u001b[0mcap_url\u001b[0m\u001b[1;33m)\u001b[0m\u001b[1;33m\u001b[0m\u001b[1;33m\u001b[0m\u001b[0m\n\u001b[0m\u001b[0;32m      9\u001b[0m     \u001b[0mvalue3\u001b[0m \u001b[1;33m=\u001b[0m \u001b[0mcappos\u001b[0m\u001b[1;33m(\u001b[0m\u001b[0mcap_url\u001b[0m\u001b[1;33m)\u001b[0m\u001b[1;33m\u001b[0m\u001b[1;33m\u001b[0m\u001b[0m\n\u001b[0;32m     10\u001b[0m     \u001b[0mvalue4\u001b[0m \u001b[1;33m=\u001b[0m \u001b[0mcapbirth\u001b[0m\u001b[1;33m(\u001b[0m\u001b[0mcap_url\u001b[0m\u001b[1;33m)\u001b[0m\u001b[1;33m\u001b[0m\u001b[1;33m\u001b[0m\u001b[0m\n",
      "\u001b[1;32m<ipython-input-15-a26258001441>\u001b[0m in \u001b[0;36mcapage\u001b[1;34m(cap_url)\u001b[0m\n\u001b[0;32m      2\u001b[0m     \u001b[0mcap_html\u001b[0m \u001b[1;33m=\u001b[0m \u001b[0murllib\u001b[0m\u001b[1;33m.\u001b[0m\u001b[0mrequest\u001b[0m\u001b[1;33m.\u001b[0m\u001b[0murlopen\u001b[0m\u001b[1;33m(\u001b[0m\u001b[0mcap_url\u001b[0m\u001b[1;33m)\u001b[0m\u001b[1;33m\u001b[0m\u001b[1;33m\u001b[0m\u001b[0m\n\u001b[0;32m      3\u001b[0m     \u001b[0mcap_soup\u001b[0m \u001b[1;33m=\u001b[0m \u001b[0msoup\u001b[0m\u001b[1;33m(\u001b[0m\u001b[0mcap_html\u001b[0m\u001b[1;33m,\u001b[0m \u001b[1;34m\"lxml\"\u001b[0m\u001b[1;33m)\u001b[0m\u001b[1;33m\u001b[0m\u001b[1;33m\u001b[0m\u001b[0m\n\u001b[1;32m----> 4\u001b[1;33m     \u001b[0mc_table\u001b[0m\u001b[1;33m=\u001b[0m\u001b[0mcap_soup\u001b[0m\u001b[1;33m.\u001b[0m\u001b[0mfind\u001b[0m\u001b[1;33m(\u001b[0m\u001b[1;34m'table'\u001b[0m\u001b[1;33m,\u001b[0m \u001b[1;33m{\u001b[0m\u001b[1;34m'class'\u001b[0m\u001b[1;33m:\u001b[0m\u001b[1;34m'infobox vcard'\u001b[0m\u001b[1;33m}\u001b[0m\u001b[1;33m)\u001b[0m\u001b[1;33m.\u001b[0m\u001b[0mtbody\u001b[0m\u001b[1;33m\u001b[0m\u001b[1;33m\u001b[0m\u001b[0m\n\u001b[0m\u001b[0;32m      5\u001b[0m     \u001b[0mage\u001b[0m \u001b[1;33m=\u001b[0m \u001b[0mc_table\u001b[0m\u001b[1;33m.\u001b[0m\u001b[0mfind\u001b[0m\u001b[1;33m(\u001b[0m\u001b[1;34m'span'\u001b[0m\u001b[1;33m,\u001b[0m\u001b[1;33m{\u001b[0m\u001b[1;34m'class'\u001b[0m\u001b[1;33m:\u001b[0m\u001b[1;34m'noprint ForceAgeToShow'\u001b[0m\u001b[1;33m}\u001b[0m\u001b[1;33m)\u001b[0m\u001b[1;33m.\u001b[0m\u001b[0mtext\u001b[0m\u001b[1;33m.\u001b[0m\u001b[0mreplace\u001b[0m\u001b[1;33m(\u001b[0m\u001b[1;34m'age\\xa0'\u001b[0m\u001b[1;33m,\u001b[0m\u001b[1;34m''\u001b[0m\u001b[1;33m)\u001b[0m\u001b[1;33m\u001b[0m\u001b[1;33m\u001b[0m\u001b[0m\n\u001b[0;32m      6\u001b[0m     \u001b[1;32mreturn\u001b[0m \u001b[0mage\u001b[0m\u001b[1;33m\u001b[0m\u001b[1;33m\u001b[0m\u001b[0m\n",
      "\u001b[1;32mD:\\software\\anaconda\\lib\\site-packages\\bs4\\element.py\u001b[0m in \u001b[0;36m__getattr__\u001b[1;34m(self, key)\u001b[0m\n\u001b[0;32m   2079\u001b[0m         \u001b[1;34m\"\"\"Raise a helpful exception to explain a common code fix.\"\"\"\u001b[0m\u001b[1;33m\u001b[0m\u001b[1;33m\u001b[0m\u001b[0m\n\u001b[0;32m   2080\u001b[0m         raise AttributeError(\n\u001b[1;32m-> 2081\u001b[1;33m             \u001b[1;34m\"ResultSet object has no attribute '%s'. You're probably treating a list of elements like a single element. Did you call find_all() when you meant to call find()?\"\u001b[0m \u001b[1;33m%\u001b[0m \u001b[0mkey\u001b[0m\u001b[1;33m\u001b[0m\u001b[1;33m\u001b[0m\u001b[0m\n\u001b[0m\u001b[0;32m   2082\u001b[0m         )\n",
      "\u001b[1;31mAttributeError\u001b[0m: ResultSet object has no attribute 'find'. You're probably treating a list of elements like a single element. Did you call find_all() when you meant to call find()?"
     ]
    }
   ],
   "source": [
    "capdf=[]\n",
    "capcolumns = ['Captain','Age','Pos','BirthPlace']\n",
    "capdf = pd.DataFrame(columns = capcolumns)\n",
    "for i in range (1, len(rows)):\n",
    "    capteam = rows[i].find_all('td')\n",
    "    cap_url ='https://en.wikipedia.org'+capteam[2].find('span',{'class':'vcard'}).a['href']\n",
    "    value1 = capteam[2].text.replace('\\n','')\n",
    "    value2 = capage(cap_url)\n",
    "    value3 = cappos(cap_url)\n",
    "    value4 = capbirth(cap_url)\n",
    "    ## Checkpoint\n",
    "    print(value1, value2, value3, value4)\n",
    "    break\n",
    "    cvalues = [value1, value2, value3, value4]\n",
    "    capdf = capdf.append(pd.Series(cvalues,index=capcolumns),ignore_index=True)"
   ]
  },
  {
   "cell_type": "code",
   "execution_count": 17,
   "metadata": {},
   "outputs": [
    {
     "data": {
      "text/html": [
       "<div>\n",
       "<style scoped>\n",
       "    .dataframe tbody tr th:only-of-type {\n",
       "        vertical-align: middle;\n",
       "    }\n",
       "\n",
       "    .dataframe tbody tr th {\n",
       "        vertical-align: top;\n",
       "    }\n",
       "\n",
       "    .dataframe thead th {\n",
       "        text-align: right;\n",
       "    }\n",
       "</style>\n",
       "<table border=\"1\" class=\"dataframe\">\n",
       "  <thead>\n",
       "    <tr style=\"text-align: right;\">\n",
       "      <th></th>\n",
       "      <th>Captain</th>\n",
       "      <th>Age</th>\n",
       "      <th>Pos</th>\n",
       "      <th>BirthPlace</th>\n",
       "    </tr>\n",
       "  </thead>\n",
       "  <tbody>\n",
       "    <tr>\n",
       "      <th>0</th>\n",
       "      <td>Pierre-Emerick Aubameyang</td>\n",
       "      <td>(31)</td>\n",
       "      <td>Forward (association football)</td>\n",
       "      <td>Laval, Mayenne</td>\n",
       "    </tr>\n",
       "    <tr>\n",
       "      <th>1</th>\n",
       "      <td>Jack Grealish</td>\n",
       "      <td>(24)</td>\n",
       "      <td>Midfielder</td>\n",
       "      <td>Birmingham</td>\n",
       "    </tr>\n",
       "    <tr>\n",
       "      <th>2</th>\n",
       "      <td>Simon Francis</td>\n",
       "      <td>(35)</td>\n",
       "      <td>Defender (association football)</td>\n",
       "      <td>Nottingham</td>\n",
       "    </tr>\n",
       "    <tr>\n",
       "      <th>3</th>\n",
       "      <td>Lewis Dunk</td>\n",
       "      <td>(28)</td>\n",
       "      <td>Centre back</td>\n",
       "      <td>Brighton</td>\n",
       "    </tr>\n",
       "    <tr>\n",
       "      <th>4</th>\n",
       "      <td>Ben Mee</td>\n",
       "      <td>(30)</td>\n",
       "      <td>Defender (association football)</td>\n",
       "      <td>Sale, Greater Manchester</td>\n",
       "    </tr>\n",
       "    <tr>\n",
       "      <th>5</th>\n",
       "      <td>César Azpilicueta</td>\n",
       "      <td>(30)</td>\n",
       "      <td>Defender (association football)</td>\n",
       "      <td>Pamplona</td>\n",
       "    </tr>\n",
       "    <tr>\n",
       "      <th>6</th>\n",
       "      <td>Luka Milivojević</td>\n",
       "      <td>(29)</td>\n",
       "      <td>Midfielder</td>\n",
       "      <td>Kragujevac</td>\n",
       "    </tr>\n",
       "    <tr>\n",
       "      <th>7</th>\n",
       "      <td>Séamus Coleman</td>\n",
       "      <td>(31)</td>\n",
       "      <td>Defender (association football)</td>\n",
       "      <td>Killybegs</td>\n",
       "    </tr>\n",
       "    <tr>\n",
       "      <th>8</th>\n",
       "      <td>Kasper Schmeichel</td>\n",
       "      <td>(33)</td>\n",
       "      <td>Goalkeeper (association football)</td>\n",
       "      <td>Copenhagen</td>\n",
       "    </tr>\n",
       "    <tr>\n",
       "      <th>9</th>\n",
       "      <td>Jordan Henderson</td>\n",
       "      <td>(30)</td>\n",
       "      <td>Midfielder</td>\n",
       "      <td>Sunderland</td>\n",
       "    </tr>\n",
       "    <tr>\n",
       "      <th>10</th>\n",
       "      <td>David Silva</td>\n",
       "      <td>(34)</td>\n",
       "      <td>Midfielder</td>\n",
       "      <td>Arguineguín</td>\n",
       "    </tr>\n",
       "    <tr>\n",
       "      <th>11</th>\n",
       "      <td>Harry Maguire[88]</td>\n",
       "      <td>(27)</td>\n",
       "      <td>Centre back</td>\n",
       "      <td>Sheffield</td>\n",
       "    </tr>\n",
       "    <tr>\n",
       "      <th>12</th>\n",
       "      <td>Jamaal Lascelles</td>\n",
       "      <td>(26)</td>\n",
       "      <td>Defender (association football)</td>\n",
       "      <td>Derby</td>\n",
       "    </tr>\n",
       "    <tr>\n",
       "      <th>13</th>\n",
       "      <td>Grant Hanley</td>\n",
       "      <td>(28)</td>\n",
       "      <td>Defender (association football)</td>\n",
       "      <td>Dumfries</td>\n",
       "    </tr>\n",
       "    <tr>\n",
       "      <th>14</th>\n",
       "      <td>Billy Sharp</td>\n",
       "      <td>(34)</td>\n",
       "      <td>Striker (association football)</td>\n",
       "      <td>Sheffield</td>\n",
       "    </tr>\n",
       "    <tr>\n",
       "      <th>15</th>\n",
       "      <td>James Ward-Prowse</td>\n",
       "      <td>(25)</td>\n",
       "      <td>Defensive midfielder</td>\n",
       "      <td>Portsmouth</td>\n",
       "    </tr>\n",
       "    <tr>\n",
       "      <th>16</th>\n",
       "      <td>Hugo Lloris</td>\n",
       "      <td>(33)</td>\n",
       "      <td>Goalkeeper (association football)</td>\n",
       "      <td>Nice</td>\n",
       "    </tr>\n",
       "    <tr>\n",
       "      <th>17</th>\n",
       "      <td>Troy Deeney</td>\n",
       "      <td>(32)</td>\n",
       "      <td>Striker (association football)</td>\n",
       "      <td>Birmingham</td>\n",
       "    </tr>\n",
       "    <tr>\n",
       "      <th>18</th>\n",
       "      <td>Mark Noble</td>\n",
       "      <td>(33)</td>\n",
       "      <td>Central midfielder</td>\n",
       "      <td>Canning Town</td>\n",
       "    </tr>\n",
       "    <tr>\n",
       "      <th>19</th>\n",
       "      <td>Conor Coady</td>\n",
       "      <td>(27)</td>\n",
       "      <td>Defender (association football)</td>\n",
       "      <td>Liverpool</td>\n",
       "    </tr>\n",
       "  </tbody>\n",
       "</table>\n",
       "</div>"
      ],
      "text/plain": [
       "                       Captain    Age                                Pos  \\\n",
       "0    Pierre-Emerick Aubameyang   (31)     Forward (association football)   \n",
       "1                Jack Grealish   (24)                         Midfielder   \n",
       "2                Simon Francis   (35)    Defender (association football)   \n",
       "3                   Lewis Dunk   (28)                        Centre back   \n",
       "4                      Ben Mee   (30)    Defender (association football)   \n",
       "5            César Azpilicueta   (30)    Defender (association football)   \n",
       "6             Luka Milivojević   (29)                         Midfielder   \n",
       "7               Séamus Coleman   (31)    Defender (association football)   \n",
       "8            Kasper Schmeichel   (33)  Goalkeeper (association football)   \n",
       "9             Jordan Henderson   (30)                         Midfielder   \n",
       "10                 David Silva   (34)                         Midfielder   \n",
       "11           Harry Maguire[88]   (27)                        Centre back   \n",
       "12            Jamaal Lascelles   (26)    Defender (association football)   \n",
       "13                Grant Hanley   (28)    Defender (association football)   \n",
       "14                 Billy Sharp   (34)     Striker (association football)   \n",
       "15          James Ward-Prowse    (25)               Defensive midfielder   \n",
       "16                 Hugo Lloris   (33)  Goalkeeper (association football)   \n",
       "17                 Troy Deeney   (32)     Striker (association football)   \n",
       "18                  Mark Noble   (33)                 Central midfielder   \n",
       "19                 Conor Coady   (27)    Defender (association football)   \n",
       "\n",
       "                  BirthPlace  \n",
       "0             Laval, Mayenne  \n",
       "1                 Birmingham  \n",
       "2                 Nottingham  \n",
       "3                   Brighton  \n",
       "4   Sale, Greater Manchester  \n",
       "5                   Pamplona  \n",
       "6                 Kragujevac  \n",
       "7                  Killybegs  \n",
       "8                 Copenhagen  \n",
       "9                 Sunderland  \n",
       "10               Arguineguín  \n",
       "11                 Sheffield  \n",
       "12                     Derby  \n",
       "13                  Dumfries  \n",
       "14                 Sheffield  \n",
       "15                Portsmouth  \n",
       "16                      Nice  \n",
       "17                Birmingham  \n",
       "18              Canning Town  \n",
       "19                 Liverpool  "
      ]
     },
     "execution_count": 17,
     "metadata": {},
     "output_type": "execute_result"
    }
   ],
   "source": [
    "capdf"
   ]
  },
  {
   "cell_type": "code",
   "execution_count": null,
   "metadata": {},
   "outputs": [],
   "source": []
  },
  {
   "cell_type": "markdown",
   "metadata": {},
   "source": [
    "Data Cleaning & Transformation"
   ]
  },
  {
   "cell_type": "code",
   "execution_count": 18,
   "metadata": {},
   "outputs": [
    {
     "data": {
      "text/html": [
       "<div>\n",
       "<style scoped>\n",
       "    .dataframe tbody tr th:only-of-type {\n",
       "        vertical-align: middle;\n",
       "    }\n",
       "\n",
       "    .dataframe tbody tr th {\n",
       "        vertical-align: top;\n",
       "    }\n",
       "\n",
       "    .dataframe thead th {\n",
       "        text-align: right;\n",
       "    }\n",
       "</style>\n",
       "<table border=\"1\" class=\"dataframe\">\n",
       "  <thead>\n",
       "    <tr style=\"text-align: right;\">\n",
       "      <th></th>\n",
       "      <th>Team</th>\n",
       "      <th>Manager</th>\n",
       "      <th>Captain</th>\n",
       "      <th>Kit manufacturer</th>\n",
       "    </tr>\n",
       "  </thead>\n",
       "  <tbody>\n",
       "    <tr>\n",
       "      <th>0</th>\n",
       "      <td>Arsenal</td>\n",
       "      <td>Mikel Arteta</td>\n",
       "      <td>Pierre-Emerick Aubameyang</td>\n",
       "      <td>Adidas[59]</td>\n",
       "    </tr>\n",
       "    <tr>\n",
       "      <th>1</th>\n",
       "      <td>Aston Villa</td>\n",
       "      <td>Dean Smith</td>\n",
       "      <td>Jack Grealish</td>\n",
       "      <td>Kappa[62]</td>\n",
       "    </tr>\n",
       "    <tr>\n",
       "      <th>2</th>\n",
       "      <td>Bournemouth</td>\n",
       "      <td>Eddie Howe</td>\n",
       "      <td>Simon Francis</td>\n",
       "      <td>Umbro[65]</td>\n",
       "    </tr>\n",
       "    <tr>\n",
       "      <th>3</th>\n",
       "      <td>Brighton &amp; Hove Albion</td>\n",
       "      <td>Graham Potter</td>\n",
       "      <td>Lewis Dunk</td>\n",
       "      <td>Nike[67]</td>\n",
       "    </tr>\n",
       "    <tr>\n",
       "      <th>4</th>\n",
       "      <td>Burnley</td>\n",
       "      <td>Sean Dyche</td>\n",
       "      <td>Ben Mee</td>\n",
       "      <td>Umbro</td>\n",
       "    </tr>\n",
       "  </tbody>\n",
       "</table>\n",
       "</div>"
      ],
      "text/plain": [
       "                     Team         Manager                     Captain  \\\n",
       "0                 Arsenal    Mikel Arteta   Pierre-Emerick Aubameyang   \n",
       "1             Aston Villa      Dean Smith               Jack Grealish   \n",
       "2             Bournemouth      Eddie Howe               Simon Francis   \n",
       "3  Brighton & Hove Albion   Graham Potter                  Lewis Dunk   \n",
       "4                 Burnley      Sean Dyche                     Ben Mee   \n",
       "\n",
       "  Kit manufacturer  \n",
       "0       Adidas[59]  \n",
       "1        Kappa[62]  \n",
       "2        Umbro[65]  \n",
       "3         Nike[67]  \n",
       "4            Umbro  "
      ]
     },
     "execution_count": 18,
     "metadata": {},
     "output_type": "execute_result"
    }
   ],
   "source": [
    "maindf.head()"
   ]
  },
  {
   "cell_type": "code",
   "execution_count": 19,
   "metadata": {},
   "outputs": [
    {
     "data": {
      "text/html": [
       "<div>\n",
       "<style scoped>\n",
       "    .dataframe tbody tr th:only-of-type {\n",
       "        vertical-align: middle;\n",
       "    }\n",
       "\n",
       "    .dataframe tbody tr th {\n",
       "        vertical-align: top;\n",
       "    }\n",
       "\n",
       "    .dataframe thead th {\n",
       "        text-align: right;\n",
       "    }\n",
       "</style>\n",
       "<table border=\"1\" class=\"dataframe\">\n",
       "  <thead>\n",
       "    <tr style=\"text-align: right;\">\n",
       "      <th></th>\n",
       "      <th>Manager</th>\n",
       "      <th>Age</th>\n",
       "    </tr>\n",
       "  </thead>\n",
       "  <tbody>\n",
       "    <tr>\n",
       "      <th>0</th>\n",
       "      <td>Mikel Arteta</td>\n",
       "      <td>(38)</td>\n",
       "    </tr>\n",
       "    <tr>\n",
       "      <th>1</th>\n",
       "      <td>Dean Smith</td>\n",
       "      <td>(49)</td>\n",
       "    </tr>\n",
       "    <tr>\n",
       "      <th>2</th>\n",
       "      <td>Eddie Howe</td>\n",
       "      <td>(42)</td>\n",
       "    </tr>\n",
       "    <tr>\n",
       "      <th>3</th>\n",
       "      <td>Graham Potter</td>\n",
       "      <td>(45)</td>\n",
       "    </tr>\n",
       "    <tr>\n",
       "      <th>4</th>\n",
       "      <td>Sean Dyche</td>\n",
       "      <td>(49)</td>\n",
       "    </tr>\n",
       "  </tbody>\n",
       "</table>\n",
       "</div>"
      ],
      "text/plain": [
       "          Manager    Age\n",
       "0    Mikel Arteta   (38)\n",
       "1      Dean Smith   (49)\n",
       "2      Eddie Howe   (42)\n",
       "3   Graham Potter   (45)\n",
       "4      Sean Dyche   (49)"
      ]
     },
     "execution_count": 19,
     "metadata": {},
     "output_type": "execute_result"
    }
   ],
   "source": [
    "managerdf.head()"
   ]
  },
  {
   "cell_type": "code",
   "execution_count": 20,
   "metadata": {},
   "outputs": [],
   "source": [
    "managerdf['Age'] = managerdf['Age'].replace(r'[^\\d\\.]+', '', regex=True).apply(pd.to_numeric, errors='coerce')"
   ]
  },
  {
   "cell_type": "code",
   "execution_count": null,
   "metadata": {},
   "outputs": [],
   "source": []
  },
  {
   "cell_type": "code",
   "execution_count": 21,
   "metadata": {},
   "outputs": [
    {
     "name": "stdout",
     "output_type": "stream",
     "text": [
      "                       Team Pld   W   D   L  GF  GA   GD Pts\n",
      "0                 Liverpool  31  28   2   1  70  21  +49  86\n",
      "1        Manchester City[a]  31  20   3   8  77  33  +44  63\n",
      "2            Leicester City  32  16   7   9  60  31  +29  55\n",
      "3                   Chelsea  32  16   6  10  57  44  +13  54\n",
      "4         Manchester United  32  14  10   8  51  31  +20  52\n",
      "5   Wolverhampton Wanderers  32  13  13   6  45  34  +11  52\n",
      "6          Sheffield United  32  12  11   9  33  32   +1  47\n",
      "7                   Arsenal  32  11  13   8  47  41   +6  46\n",
      "8         Tottenham Hotspur  32  12   9  11  51  44   +7  45\n",
      "9                   Burnley  32  13   6  13  36  45   −9  45\n",
      "10                  Everton  32  12   8  12  40  47   −7  44\n",
      "11           Crystal Palace  32  11   9  12  28  37   −9  42\n",
      "12         Newcastle United  32  11   9  12  33  43  −10  42\n",
      "13              Southampton  32  12   4  16  41  55  −14  40\n",
      "14   Brighton & Hove Albion  32   7  12  13  34  44  −10  33\n",
      "15          West Ham United  32   8   6  18  38  56  −18  30\n",
      "16                  Watford  32   6  10  16  29  49  −20  28\n",
      "17              Aston Villa  32   7   6  19  36  60  −24  27\n",
      "18              Bournemouth  32   7   6  19  30  54  −24  27\n",
      "19             Norwich City  32   5   6  21  25  60  −35  21\n"
     ]
    },
    {
     "name": "stderr",
     "output_type": "stream",
     "text": [
      "D:\\software\\anaconda\\lib\\site-packages\\ipykernel_launcher.py:2: SettingWithCopyWarning: \n",
      "A value is trying to be set on a copy of a slice from a DataFrame.\n",
      "Try using .loc[row_indexer,col_indexer] = value instead\n",
      "\n",
      "See the caveats in the documentation: https://pandas.pydata.org/pandas-docs/stable/user_guide/indexing.html#returning-a-view-versus-a-copy\n",
      "  \n"
     ]
    }
   ],
   "source": [
    "test = pointdf[:1] \n",
    "test['Team'] = test['Team'].str.split(' ').str[0]\n",
    "pointdf[:1] = test\n",
    "print(pointdf)"
   ]
  },
  {
   "cell_type": "code",
   "execution_count": 22,
   "metadata": {},
   "outputs": [],
   "source": [
    "pointdf = pointdf.rename(columns={'Team[ vte ]':'Team'})\n",
    "#pointdf['Team'] = pointdf['Team'].str.split('(').str[0]\n",
    "#pointdf['Team'] = pointdf['Team'].str.replace('()', '')\n",
    "pointdf['Team'] = pointdf['Team'].str.split('[').str[0]\n",
    "pointC = ('Pld', 'W', 'D', 'L', 'GF', 'GA', 'Pts')\n",
    "for i in pointC:\n",
    "    pointdf[i] = pointdf[i].astype(int)"
   ]
  },
  {
   "cell_type": "code",
   "execution_count": 82,
   "metadata": {},
   "outputs": [
    {
     "name": "stdout",
     "output_type": "stream",
     "text": [
      "                       Team  Pld   W   D   L  GF  GA   GD  Pts\n",
      "0                 Liverpool   31  28   2   1  70  21  +49   86\n",
      "1           Manchester City   31  20   3   8  77  33  +44   63\n",
      "2            Leicester City   31  16   7   8  59  29  +30   55\n",
      "3                   Chelsea   31  16   6   9  55  41  +14   54\n",
      "4   Wolverhampton Wanderers   32  13  13   6  45  34  +11   52\n",
      "5         Manchester United   31  13  10   8  48  31  +17   49\n",
      "6         Tottenham Hotspur   31  12   9  10  50  41   +9   45\n",
      "7          Sheffield United   31  11  11   9  30  31   −1   44\n",
      "8                   Arsenal   31  10  13   8  43  41   +2   43\n",
      "9            Crystal Palace   31  11   9  11  28  36   −8   42\n",
      "10                  Burnley   31  12   6  13  35  45  −10   42\n",
      "11                  Everton   31  11   8  12  38  46   −8   41\n",
      "12              Southampton   32  12   4  16  41  55  −14   40\n",
      "13         Newcastle United   31  10   9  12  29  42  −13   39\n",
      "14   Brighton & Hove Albion   31   7  12  12  34  41   −7   33\n",
      "15                  Watford   32   6  10  16  29  49  −20   28\n",
      "16          West Ham United   31   7   6  18  35  54  −19   27\n",
      "17              Bournemouth   31   7   6  18  29  50  −21   27\n",
      "18              Aston Villa   32   7   6  19  36  60  −24   27\n",
      "19             Norwich City   31   5   6  20  25  56  −31   21\n"
     ]
    }
   ],
   "source": [
    "print(pointdf)"
   ]
  },
  {
   "cell_type": "code",
   "execution_count": 23,
   "metadata": {},
   "outputs": [],
   "source": [
    "## Divide Point into 4 category\n",
    "def group(pts):\n",
    "    if pts < 30:\n",
    "        value = 1\n",
    "        return value\n",
    "    elif 30 <= pts and pts < 50:\n",
    "        value = 2\n",
    "        return value\n",
    "    else:\n",
    "        value = 3\n",
    "        return value"
   ]
  },
  {
   "cell_type": "code",
   "execution_count": 24,
   "metadata": {},
   "outputs": [],
   "source": [
    "pointdf['PtsCat'] = pointdf['Pts'].map(group)"
   ]
  },
  {
   "cell_type": "code",
   "execution_count": 25,
   "metadata": {
    "scrolled": true
   },
   "outputs": [
    {
     "data": {
      "text/html": [
       "<div>\n",
       "<style scoped>\n",
       "    .dataframe tbody tr th:only-of-type {\n",
       "        vertical-align: middle;\n",
       "    }\n",
       "\n",
       "    .dataframe tbody tr th {\n",
       "        vertical-align: top;\n",
       "    }\n",
       "\n",
       "    .dataframe thead th {\n",
       "        text-align: right;\n",
       "    }\n",
       "</style>\n",
       "<table border=\"1\" class=\"dataframe\">\n",
       "  <thead>\n",
       "    <tr style=\"text-align: right;\">\n",
       "      <th></th>\n",
       "      <th>Team</th>\n",
       "      <th>Pld</th>\n",
       "      <th>W</th>\n",
       "      <th>D</th>\n",
       "      <th>L</th>\n",
       "      <th>GF</th>\n",
       "      <th>GA</th>\n",
       "      <th>GD</th>\n",
       "      <th>Pts</th>\n",
       "      <th>PtsCat</th>\n",
       "    </tr>\n",
       "  </thead>\n",
       "  <tbody>\n",
       "    <tr>\n",
       "      <th>0</th>\n",
       "      <td>Liverpool</td>\n",
       "      <td>31</td>\n",
       "      <td>28</td>\n",
       "      <td>2</td>\n",
       "      <td>1</td>\n",
       "      <td>70</td>\n",
       "      <td>21</td>\n",
       "      <td>+49</td>\n",
       "      <td>86</td>\n",
       "      <td>3</td>\n",
       "    </tr>\n",
       "    <tr>\n",
       "      <th>1</th>\n",
       "      <td>Manchester City</td>\n",
       "      <td>31</td>\n",
       "      <td>20</td>\n",
       "      <td>3</td>\n",
       "      <td>8</td>\n",
       "      <td>77</td>\n",
       "      <td>33</td>\n",
       "      <td>+44</td>\n",
       "      <td>63</td>\n",
       "      <td>3</td>\n",
       "    </tr>\n",
       "    <tr>\n",
       "      <th>2</th>\n",
       "      <td>Leicester City</td>\n",
       "      <td>32</td>\n",
       "      <td>16</td>\n",
       "      <td>7</td>\n",
       "      <td>9</td>\n",
       "      <td>60</td>\n",
       "      <td>31</td>\n",
       "      <td>+29</td>\n",
       "      <td>55</td>\n",
       "      <td>3</td>\n",
       "    </tr>\n",
       "    <tr>\n",
       "      <th>3</th>\n",
       "      <td>Chelsea</td>\n",
       "      <td>32</td>\n",
       "      <td>16</td>\n",
       "      <td>6</td>\n",
       "      <td>10</td>\n",
       "      <td>57</td>\n",
       "      <td>44</td>\n",
       "      <td>+13</td>\n",
       "      <td>54</td>\n",
       "      <td>3</td>\n",
       "    </tr>\n",
       "    <tr>\n",
       "      <th>4</th>\n",
       "      <td>Manchester United</td>\n",
       "      <td>32</td>\n",
       "      <td>14</td>\n",
       "      <td>10</td>\n",
       "      <td>8</td>\n",
       "      <td>51</td>\n",
       "      <td>31</td>\n",
       "      <td>+20</td>\n",
       "      <td>52</td>\n",
       "      <td>3</td>\n",
       "    </tr>\n",
       "    <tr>\n",
       "      <th>5</th>\n",
       "      <td>Wolverhampton Wanderers</td>\n",
       "      <td>32</td>\n",
       "      <td>13</td>\n",
       "      <td>13</td>\n",
       "      <td>6</td>\n",
       "      <td>45</td>\n",
       "      <td>34</td>\n",
       "      <td>+11</td>\n",
       "      <td>52</td>\n",
       "      <td>3</td>\n",
       "    </tr>\n",
       "    <tr>\n",
       "      <th>6</th>\n",
       "      <td>Sheffield United</td>\n",
       "      <td>32</td>\n",
       "      <td>12</td>\n",
       "      <td>11</td>\n",
       "      <td>9</td>\n",
       "      <td>33</td>\n",
       "      <td>32</td>\n",
       "      <td>+1</td>\n",
       "      <td>47</td>\n",
       "      <td>2</td>\n",
       "    </tr>\n",
       "    <tr>\n",
       "      <th>7</th>\n",
       "      <td>Arsenal</td>\n",
       "      <td>32</td>\n",
       "      <td>11</td>\n",
       "      <td>13</td>\n",
       "      <td>8</td>\n",
       "      <td>47</td>\n",
       "      <td>41</td>\n",
       "      <td>+6</td>\n",
       "      <td>46</td>\n",
       "      <td>2</td>\n",
       "    </tr>\n",
       "    <tr>\n",
       "      <th>8</th>\n",
       "      <td>Tottenham Hotspur</td>\n",
       "      <td>32</td>\n",
       "      <td>12</td>\n",
       "      <td>9</td>\n",
       "      <td>11</td>\n",
       "      <td>51</td>\n",
       "      <td>44</td>\n",
       "      <td>+7</td>\n",
       "      <td>45</td>\n",
       "      <td>2</td>\n",
       "    </tr>\n",
       "    <tr>\n",
       "      <th>9</th>\n",
       "      <td>Burnley</td>\n",
       "      <td>32</td>\n",
       "      <td>13</td>\n",
       "      <td>6</td>\n",
       "      <td>13</td>\n",
       "      <td>36</td>\n",
       "      <td>45</td>\n",
       "      <td>−9</td>\n",
       "      <td>45</td>\n",
       "      <td>2</td>\n",
       "    </tr>\n",
       "    <tr>\n",
       "      <th>10</th>\n",
       "      <td>Everton</td>\n",
       "      <td>32</td>\n",
       "      <td>12</td>\n",
       "      <td>8</td>\n",
       "      <td>12</td>\n",
       "      <td>40</td>\n",
       "      <td>47</td>\n",
       "      <td>−7</td>\n",
       "      <td>44</td>\n",
       "      <td>2</td>\n",
       "    </tr>\n",
       "    <tr>\n",
       "      <th>11</th>\n",
       "      <td>Crystal Palace</td>\n",
       "      <td>32</td>\n",
       "      <td>11</td>\n",
       "      <td>9</td>\n",
       "      <td>12</td>\n",
       "      <td>28</td>\n",
       "      <td>37</td>\n",
       "      <td>−9</td>\n",
       "      <td>42</td>\n",
       "      <td>2</td>\n",
       "    </tr>\n",
       "    <tr>\n",
       "      <th>12</th>\n",
       "      <td>Newcastle United</td>\n",
       "      <td>32</td>\n",
       "      <td>11</td>\n",
       "      <td>9</td>\n",
       "      <td>12</td>\n",
       "      <td>33</td>\n",
       "      <td>43</td>\n",
       "      <td>−10</td>\n",
       "      <td>42</td>\n",
       "      <td>2</td>\n",
       "    </tr>\n",
       "    <tr>\n",
       "      <th>13</th>\n",
       "      <td>Southampton</td>\n",
       "      <td>32</td>\n",
       "      <td>12</td>\n",
       "      <td>4</td>\n",
       "      <td>16</td>\n",
       "      <td>41</td>\n",
       "      <td>55</td>\n",
       "      <td>−14</td>\n",
       "      <td>40</td>\n",
       "      <td>2</td>\n",
       "    </tr>\n",
       "    <tr>\n",
       "      <th>14</th>\n",
       "      <td>Brighton &amp; Hove Albion</td>\n",
       "      <td>32</td>\n",
       "      <td>7</td>\n",
       "      <td>12</td>\n",
       "      <td>13</td>\n",
       "      <td>34</td>\n",
       "      <td>44</td>\n",
       "      <td>−10</td>\n",
       "      <td>33</td>\n",
       "      <td>2</td>\n",
       "    </tr>\n",
       "    <tr>\n",
       "      <th>15</th>\n",
       "      <td>West Ham United</td>\n",
       "      <td>32</td>\n",
       "      <td>8</td>\n",
       "      <td>6</td>\n",
       "      <td>18</td>\n",
       "      <td>38</td>\n",
       "      <td>56</td>\n",
       "      <td>−18</td>\n",
       "      <td>30</td>\n",
       "      <td>2</td>\n",
       "    </tr>\n",
       "    <tr>\n",
       "      <th>16</th>\n",
       "      <td>Watford</td>\n",
       "      <td>32</td>\n",
       "      <td>6</td>\n",
       "      <td>10</td>\n",
       "      <td>16</td>\n",
       "      <td>29</td>\n",
       "      <td>49</td>\n",
       "      <td>−20</td>\n",
       "      <td>28</td>\n",
       "      <td>1</td>\n",
       "    </tr>\n",
       "    <tr>\n",
       "      <th>17</th>\n",
       "      <td>Aston Villa</td>\n",
       "      <td>32</td>\n",
       "      <td>7</td>\n",
       "      <td>6</td>\n",
       "      <td>19</td>\n",
       "      <td>36</td>\n",
       "      <td>60</td>\n",
       "      <td>−24</td>\n",
       "      <td>27</td>\n",
       "      <td>1</td>\n",
       "    </tr>\n",
       "    <tr>\n",
       "      <th>18</th>\n",
       "      <td>Bournemouth</td>\n",
       "      <td>32</td>\n",
       "      <td>7</td>\n",
       "      <td>6</td>\n",
       "      <td>19</td>\n",
       "      <td>30</td>\n",
       "      <td>54</td>\n",
       "      <td>−24</td>\n",
       "      <td>27</td>\n",
       "      <td>1</td>\n",
       "    </tr>\n",
       "    <tr>\n",
       "      <th>19</th>\n",
       "      <td>Norwich City</td>\n",
       "      <td>32</td>\n",
       "      <td>5</td>\n",
       "      <td>6</td>\n",
       "      <td>21</td>\n",
       "      <td>25</td>\n",
       "      <td>60</td>\n",
       "      <td>−35</td>\n",
       "      <td>21</td>\n",
       "      <td>1</td>\n",
       "    </tr>\n",
       "  </tbody>\n",
       "</table>\n",
       "</div>"
      ],
      "text/plain": [
       "                       Team  Pld   W   D   L  GF  GA   GD  Pts  PtsCat\n",
       "0                 Liverpool   31  28   2   1  70  21  +49   86       3\n",
       "1           Manchester City   31  20   3   8  77  33  +44   63       3\n",
       "2            Leicester City   32  16   7   9  60  31  +29   55       3\n",
       "3                   Chelsea   32  16   6  10  57  44  +13   54       3\n",
       "4         Manchester United   32  14  10   8  51  31  +20   52       3\n",
       "5   Wolverhampton Wanderers   32  13  13   6  45  34  +11   52       3\n",
       "6          Sheffield United   32  12  11   9  33  32   +1   47       2\n",
       "7                   Arsenal   32  11  13   8  47  41   +6   46       2\n",
       "8         Tottenham Hotspur   32  12   9  11  51  44   +7   45       2\n",
       "9                   Burnley   32  13   6  13  36  45   −9   45       2\n",
       "10                  Everton   32  12   8  12  40  47   −7   44       2\n",
       "11           Crystal Palace   32  11   9  12  28  37   −9   42       2\n",
       "12         Newcastle United   32  11   9  12  33  43  −10   42       2\n",
       "13              Southampton   32  12   4  16  41  55  −14   40       2\n",
       "14   Brighton & Hove Albion   32   7  12  13  34  44  −10   33       2\n",
       "15          West Ham United   32   8   6  18  38  56  −18   30       2\n",
       "16                  Watford   32   6  10  16  29  49  −20   28       1\n",
       "17              Aston Villa   32   7   6  19  36  60  −24   27       1\n",
       "18              Bournemouth   32   7   6  19  30  54  −24   27       1\n",
       "19             Norwich City   32   5   6  21  25  60  −35   21       1"
      ]
     },
     "execution_count": 25,
     "metadata": {},
     "output_type": "execute_result"
    }
   ],
   "source": [
    "pointdf"
   ]
  },
  {
   "cell_type": "code",
   "execution_count": null,
   "metadata": {},
   "outputs": [],
   "source": []
  },
  {
   "cell_type": "code",
   "execution_count": 26,
   "metadata": {},
   "outputs": [],
   "source": [
    "capdf['Age'] = capdf['Age'].replace(r'[^\\d\\.]+', '', regex=True).apply(pd.to_numeric, errors='coerce')\n",
    "capdf['Pos'] = capdf['Pos'].str.strip('(association football)')\n"
   ]
  },
  {
   "cell_type": "code",
   "execution_count": 27,
   "metadata": {},
   "outputs": [],
   "source": [
    "def grouppos(pos):\n",
    "    pos = pos.lower()\n",
    "    if 'goalkeeper' in pos:\n",
    "        value = 0\n",
    "        return value\n",
    "    elif 'back' in pos or 'defender' in pos:\n",
    "        value = 1\n",
    "        return value\n",
    "    elif \"midfielder\" in pos:\n",
    "        value = 2\n",
    "        return value\n",
    "    elif 'forward' in pos or 'striker' in pos:\n",
    "        value = 3\n",
    "        return value"
   ]
  },
  {
   "cell_type": "code",
   "execution_count": 28,
   "metadata": {},
   "outputs": [],
   "source": [
    "capdf['PosCat'] = capdf['Pos'].map(grouppos)"
   ]
  },
  {
   "cell_type": "code",
   "execution_count": null,
   "metadata": {},
   "outputs": [],
   "source": []
  },
  {
   "cell_type": "code",
   "execution_count": 29,
   "metadata": {},
   "outputs": [],
   "source": [
    "import requests\n",
    "from bs4 import BeautifulSoup\n",
    "import pandas as pd\n",
    "import re\n",
    "import sys, getopt\n",
    "import csv\n",
    "url = 'https://fbref.com/en/comps/9/Premier-League-Stats'\n",
    "res = requests.get(url)\n",
    "## The next two lines get around the issue with comments breaking the parsing.\n",
    "comm = re.compile(\"<!--|-->\")\n",
    "soup = BeautifulSoup(comm.sub(\"\",res.text),'lxml')\n",
    "all_tables4 = soup.findAll(\"tbody\")"
   ]
  },
  {
   "cell_type": "code",
   "execution_count": 31,
   "metadata": {},
   "outputs": [
    {
     "name": "stdout",
     "output_type": "stream",
     "text": [
      "               Team  Pl  Poss Gls Ast PK CrdY CrdR\n",
      "0           Arsenal  29  54.8  47  29  2   70    4\n",
      "1       Aston Villa  28  45.2  35  28  1   61    1\n",
      "2       Bournemouth  27  45.5  29  19  1   69    3\n",
      "3          Brighton  25  54.0  30  20  1   51    2\n",
      "4           Burnley  22  40.3  35  25  2   61    0\n",
      "5           Chelsea  27  60.0  57  37  6   56    0\n",
      "6    Crystal Palace  24  44.2  26  18  3   51    1\n",
      "7           Everton  23  48.9  38  28  1   63    3\n",
      "8    Leicester City  21  57.7  58  42  5   37    1\n",
      "9         Liverpool  24  63.4  68  56  5   28    1\n",
      "10  Manchester City  23  66.2  77  56  5   58    4\n",
      "11   Manchester Utd  28  55.6  50  34  7   59    0\n",
      "12    Newcastle Utd  27  37.9  33  25  0   56    3\n",
      "13     Norwich City  28  50.2  24  17  2   58    1\n",
      "14    Sheffield Utd  25  43.9  27  18  1   54    2\n",
      "15      Southampton  24  47.9  41  24  1   45    4\n",
      "16        Tottenham  29  52.7  47  32  3   67    3\n",
      "17          Watford  26  42.6  28  19  4   68    3\n",
      "18         West Ham  28  43.2  38  29  3   60    1\n",
      "19           Wolves  20  47.7  43  31  3   54    2\n"
     ]
    }
   ],
   "source": [
    "##Squad Standard Stats\n",
    "column11 = ['Team', 'Pl', 'Poss', 'Gls', 'Ast', 'PK', 'CrdY', 'CrdR']\n",
    "df11 = []\n",
    "df11 = pd.DataFrame(columns = column11)\n",
    "rows11 = all_tables4[2].find_all('tr')\n",
    "for i in range(0, len(rows11)):\n",
    "    Team = rows11[i].th.text\n",
    "    Pl = rows11[i].find('td',{'data-stat':'players_used'}).text\n",
    "    Poss = rows11[i].find('td',{'data-stat':'possession'}).text\n",
    "    Gls = rows11[i].find('td',{'data-stat':'goals'}).text\n",
    "    Ast = rows11[i].find('td',{'data-stat':'assists'}).text\n",
    "    PK = rows11[i].find('td',{'data-stat':'pens_made'}).text\n",
    "    CrdY= rows11[i].find('td',{'data-stat':'cards_yellow'}).text\n",
    "    CrdR = rows11[i].find('td',{'data-stat':'cards_red'}).text\n",
    "    values11 = [Team, Pl, Poss, Gls, Ast, PK, CrdY, CrdR]\n",
    "#    print(values11)\n",
    "    df11 = df11.append(pd.Series(values11,index=column11),ignore_index=True)\n",
    "print(df11)\n"
   ]
  },
  {
   "cell_type": "code",
   "execution_count": 35,
   "metadata": {},
   "outputs": [
    {
     "name": "stdout",
     "output_type": "stream",
     "text": [
      "               Team  GA SoTA Saves  CS\n",
      "0           Arsenal  41  158   119   9\n",
      "1       Aston Villa  60  159   103   5\n",
      "2       Bournemouth  54  153   103   4\n",
      "3          Brighton  44  141   102   7\n",
      "4           Burnley  45  133    91  13\n",
      "5           Chelsea  44   96    57   6\n",
      "6    Crystal Palace  37  139   103  10\n",
      "7           Everton  47  125    81   8\n",
      "8    Leicester City  31  110    85  11\n",
      "9         Liverpool  21   87    65  14\n",
      "10  Manchester City  33   92    61  12\n",
      "11   Manchester Utd  31  107    77  10\n",
      "12    Newcastle Utd  43  156   113  10\n",
      "13     Norwich City  60  165   108   5\n",
      "14    Sheffield Utd  31  117    86  11\n",
      "15      Southampton  55  142    91   7\n",
      "16        Tottenham  41  145   109   5\n",
      "17          Watford  49  134    90   9\n",
      "18         West Ham  56  157   109   6\n",
      "19           Wolves  34  105    71  11\n"
     ]
    }
   ],
   "source": [
    "##Squad Goalkeeping\n",
    "#all_tables[3]\n",
    "column12 = ['Team', 'GA', 'SoTA', 'Saves', 'CS']\n",
    "df12 = []\n",
    "df12 = pd.DataFrame(columns = column12)\n",
    "rows12 = all_tables4[3].find_all('tr')\n",
    "for i in range(0, len(rows12)):\n",
    "    Team = rows12[i].th.text\n",
    "    GA = rows12[i].find('td',{'data-stat':'goals_against_gk'}).text\n",
    "    SoTA = rows12[i].find('td',{'data-stat':'shots_on_target_against'}).text\n",
    "    Saves = rows12[i].find('td',{'data-stat':'saves'}).text\n",
    "    CS = rows12[i].find('td',{'data-stat':'clean_sheets'}).text\n",
    "    values12 = [Team, GA, SoTA, Saves, CS]\n",
    "#    print(values12)\n",
    "#    break\n",
    "    df12 = df12.append(pd.Series(values12,index=column12),ignore_index=True)\n",
    "print(df12)"
   ]
  },
  {
   "cell_type": "code",
   "execution_count": 37,
   "metadata": {},
   "outputs": [
    {
     "name": "stdout",
     "output_type": "stream",
     "text": [
      "               Team PK   Sh  SoT  FK\n",
      "0           Arsenal  2  348  123  16\n",
      "1       Aston Villa  1  386  125  13\n",
      "2       Bournemouth  1  323   97  19\n",
      "3          Brighton  1  398  124  11\n",
      "4           Burnley  2  316  104  16\n",
      "5           Chelsea  6  527  178  20\n",
      "6    Crystal Palace  3  311   96  12\n",
      "7           Everton  1  410  139  17\n",
      "8    Leicester City  5  440  152  16\n",
      "9         Liverpool  5  477  177  15\n",
      "10  Manchester City  5  577  197  22\n",
      "11   Manchester Utd  7  456  171  28\n",
      "12    Newcastle Utd  0  335  110  12\n",
      "13     Norwich City  2  360  112  14\n",
      "14    Sheffield Utd  1  303   91   4\n",
      "15      Southampton  1  417  142  23\n",
      "16        Tottenham  3  372  132  16\n",
      "17          Watford  4  347   96  15\n",
      "18         West Ham  3  326  133  10\n",
      "19           Wolves  3  394  122  11\n"
     ]
    }
   ],
   "source": [
    "##Squad Shooting\n",
    "##all_tables[5]\n",
    "rows13 = all_tables4[5].find_all('tr')\n",
    "column13 = ['Team', 'PK', 'Sh', 'SoT', 'FK']\n",
    "df13 = []\n",
    "df13 = pd.DataFrame(columns = column13)\n",
    "for i in range(0, len(rows13)):\n",
    "    Team = rows13[i].th.text\n",
    "    PK = rows13[i].find('td',{'data-stat':'pens_made'}).text\n",
    "    Sh = rows13[i].find('td',{'data-stat':'shots_total'}).text\n",
    "    SoT = rows13[i].find('td',{'data-stat':'shots_on_target'}).text\n",
    "    FK = rows13[i].find('td',{'data-stat':'shots_free_kicks'}).text\n",
    "    values13 = [Team, PK, Sh, SoT, FK]\n",
    "#    print(values13)\n",
    "#    break\n",
    "    df13 = df13.append(pd.Series(values13,index=column13),ignore_index=True)\n",
    "print(df13)"
   ]
  },
  {
   "cell_type": "code",
   "execution_count": 39,
   "metadata": {
    "scrolled": true
   },
   "outputs": [
    {
     "name": "stdout",
     "output_type": "stream",
     "text": [
      "               Team    Cmp    Att CmpPert TotDist PrgDist\n",
      "0           Arsenal  13993  16874    82.9  274393   81261\n",
      "1       Aston Villa  10054  13294    75.6  209844   73784\n",
      "2       Bournemouth  10545  13887    75.9  206795   73778\n",
      "3          Brighton  13785  17065    80.8  277427   90049\n",
      "4           Burnley   8073  11689    69.1  165677   65020\n",
      "5           Chelsea  17022  20276    84.0  330630   94124\n",
      "6    Crystal Palace  10010  13203    75.8  194350   74114\n",
      "7           Everton  10858  14239    76.3  230494   84202\n",
      "8    Leicester City  14539  17731    82.0  279818   86917\n",
      "9         Liverpool  17000  20466    83.1  347166  101842\n",
      "10  Manchester City  19491  22281    87.5  377065  101129\n",
      "11   Manchester Utd  14415  17523    82.3  266713   80841\n",
      "12    Newcastle Utd   8639  11783    73.3  178498   68946\n",
      "13     Norwich City  12388  15542    79.7  228106   74380\n",
      "14    Sheffield Utd  10098  13643    74.0  203238   70531\n",
      "15      Southampton   9951  13676    72.8  191164   69408\n",
      "16        Tottenham  13067  16295    80.2  251487   77324\n",
      "17          Watford   9504  13109    72.5  187751   71015\n",
      "18         West Ham  10301  13748    74.9  199649   76052\n",
      "19           Wolves  11616  14819    78.4  246501   81519\n"
     ]
    }
   ],
   "source": [
    "##Squad Passing\n",
    "##all_tables[6]\n",
    "rows14 = all_tables4[6].find_all('tr')\n",
    "column14 = ['Team', 'Cmp', 'Att', 'CmpPert', 'TotDist', 'PrgDist']\n",
    "df14 = []\n",
    "df14 = pd.DataFrame(columns = column14)\n",
    "for i in range(0, len(rows14)):\n",
    "    Team = rows14[i].th.text\n",
    "    Cmp = rows14[i].find('td',{'data-stat':'passes_completed'}).text\n",
    "    Att = rows14[i].find('td',{'data-stat':'passes'}).text\n",
    "    CmpPert = rows14[i].find('td',{'data-stat':'passes_pct'}).text\n",
    "    TotDist = rows14[i].find('td',{'data-stat':'passes_total_distance'}).text\n",
    "    PrgDist = rows14[i].find('td',{'data-stat':'passes_progressive_distance'}).text\n",
    "    values14 = [Team, Cmp, Att, CmpPert, TotDist, PrgDist]\n",
    "#    print(values14)\n",
    "#    break\n",
    "    df14 = df14.append(pd.Series(values14,index=column14),ignore_index=True)\n",
    "print(df14)\n"
   ]
  },
  {
   "cell_type": "code",
   "execution_count": 40,
   "metadata": {},
   "outputs": [
    {
     "name": "stdout",
     "output_type": "stream",
     "text": [
      "               Team  Tkl TklW Press PressSucc Block  Int   Clr Err\n",
      "0           Arsenal  510  319  5326      1414   513  285   810   9\n",
      "1       Aston Villa  517  328  5108      1391   637  358   858  25\n",
      "2       Bournemouth  481  294  5740      1474   587  406  1028  12\n",
      "3          Brighton  575  355  5027      1533   516  336   767  12\n",
      "4           Burnley  498  290  5060      1264   586  319  1057   4\n",
      "5           Chelsea  635  394  5339      1627   484  375   792   8\n",
      "6    Crystal Palace  613  360  5375      1437   574  378   908  10\n",
      "7           Everton  659  369  5305      1442   475  348   869   9\n",
      "8    Leicester City  655  406  5499      1693   499  350   870  10\n",
      "9         Liverpool  518  323  4843      1544   404  288   748   7\n",
      "10  Manchester City  464  295  4230      1295   369  287   526  11\n",
      "11   Manchester Utd  528  312  5251      1485   528  303   770   6\n",
      "12    Newcastle Utd  558  320  5322      1325   545  337   997  10\n",
      "13     Norwich City  624  370  5725      1580   619  325   891  11\n",
      "14    Sheffield Utd  548  337  5342      1485   501  346  1009  12\n",
      "15      Southampton  684  407  6003      1844   591  325  1114  17\n",
      "16        Tottenham  581  372  5291      1500   548  287   891   8\n",
      "17          Watford  591  364  5833      1590   521  342   971   9\n",
      "18         West Ham  619  398  5777      1565   549  363   795  11\n",
      "19           Wolves  633  373  5547      1492   505  360   833  11\n"
     ]
    }
   ],
   "source": [
    "##Squad Defensive Actions\n",
    "#all_tables[9]\n",
    "rows15 = all_tables4[9].find_all('tr')\n",
    "column15 = ['Team', 'Tkl', 'TklW', 'Press', 'PressSucc', 'Block', 'Int', 'Clr', 'Err']\n",
    "df15 = []\n",
    "df15 = pd.DataFrame(columns = column15)\n",
    "for i in range(0, len(rows15)):\n",
    "    Team = rows15[i].th.text\n",
    "    Tkl = rows15[i].find('td',{'data-stat':'tackles'}).text\n",
    "    TklW = rows15[i].find('td',{'data-stat':'tackles_won'}).text\n",
    "    Press = rows15[i].find('td',{'data-stat':'pressures'}).text\n",
    "    PressSucc = rows15[i].find('td',{'data-stat':'pressure_regains'}).text\n",
    "    Block = rows15[i].find('td',{'data-stat':'blocks'}).text\n",
    "    Int = rows15[i].find('td',{'data-stat':'interceptions'}).text\n",
    "    Clr = rows15[i].find('td',{'data-stat':'clearances'}).text\n",
    "    Err = rows15[i].find('td',{'data-stat':'errors'}).text\n",
    "    values15 = [Team, Tkl, TklW, Press, PressSucc, Block, Int, Clr, Err]\n",
    "#    print(values15)\n",
    "#    break\n",
    "    df15 = df15.append(pd.Series(values15,index=column15),ignore_index=True)\n",
    "print(df15)"
   ]
  },
  {
   "cell_type": "code",
   "execution_count": 44,
   "metadata": {},
   "outputs": [
    {
     "name": "stdout",
     "output_type": "stream",
     "text": [
      "               Team Touches SuccDri TotDistCarr   Targ    Rec Miscon Dispos\n",
      "0           Arsenal   20608     363       83285  16127  13993    385    395\n",
      "1       Aston Villa   17184     327       65415  12237  10054    362    370\n",
      "2       Bournemouth   17925     305       64863  12807  10545    437    365\n",
      "3          Brighton   20893     309       80168  16230  13785    406    426\n",
      "4           Burnley   15502     246       46176  10555   8073    336    308\n",
      "5           Chelsea   24217     411       93872  19524  17022    402    401\n",
      "6    Crystal Palace   17367     375       60774  12253  10010    422    452\n",
      "7           Everton   18219     339       65856  13317  10858    421    406\n",
      "8    Leicester City   21737     364       80243  16789  14539    388    420\n",
      "9         Liverpool   24025     359       85036  19644  17000    379    369\n",
      "10  Manchester City   25445     433      104271  21522  19491    268    332\n",
      "11   Manchester Utd   21367     409       88229  16611  14415    377    408\n",
      "12    Newcastle Utd   15669     373       53855  10845   8639    395    351\n",
      "13     Norwich City   19653     398       73146  14697  12388    400    405\n",
      "14    Sheffield Utd   17259     306       53931  12645  10098    341    304\n",
      "15      Southampton   18086     383       59629  12510   9951    461    364\n",
      "16        Tottenham   20164     396       74029  15476  13067    328    395\n",
      "17          Watford   17002     308       54602  11967   9504    368    343\n",
      "18         West Ham   17457     355       64028  12807  10301    350    348\n",
      "19           Wolves   18646     447       69871  13894  11616    382    373\n"
     ]
    }
   ],
   "source": [
    "##Squad Possession\n",
    "#all_tables[10]\n",
    "rows16 = all_tables4[10].find_all('tr')\n",
    "column16 = ['Team', 'Touches', 'SuccDri', 'TotDistCarr', 'Targ', 'Rec', 'Miscon', 'Dispos']\n",
    "df16 = []\n",
    "df16 = pd.DataFrame(columns = column16)\n",
    "for i in range(0, len(rows15)):\n",
    "    Team = rows16[i].th.text\n",
    "    Touches = rows16[i].find('td',{'data-stat':'touches'}).text\n",
    "    SuccDri = rows16[i].find('td',{'data-stat':'dribbles_completed'}).text\n",
    "    TotDistCarr = rows16[i].find('td',{'data-stat':'carry_distance'}).text\n",
    "    Targ = rows16[i].find('td',{'data-stat':'pass_targets'}).text\n",
    "    Rec = rows16[i].find('td',{'data-stat':'passes_received'}).text\n",
    "    Miscon = rows16[i].find('td',{'data-stat':'miscontrols'}).text\n",
    "    Dispos = rows16[i].find('td',{'data-stat':'dispossessed'}).text\n",
    "    values16 = [Team, Touches, SuccDri, TotDistCarr, Targ, Rec, Miscon, Dispos]\n",
    "#    print(values16)\n",
    "#    break\n",
    "    df16 = df16.append(pd.Series(values16,index=column16),ignore_index=True)\n",
    "print(df16)"
   ]
  },
  {
   "cell_type": "code",
   "execution_count": 51,
   "metadata": {},
   "outputs": [],
   "source": [
    "decisiontdf = []\n",
    "decisiontdf = maindf\n",
    "decisiontdf = pd.merge(decisiontdf, managerdf, how='left', left_on='Manager', right_on='Manager')\n",
    "decisiontdf = pd.merge(decisiontdf, capdf, how='left', left_on='Captain', right_on='Captain')\n",
    "decisiontdf = pd.merge(decisiontdf, pointdf, how='outer')\n",
    "#decisiontdf"
   ]
  },
  {
   "cell_type": "code",
   "execution_count": 52,
   "metadata": {},
   "outputs": [],
   "source": [
    "full_stat = pd.merge(df11, df12, how='left', left_on='Team', right_on='Team')\n",
    "full_stat = pd.merge(full_stat, df13, how='left', left_on='Team', right_on='Team')\n",
    "full_stat = pd.merge(full_stat, df14, how='left', left_on='Team', right_on='Team')\n",
    "full_stat = pd.merge(full_stat, df15, how='left', left_on='Team', right_on='Team')\n",
    "full_stat = pd.merge(full_stat, df16, how='left', left_on='Team', right_on='Team')\n",
    "#full_stat"
   ]
  },
  {
   "cell_type": "code",
   "execution_count": 53,
   "metadata": {},
   "outputs": [],
   "source": [
    "full_stat['Team'] = full_stat['Team'].replace({'Leicester':'Leicester City', 'Brighton':'Brighton & Hove Albion', \n",
    "                                               'Norwich':'Norwich City', 'Tottenham':'Tottenham Hotspur', \n",
    "                                               'West Ham':'West Ham United', 'Manchester Utd':'Manchester United',\n",
    "                                              'Newcastle Utd':'Newcastle United', 'Sheffield Utd':'Sheffield United',\n",
    "                                              'Wolves':'Wolverhampton Wanderers'})\n",
    "#full_stat"
   ]
  },
  {
   "cell_type": "code",
   "execution_count": 54,
   "metadata": {},
   "outputs": [],
   "source": [
    "decisiontdf = pd.merge(decisiontdf, full_stat, how='left', left_on='Team', right_on='Team')\n",
    "#decisiontdf"
   ]
  },
  {
   "cell_type": "code",
   "execution_count": null,
   "metadata": {},
   "outputs": [],
   "source": []
  },
  {
   "cell_type": "code",
   "execution_count": 55,
   "metadata": {},
   "outputs": [
    {
     "data": {
      "text/plain": [
       "Index(['Team', 'Manager', 'Captain', 'Kit manufacturer', 'Age_x', 'Age_y',\n",
       "       'Pos', 'BirthPlace', 'PosCat', 'Pld', 'W', 'D', 'L', 'GF', 'GA_x', 'GD',\n",
       "       'Pts', 'PtsCat', 'Pl', 'Poss', 'Gls', 'Ast', 'PK_x', 'CrdY', 'CrdR',\n",
       "       'GA_y', 'SoTA', 'Saves', 'CS', 'PK_y', 'Sh', 'SoT', 'FK', 'Cmp', 'Att',\n",
       "       'CmpPert', 'TotDist', 'PrgDist', 'Tkl', 'TklW', 'Press', 'PressSucc',\n",
       "       'Block', 'Int', 'Clr', 'Err', 'Touches', 'SuccDri', 'TotDistCarr',\n",
       "       'Targ', 'Rec', 'Miscon', 'Dispos'],\n",
       "      dtype='object')"
      ]
     },
     "execution_count": 55,
     "metadata": {},
     "output_type": "execute_result"
    }
   ],
   "source": [
    "decisiontdf.columns"
   ]
  },
  {
   "cell_type": "code",
   "execution_count": 56,
   "metadata": {},
   "outputs": [
    {
     "data": {
      "text/plain": [
       "0     2\n",
       "1     1\n",
       "2     1\n",
       "3     2\n",
       "4     2\n",
       "5     3\n",
       "6     2\n",
       "7     2\n",
       "8     3\n",
       "9     3\n",
       "10    3\n",
       "11    3\n",
       "12    2\n",
       "13    1\n",
       "14    2\n",
       "15    2\n",
       "16    2\n",
       "17    1\n",
       "18    2\n",
       "19    3\n",
       "Name: PtsCat, dtype: object"
      ]
     },
     "execution_count": 56,
     "metadata": {},
     "output_type": "execute_result"
    }
   ],
   "source": [
    "decisiontdf = decisiontdf.drop(['Team', 'Manager', 'Captain', 'Pos', 'BirthPlace', \n",
    "                               'Pld', 'W', 'D', 'L', 'GD', 'Pts', 'Kit manufacturer'], axis = 1) \n",
    "decisiontdf = decisiontdf.drop(['GA_x'], axis = 1)\n",
    "decisiontdf.astype(float)\n",
    "decisiontdf['PtsCat'].astype(object)"
   ]
  },
  {
   "cell_type": "code",
   "execution_count": 57,
   "metadata": {},
   "outputs": [],
   "source": [
    "from sklearn.model_selection import train_test_split\n",
    "decisiontdf.dropna\n",
    "\n",
    "# target/input split\n",
    "y = decisiontdf['PtsCat']\n",
    "X = decisiontdf.drop(['PtsCat'], axis=1)"
   ]
  },
  {
   "cell_type": "code",
   "execution_count": 112,
   "metadata": {},
   "outputs": [],
   "source": [
    "# setting random state\n",
    "import numpy as np\n",
    "rs = 5\n",
    "\n",
    "X_mat = np.asmatrix(X)\n",
    "X_train, X_test, y_train, y_test = train_test_split(X_mat, y, test_size=0.7, stratify=y, random_state=rs)"
   ]
  },
  {
   "cell_type": "code",
   "execution_count": 113,
   "metadata": {},
   "outputs": [
    {
     "data": {
      "text/plain": [
       "DecisionTreeClassifier(ccp_alpha=0.0, class_weight=None, criterion='gini',\n",
       "                       max_depth=None, max_features=None, max_leaf_nodes=None,\n",
       "                       min_impurity_decrease=0.0, min_impurity_split=None,\n",
       "                       min_samples_leaf=1, min_samples_split=2,\n",
       "                       min_weight_fraction_leaf=0.0, presort='deprecated',\n",
       "                       random_state=5, splitter='best')"
      ]
     },
     "execution_count": 113,
     "metadata": {},
     "output_type": "execute_result"
    }
   ],
   "source": [
    "from sklearn.tree import DecisionTreeClassifier\n",
    "from sklearn.metrics import classification_report, accuracy_score\n",
    "\n",
    "# simple decision tree training\n",
    "model = DecisionTreeClassifier(random_state=rs)\n",
    "model.fit(X_train, y_train)"
   ]
  },
  {
   "cell_type": "code",
   "execution_count": 114,
   "metadata": {},
   "outputs": [
    {
     "name": "stdout",
     "output_type": "stream",
     "text": [
      "Train accuracy: 1.0 , Test accuracy: 0.5\n"
     ]
    }
   ],
   "source": [
    "print(\"Train accuracy:\", model.score(X_train, y_train), \", Test accuracy:\", model.score(X_test, y_test))"
   ]
  },
  {
   "cell_type": "code",
   "execution_count": 115,
   "metadata": {},
   "outputs": [
    {
     "name": "stdout",
     "output_type": "stream",
     "text": [
      "              precision    recall  f1-score   support\n",
      "\n",
      "           1       0.00      0.00      0.00         3\n",
      "           2       0.57      0.57      0.57         7\n",
      "           3       0.50      0.75      0.60         4\n",
      "\n",
      "    accuracy                           0.50        14\n",
      "   macro avg       0.36      0.44      0.39        14\n",
      "weighted avg       0.43      0.50      0.46        14\n",
      "\n"
     ]
    }
   ],
   "source": [
    "y_pred = model.predict(X_test)\n",
    "print(classification_report(y_test, y_pred))"
   ]
  },
  {
   "cell_type": "code",
   "execution_count": 116,
   "metadata": {},
   "outputs": [
    {
     "name": "stdout",
     "output_type": "stream",
     "text": [
      "Sh : 0.6363636363636365\n",
      "Tkl : 0.3636363636363636\n",
      "Dispos : 0.0\n",
      "FK : 0.0\n",
      "PK_y : 0.0\n",
      "CS : 0.0\n",
      "Saves : 0.0\n",
      "SoTA : 0.0\n",
      "GA_y : 0.0\n",
      "CrdR : 0.0\n",
      "CrdY : 0.0\n",
      "PK_x : 0.0\n",
      "Ast : 0.0\n",
      "Gls : 0.0\n",
      "Poss : 0.0\n",
      "Pl : 0.0\n",
      "GF : 0.0\n",
      "PosCat : 0.0\n",
      "Age_y : 0.0\n",
      "SoT : 0.0\n"
     ]
    }
   ],
   "source": [
    "import numpy as np\n",
    "\n",
    "# grab feature importances from the model and feature name from the original X\n",
    "importances = model.feature_importances_\n",
    "feature_names = X.columns\n",
    "\n",
    "# sort them out in descending order\n",
    "indices = np.argsort(importances)\n",
    "indices = np.flip(indices, axis=0)\n",
    "\n",
    "# limit to 20 features, you can leave this out to print out everything\n",
    "indices = indices[:20]\n",
    "\n",
    "for i in indices:\n",
    "    print(feature_names[i], ':', importances[i])"
   ]
  },
  {
   "cell_type": "code",
   "execution_count": 104,
   "metadata": {},
   "outputs": [],
   "source": [
    "import pydot\n",
    "import pydotplus\n",
    "from io import StringIO\n",
    "from sklearn.tree import export_graphviz\n",
    "\n",
    "# visualize\n",
    "dotfile = StringIO()\n",
    "export_graphviz(model, out_file=dotfile, feature_names=X.columns)\n",
    "graph = pydot.graph_from_dot_data(dotfile.getvalue())\n",
    "graph[0].write_png(\"final1_dt.png\")"
   ]
  },
  {
   "cell_type": "code",
   "execution_count": 105,
   "metadata": {},
   "outputs": [
    {
     "name": "stdout",
     "output_type": "stream",
     "text": [
      "Train accuracy: 1.0 , Test accuracy: 0.4375\n",
      "\n",
      "              precision    recall  f1-score   support\n",
      "\n",
      "           1       0.20      0.33      0.25         3\n",
      "           2       0.40      0.25      0.31         8\n",
      "           3       0.67      0.80      0.73         5\n",
      "\n",
      "    accuracy                           0.44        16\n",
      "   macro avg       0.42      0.46      0.43        16\n",
      "weighted avg       0.45      0.44      0.43        16\n",
      "\n"
     ]
    }
   ],
   "source": [
    "#retrain with a small max_depth limit\n",
    "\n",
    "model = DecisionTreeClassifier(max_depth=3, random_state=rs)\n",
    "model.fit(X_train, y_train)\n",
    "\n",
    "print(\"Train accuracy:\", model.score(X_train, y_train),\", Test accuracy:\", model.score(X_test, y_test))\n",
    "print()\n",
    "\n",
    "y_pred = model.predict(X_test)\n",
    "print(classification_report(y_test, y_pred))"
   ]
  },
  {
   "cell_type": "code",
   "execution_count": null,
   "metadata": {},
   "outputs": [],
   "source": []
  },
  {
   "cell_type": "code",
   "execution_count": 106,
   "metadata": {},
   "outputs": [],
   "source": [
    "test_score = []\n",
    "train_score = []\n",
    "\n",
    "# check the model performance for max depth from 2-20\n",
    "for max_depth in range(2, 21):\n",
    "    model = DecisionTreeClassifier(max_depth=max_depth, random_state=rs)\n",
    "    model.fit(X_train, y_train)\n",
    "    \n",
    "    test_score.append(model.score(X_test, y_test))\n",
    "    train_score.append(model.score(X_train, y_train))"
   ]
  },
  {
   "cell_type": "code",
   "execution_count": 107,
   "metadata": {},
   "outputs": [
    {
     "data": {
      "image/png": "[encoded data removed]",
      "text/plain": [
       "<Figure size 432x288 with 1 Axes>"
      ]
     },
     "metadata": {
      "needs_background": "light"
     },
     "output_type": "display_data"
    }
   ],
   "source": [
    "import matplotlib.pyplot as plt\n",
    "\n",
    "# plot max depth hyperparameter values vs training and test accuracy score\n",
    "plt.plot(range(2, 21), train_score, 'b', range(2,21), test_score, 'r')\n",
    "plt.xlabel('max_depth\\nBlue = training acc. Red = test acc.')\n",
    "plt.ylabel('accuracy')\n",
    "plt.show()"
   ]
  },
  {
   "cell_type": "code",
   "execution_count": 111,
   "metadata": {},
   "outputs": [
    {
     "ename": "ValueError",
     "evalue": "n_splits=3 cannot be greater than the number of members in each class.",
     "output_type": "error",
     "traceback": [
      "\u001b[1;31m---------------------------------------------------------------------------\u001b[0m",
      "\u001b[1;31mValueError\u001b[0m                                Traceback (most recent call last)",
      "\u001b[1;32m<ipython-input-111-42fe4f523475>\u001b[0m in \u001b[0;36m<module>\u001b[1;34m\u001b[0m\n\u001b[0;32m      6\u001b[0m \u001b[1;33m\u001b[0m\u001b[0m\n\u001b[0;32m      7\u001b[0m \u001b[0mcv\u001b[0m \u001b[1;33m=\u001b[0m \u001b[0mGridSearchCV\u001b[0m\u001b[1;33m(\u001b[0m\u001b[0mparam_grid\u001b[0m\u001b[1;33m=\u001b[0m\u001b[0mparams\u001b[0m\u001b[1;33m,\u001b[0m \u001b[0mestimator\u001b[0m\u001b[1;33m=\u001b[0m\u001b[0mDecisionTreeClassifier\u001b[0m\u001b[1;33m(\u001b[0m\u001b[0mrandom_state\u001b[0m\u001b[1;33m=\u001b[0m\u001b[0mrs\u001b[0m\u001b[1;33m)\u001b[0m\u001b[1;33m,\u001b[0m \u001b[0mcv\u001b[0m\u001b[1;33m=\u001b[0m\u001b[1;36m3\u001b[0m\u001b[1;33m)\u001b[0m\u001b[1;33m\u001b[0m\u001b[1;33m\u001b[0m\u001b[0m\n\u001b[1;32m----> 8\u001b[1;33m \u001b[0mcv\u001b[0m\u001b[1;33m.\u001b[0m\u001b[0mfit\u001b[0m\u001b[1;33m(\u001b[0m\u001b[0mX_train\u001b[0m\u001b[1;33m,\u001b[0m \u001b[0my_train\u001b[0m\u001b[1;33m)\u001b[0m\u001b[1;33m\u001b[0m\u001b[1;33m\u001b[0m\u001b[0m\n\u001b[0m\u001b[0;32m      9\u001b[0m \u001b[1;33m\u001b[0m\u001b[0m\n\u001b[0;32m     10\u001b[0m \u001b[0mprint\u001b[0m\u001b[1;33m(\u001b[0m\u001b[1;34m\"Train accuracy:\"\u001b[0m\u001b[1;33m,\u001b[0m \u001b[0mcv\u001b[0m\u001b[1;33m.\u001b[0m\u001b[0mscore\u001b[0m\u001b[1;33m(\u001b[0m\u001b[0mX_train\u001b[0m\u001b[1;33m,\u001b[0m \u001b[0my_train\u001b[0m\u001b[1;33m)\u001b[0m\u001b[1;33m)\u001b[0m\u001b[1;33m\u001b[0m\u001b[1;33m\u001b[0m\u001b[0m\n",
      "\u001b[1;32mD:\\software\\anaconda\\lib\\site-packages\\sklearn\\model_selection\\_search.py\u001b[0m in \u001b[0;36mfit\u001b[1;34m(self, X, y, groups, **fit_params)\u001b[0m\n\u001b[0;32m    708\u001b[0m                 \u001b[1;32mreturn\u001b[0m \u001b[0mresults\u001b[0m\u001b[1;33m\u001b[0m\u001b[1;33m\u001b[0m\u001b[0m\n\u001b[0;32m    709\u001b[0m \u001b[1;33m\u001b[0m\u001b[0m\n\u001b[1;32m--> 710\u001b[1;33m             \u001b[0mself\u001b[0m\u001b[1;33m.\u001b[0m\u001b[0m_run_search\u001b[0m\u001b[1;33m(\u001b[0m\u001b[0mevaluate_candidates\u001b[0m\u001b[1;33m)\u001b[0m\u001b[1;33m\u001b[0m\u001b[1;33m\u001b[0m\u001b[0m\n\u001b[0m\u001b[0;32m    711\u001b[0m \u001b[1;33m\u001b[0m\u001b[0m\n\u001b[0;32m    712\u001b[0m         \u001b[1;31m# For multi-metric evaluation, store the best_index_, best_params_ and\u001b[0m\u001b[1;33m\u001b[0m\u001b[1;33m\u001b[0m\u001b[1;33m\u001b[0m\u001b[0m\n",
      "\u001b[1;32mD:\\software\\anaconda\\lib\\site-packages\\sklearn\\model_selection\\_search.py\u001b[0m in \u001b[0;36m_run_search\u001b[1;34m(self, evaluate_candidates)\u001b[0m\n\u001b[0;32m   1149\u001b[0m     \u001b[1;32mdef\u001b[0m \u001b[0m_run_search\u001b[0m\u001b[1;33m(\u001b[0m\u001b[0mself\u001b[0m\u001b[1;33m,\u001b[0m \u001b[0mevaluate_candidates\u001b[0m\u001b[1;33m)\u001b[0m\u001b[1;33m:\u001b[0m\u001b[1;33m\u001b[0m\u001b[1;33m\u001b[0m\u001b[0m\n\u001b[0;32m   1150\u001b[0m         \u001b[1;34m\"\"\"Search all candidates in param_grid\"\"\"\u001b[0m\u001b[1;33m\u001b[0m\u001b[1;33m\u001b[0m\u001b[0m\n\u001b[1;32m-> 1151\u001b[1;33m         \u001b[0mevaluate_candidates\u001b[0m\u001b[1;33m(\u001b[0m\u001b[0mParameterGrid\u001b[0m\u001b[1;33m(\u001b[0m\u001b[0mself\u001b[0m\u001b[1;33m.\u001b[0m\u001b[0mparam_grid\u001b[0m\u001b[1;33m)\u001b[0m\u001b[1;33m)\u001b[0m\u001b[1;33m\u001b[0m\u001b[1;33m\u001b[0m\u001b[0m\n\u001b[0m\u001b[0;32m   1152\u001b[0m \u001b[1;33m\u001b[0m\u001b[0m\n\u001b[0;32m   1153\u001b[0m \u001b[1;33m\u001b[0m\u001b[0m\n",
      "\u001b[1;32mD:\\software\\anaconda\\lib\\site-packages\\sklearn\\model_selection\\_search.py\u001b[0m in \u001b[0;36mevaluate_candidates\u001b[1;34m(candidate_params)\u001b[0m\n\u001b[0;32m    687\u001b[0m                                \u001b[1;32mfor\u001b[0m \u001b[0mparameters\u001b[0m\u001b[1;33m,\u001b[0m \u001b[1;33m(\u001b[0m\u001b[0mtrain\u001b[0m\u001b[1;33m,\u001b[0m \u001b[0mtest\u001b[0m\u001b[1;33m)\u001b[0m\u001b[1;33m\u001b[0m\u001b[1;33m\u001b[0m\u001b[0m\n\u001b[0;32m    688\u001b[0m                                in product(candidate_params,\n\u001b[1;32m--> 689\u001b[1;33m                                           cv.split(X, y, groups)))\n\u001b[0m\u001b[0;32m    690\u001b[0m \u001b[1;33m\u001b[0m\u001b[0m\n\u001b[0;32m    691\u001b[0m                 \u001b[1;32mif\u001b[0m \u001b[0mlen\u001b[0m\u001b[1;33m(\u001b[0m\u001b[0mout\u001b[0m\u001b[1;33m)\u001b[0m \u001b[1;33m<\u001b[0m \u001b[1;36m1\u001b[0m\u001b[1;33m:\u001b[0m\u001b[1;33m\u001b[0m\u001b[1;33m\u001b[0m\u001b[0m\n",
      "\u001b[1;32mD:\\software\\anaconda\\lib\\site-packages\\sklearn\\model_selection\\_split.py\u001b[0m in \u001b[0;36msplit\u001b[1;34m(self, X, y, groups)\u001b[0m\n\u001b[0;32m    333\u001b[0m                 .format(self.n_splits, n_samples))\n\u001b[0;32m    334\u001b[0m \u001b[1;33m\u001b[0m\u001b[0m\n\u001b[1;32m--> 335\u001b[1;33m         \u001b[1;32mfor\u001b[0m \u001b[0mtrain\u001b[0m\u001b[1;33m,\u001b[0m \u001b[0mtest\u001b[0m \u001b[1;32min\u001b[0m \u001b[0msuper\u001b[0m\u001b[1;33m(\u001b[0m\u001b[1;33m)\u001b[0m\u001b[1;33m.\u001b[0m\u001b[0msplit\u001b[0m\u001b[1;33m(\u001b[0m\u001b[0mX\u001b[0m\u001b[1;33m,\u001b[0m \u001b[0my\u001b[0m\u001b[1;33m,\u001b[0m \u001b[0mgroups\u001b[0m\u001b[1;33m)\u001b[0m\u001b[1;33m:\u001b[0m\u001b[1;33m\u001b[0m\u001b[1;33m\u001b[0m\u001b[0m\n\u001b[0m\u001b[0;32m    336\u001b[0m             \u001b[1;32myield\u001b[0m \u001b[0mtrain\u001b[0m\u001b[1;33m,\u001b[0m \u001b[0mtest\u001b[0m\u001b[1;33m\u001b[0m\u001b[1;33m\u001b[0m\u001b[0m\n\u001b[0;32m    337\u001b[0m \u001b[1;33m\u001b[0m\u001b[0m\n",
      "\u001b[1;32mD:\\software\\anaconda\\lib\\site-packages\\sklearn\\model_selection\\_split.py\u001b[0m in \u001b[0;36msplit\u001b[1;34m(self, X, y, groups)\u001b[0m\n\u001b[0;32m     78\u001b[0m         \u001b[0mX\u001b[0m\u001b[1;33m,\u001b[0m \u001b[0my\u001b[0m\u001b[1;33m,\u001b[0m \u001b[0mgroups\u001b[0m \u001b[1;33m=\u001b[0m \u001b[0mindexable\u001b[0m\u001b[1;33m(\u001b[0m\u001b[0mX\u001b[0m\u001b[1;33m,\u001b[0m \u001b[0my\u001b[0m\u001b[1;33m,\u001b[0m \u001b[0mgroups\u001b[0m\u001b[1;33m)\u001b[0m\u001b[1;33m\u001b[0m\u001b[1;33m\u001b[0m\u001b[0m\n\u001b[0;32m     79\u001b[0m         \u001b[0mindices\u001b[0m \u001b[1;33m=\u001b[0m \u001b[0mnp\u001b[0m\u001b[1;33m.\u001b[0m\u001b[0marange\u001b[0m\u001b[1;33m(\u001b[0m\u001b[0m_num_samples\u001b[0m\u001b[1;33m(\u001b[0m\u001b[0mX\u001b[0m\u001b[1;33m)\u001b[0m\u001b[1;33m)\u001b[0m\u001b[1;33m\u001b[0m\u001b[1;33m\u001b[0m\u001b[0m\n\u001b[1;32m---> 80\u001b[1;33m         \u001b[1;32mfor\u001b[0m \u001b[0mtest_index\u001b[0m \u001b[1;32min\u001b[0m \u001b[0mself\u001b[0m\u001b[1;33m.\u001b[0m\u001b[0m_iter_test_masks\u001b[0m\u001b[1;33m(\u001b[0m\u001b[0mX\u001b[0m\u001b[1;33m,\u001b[0m \u001b[0my\u001b[0m\u001b[1;33m,\u001b[0m \u001b[0mgroups\u001b[0m\u001b[1;33m)\u001b[0m\u001b[1;33m:\u001b[0m\u001b[1;33m\u001b[0m\u001b[1;33m\u001b[0m\u001b[0m\n\u001b[0m\u001b[0;32m     81\u001b[0m             \u001b[0mtrain_index\u001b[0m \u001b[1;33m=\u001b[0m \u001b[0mindices\u001b[0m\u001b[1;33m[\u001b[0m\u001b[0mnp\u001b[0m\u001b[1;33m.\u001b[0m\u001b[0mlogical_not\u001b[0m\u001b[1;33m(\u001b[0m\u001b[0mtest_index\u001b[0m\u001b[1;33m)\u001b[0m\u001b[1;33m]\u001b[0m\u001b[1;33m\u001b[0m\u001b[1;33m\u001b[0m\u001b[0m\n\u001b[0;32m     82\u001b[0m             \u001b[0mtest_index\u001b[0m \u001b[1;33m=\u001b[0m \u001b[0mindices\u001b[0m\u001b[1;33m[\u001b[0m\u001b[0mtest_index\u001b[0m\u001b[1;33m]\u001b[0m\u001b[1;33m\u001b[0m\u001b[1;33m\u001b[0m\u001b[0m\n",
      "\u001b[1;32mD:\\software\\anaconda\\lib\\site-packages\\sklearn\\model_selection\\_split.py\u001b[0m in \u001b[0;36m_iter_test_masks\u001b[1;34m(self, X, y, groups)\u001b[0m\n\u001b[0;32m    690\u001b[0m \u001b[1;33m\u001b[0m\u001b[0m\n\u001b[0;32m    691\u001b[0m     \u001b[1;32mdef\u001b[0m \u001b[0m_iter_test_masks\u001b[0m\u001b[1;33m(\u001b[0m\u001b[0mself\u001b[0m\u001b[1;33m,\u001b[0m \u001b[0mX\u001b[0m\u001b[1;33m,\u001b[0m \u001b[0my\u001b[0m\u001b[1;33m=\u001b[0m\u001b[1;32mNone\u001b[0m\u001b[1;33m,\u001b[0m \u001b[0mgroups\u001b[0m\u001b[1;33m=\u001b[0m\u001b[1;32mNone\u001b[0m\u001b[1;33m)\u001b[0m\u001b[1;33m:\u001b[0m\u001b[1;33m\u001b[0m\u001b[1;33m\u001b[0m\u001b[0m\n\u001b[1;32m--> 692\u001b[1;33m         \u001b[0mtest_folds\u001b[0m \u001b[1;33m=\u001b[0m \u001b[0mself\u001b[0m\u001b[1;33m.\u001b[0m\u001b[0m_make_test_folds\u001b[0m\u001b[1;33m(\u001b[0m\u001b[0mX\u001b[0m\u001b[1;33m,\u001b[0m \u001b[0my\u001b[0m\u001b[1;33m)\u001b[0m\u001b[1;33m\u001b[0m\u001b[1;33m\u001b[0m\u001b[0m\n\u001b[0m\u001b[0;32m    693\u001b[0m         \u001b[1;32mfor\u001b[0m \u001b[0mi\u001b[0m \u001b[1;32min\u001b[0m \u001b[0mrange\u001b[0m\u001b[1;33m(\u001b[0m\u001b[0mself\u001b[0m\u001b[1;33m.\u001b[0m\u001b[0mn_splits\u001b[0m\u001b[1;33m)\u001b[0m\u001b[1;33m:\u001b[0m\u001b[1;33m\u001b[0m\u001b[1;33m\u001b[0m\u001b[0m\n\u001b[0;32m    694\u001b[0m             \u001b[1;32myield\u001b[0m \u001b[0mtest_folds\u001b[0m \u001b[1;33m==\u001b[0m \u001b[0mi\u001b[0m\u001b[1;33m\u001b[0m\u001b[1;33m\u001b[0m\u001b[0m\n",
      "\u001b[1;32mD:\\software\\anaconda\\lib\\site-packages\\sklearn\\model_selection\\_split.py\u001b[0m in \u001b[0;36m_make_test_folds\u001b[1;34m(self, X, y)\u001b[0m\n\u001b[0;32m    661\u001b[0m             raise ValueError(\"n_splits=%d cannot be greater than the\"\n\u001b[0;32m    662\u001b[0m                              \u001b[1;34m\" number of members in each class.\"\u001b[0m\u001b[1;33m\u001b[0m\u001b[1;33m\u001b[0m\u001b[0m\n\u001b[1;32m--> 663\u001b[1;33m                              % (self.n_splits))\n\u001b[0m\u001b[0;32m    664\u001b[0m         \u001b[1;32mif\u001b[0m \u001b[0mself\u001b[0m\u001b[1;33m.\u001b[0m\u001b[0mn_splits\u001b[0m \u001b[1;33m>\u001b[0m \u001b[0mmin_groups\u001b[0m\u001b[1;33m:\u001b[0m\u001b[1;33m\u001b[0m\u001b[1;33m\u001b[0m\u001b[0m\n\u001b[0;32m    665\u001b[0m             warnings.warn((\"The least populated class in y has only %d\"\n",
      "\u001b[1;31mValueError\u001b[0m: n_splits=3 cannot be greater than the number of members in each class."
     ]
    }
   ],
   "source": [
    "from sklearn.model_selection import GridSearchCV\n",
    "# grid search CV\n",
    "params = {'criterion': ['gini', 'entropy'],\n",
    "          'max_depth': range(1, 2),\n",
    "          'min_samples_leaf': range(2, 6, 9)}\n",
    "\n",
    "cv = GridSearchCV(param_grid=params, estimator=DecisionTreeClassifier(random_state=rs), cv=3)\n",
    "cv.fit(X_train, y_train)\n",
    "\n",
    "print(\"Train accuracy:\", cv.score(X_train, y_train))\n",
    "print(\"Test accuracy:\", cv.score(X_test, y_test))\n",
    "\n",
    "# test the best model\n",
    "y_pred = cv.predict(X_test)\n",
    "print(classification_report(y_test, y_pred))\n",
    "\n",
    "# print parameters of the best model\n",
    "print(cv.best_params_)"
   ]
  },
  {
   "cell_type": "code",
   "execution_count": null,
   "metadata": {},
   "outputs": [],
   "source": [
    "# grid search CV #2\n",
    "params = {'criterion': ['gini', 'entropy'],\n",
    "          'max_depth': range(2, 6),\n",
    "          'min_samples_leaf': range(40, 55)}\n",
    "\n",
    "cv = GridSearchCV(param_grid=params, estimator=DecisionTreeClassifier(random_state=rs), cv=3)\n",
    "cv.fit(X_train, y_train)\n",
    "\n",
    "print(\"Train accuracy:\", cv.score(X_train, y_train))\n",
    "print(\"Test accuracy:\", cv.score(X_test, y_test))\n",
    "\n",
    "# test the best model\n",
    "y_pred = cv.predict(X_test)\n",
    "print(classification_report(y_test, y_pred))\n",
    "\n",
    "# print parameters of the best model\n",
    "print(cv.best_params_)"
   ]
  },
  {
   "cell_type": "code",
   "execution_count": null,
   "metadata": {},
   "outputs": [],
   "source": [
    "\n",
    "def analyse_feature_importance(dm_model, feature_names, n_to_display=20):\n",
    "    # grab feature importances from the model\n",
    "    importances = dm_model.feature_importances_\n",
    "    \n",
    "    # sort them out in descending order\n",
    "    indices = np.argsort(importances)\n",
    "    indices = np.flip(indices, axis=0)\n",
    "\n",
    "    # limit to 20 features, you can leave this out to print out everything\n",
    "    indices = indices[:n_to_display]\n",
    "\n",
    "    for i in indices:\n",
    "        print(feature_names[i], ':', importances[i])\n",
    "\n",
    "def visualize_decision_tree(dm_model, feature_names, save_name):\n",
    "    dotfile = StringIO()\n",
    "    export_graphviz(dm_model, out_file=dotfile, feature_names=feature_names)\n",
    "    graph = pydot.graph_from_dot_data(dotfile.getvalue())\n",
    "    graph[0].write_png(save_name) # saved in the following file"
   ]
  },
  {
   "cell_type": "code",
   "execution_count": 109,
   "metadata": {},
   "outputs": [
    {
     "ename": "AttributeError",
     "evalue": "'GridSearchCV' object has no attribute 'best_estimator_'",
     "output_type": "error",
     "traceback": [
      "\u001b[1;31m---------------------------------------------------------------------------\u001b[0m",
      "\u001b[1;31mAttributeError\u001b[0m                            Traceback (most recent call last)",
      "\u001b[1;32m<ipython-input-109-7f86498040a1>\u001b[0m in \u001b[0;36m<module>\u001b[1;34m\u001b[0m\n\u001b[0;32m      2\u001b[0m \u001b[1;32mfrom\u001b[0m \u001b[0mdm_tools\u001b[0m \u001b[1;32mimport\u001b[0m \u001b[0manalyse_feature_importance\u001b[0m\u001b[1;33m,\u001b[0m \u001b[0mvisualize_decision_tree\u001b[0m\u001b[1;33m\u001b[0m\u001b[1;33m\u001b[0m\u001b[0m\n\u001b[0;32m      3\u001b[0m \u001b[1;33m\u001b[0m\u001b[0m\n\u001b[1;32m----> 4\u001b[1;33m \u001b[0manalyse_feature_importance\u001b[0m\u001b[1;33m(\u001b[0m\u001b[0mcv\u001b[0m\u001b[1;33m.\u001b[0m\u001b[0mbest_estimator_\u001b[0m\u001b[1;33m,\u001b[0m \u001b[0mX\u001b[0m\u001b[1;33m.\u001b[0m\u001b[0mcolumns\u001b[0m\u001b[1;33m,\u001b[0m \u001b[1;36m20\u001b[0m\u001b[1;33m)\u001b[0m\u001b[1;33m\u001b[0m\u001b[1;33m\u001b[0m\u001b[0m\n\u001b[0m\u001b[0;32m      5\u001b[0m \u001b[0mvisualize_decision_tree\u001b[0m\u001b[1;33m(\u001b[0m\u001b[0mcv\u001b[0m\u001b[1;33m.\u001b[0m\u001b[0mbest_estimator_\u001b[0m\u001b[1;33m,\u001b[0m \u001b[0mX\u001b[0m\u001b[1;33m.\u001b[0m\u001b[0mcolumns\u001b[0m\u001b[1;33m,\u001b[0m \u001b[1;34m\"lab2_optimal_tree.png\"\u001b[0m\u001b[1;33m)\u001b[0m\u001b[1;33m\u001b[0m\u001b[1;33m\u001b[0m\u001b[0m\n",
      "\u001b[1;31mAttributeError\u001b[0m: 'GridSearchCV' object has no attribute 'best_estimator_'"
     ]
    }
   ],
   "source": [
    "# do the feature importance and visualization analysis on GridSearchCV's best model\n",
    "from dm_tools import analyse_feature_importance, visualize_decision_tree\n",
    "\n",
    "analyse_feature_importance(cv.best_estimator_, X.columns, 20)\n",
    "visualize_decision_tree(cv.best_estimator_, X.columns, \"lab2_optimal_tree.png\")"
   ]
  },
  {
   "cell_type": "code",
   "execution_count": null,
   "metadata": {},
   "outputs": [],
   "source": []
  },
  {
   "cell_type": "code",
   "execution_count": null,
   "metadata": {},
   "outputs": [],
   "source": []
  },
  {
   "cell_type": "code",
   "execution_count": null,
   "metadata": {},
   "outputs": [],
   "source": []
  },
  {
   "cell_type": "code",
   "execution_count": null,
   "metadata": {},
   "outputs": [],
   "source": []
  },
  {
   "cell_type": "code",
   "execution_count": null,
   "metadata": {},
   "outputs": [],
   "source": []
  },
  {
   "cell_type": "code",
   "execution_count": null,
   "metadata": {},
   "outputs": [],
   "source": []
  },
  {
   "cell_type": "code",
   "execution_count": null,
   "metadata": {},
   "outputs": [],
   "source": []
  },
  {
   "cell_type": "code",
   "execution_count": 143,
   "metadata": {},
   "outputs": [],
   "source": [
    "import requests\n",
    "from bs4 import BeautifulSoup\n",
    "import pandas as pd\n",
    "import re\n",
    "import sys, getopt\n",
    "import csv\n",
    "url = 'https://fbref.com/en/comps/9/Premier-League-Stats'\n",
    "res = requests.get(url)\n",
    "## The next two lines get around the issue with comments breaking the parsing.\n",
    "comm = re.compile(\"<!--|-->\")\n",
    "soup = BeautifulSoup(comm.sub(\"\",res.text),'lxml')\n",
    "all_tables4 = soup.findAll(\"tbody\")"
   ]
  },
  {
   "cell_type": "code",
   "execution_count": 144,
   "metadata": {},
   "outputs": [],
   "source": [
    "##Squad Standard Stats\n",
    "column11 = ['Team', 'Pl', 'Poss', 'Gls', 'Ast', 'PK', 'CrdY', 'CrdR']\n",
    "df11 = []\n",
    "df11 = pd.DataFrame(columns = column11)\n",
    "rows11 = all_tables[2].find_all('tr')\n",
    "for i in range(0, len(rows11)):\n",
    "    Team = rows11[i].th.text\n",
    "    Pl = rows11[i].find('td',{'data-stat':'players_used'}).text\n",
    "    Poss = rows11[i].find('td',{'data-stat':'possession'}).text\n",
    "    Gls = rows11[i].find('td',{'data-stat':'goals'}).text\n",
    "    Ast = rows11[i].find('td',{'data-stat':'assists'}).text\n",
    "    PK = rows11[i].find('td',{'data-stat':'pens_made'}).text\n",
    "    CrdY= rows11[i].find('td',{'data-stat':'cards_yellow'}).text\n",
    "    CrdR = rows11[i].find('td',{'data-stat':'cards_red'}).text\n",
    "    values11 = [Team, Pl, Poss, Gls, Ast, PK, CrdY, CrdR]\n",
    "#    print(values11)\n",
    "    df11 = df11.append(pd.Series(values11,index=column11),ignore_index=True)\n",
    "print(df11)\n"
   ]
  },
  {
   "cell_type": "code",
   "execution_count": 16,
   "metadata": {},
   "outputs": [
    {
     "name": "stdout",
     "output_type": "stream",
     "text": [
      "               Team  GA SoTA Saves  CS\n",
      "0           Arsenal  41  155   116   8\n",
      "1       Aston Villa  60  159   103   5\n",
      "2       Bournemouth  50  146   100   4\n",
      "3          Brighton  41  135    99   7\n",
      "4           Burnley  45  129    87  12\n",
      "5           Chelsea  41   92    56   6\n",
      "6    Crystal Palace  36  135   100  10\n",
      "7           Everton  46  122    79   8\n",
      "8    Leicester City  29  108    84  11\n",
      "9         Liverpool  21   87    65  14\n",
      "10  Manchester City  33   92    61  12\n",
      "11   Manchester Utd  31  105    75   9\n",
      "12    Newcastle Utd  42  155   113  10\n",
      "13     Norwich City  56  157   104   5\n",
      "14    Sheffield Utd  31  117    86  11\n",
      "15      Southampton  55  142    91   7\n",
      "16        Tottenham  41  145   109   5\n",
      "17          Watford  49  134    90   9\n",
      "18         West Ham  54  152   105   6\n",
      "19           Wolves  34  105    71  11\n"
     ]
    }
   ],
   "source": [
    "##Squad Goalkeeping\n",
    "#all_tables[3]\n",
    "rows12 = all_tables[3].find_all('tr')\n",
    "column12 = ['Team', 'GA', 'SoTA', 'Saves', 'CS']\n",
    "df12 = []\n",
    "df12 = pd.DataFrame(columns = column12)\n",
    "rows12 = all_tables[3].find_all('tr')\n",
    "for i in range(0, len(rows12)):\n",
    "    Team = rows12[i].th.text\n",
    "    GA = rows12[i].find('td',{'data-stat':'goals_against_gk'}).text\n",
    "    SoTA = rows12[i].find('td',{'data-stat':'shots_on_target_against'}).text\n",
    "    Saves = rows12[i].find('td',{'data-stat':'saves'}).text\n",
    "    CS = rows12[i].find('td',{'data-stat':'clean_sheets'}).text\n",
    "    values12 = [Team, GA, SoTA, Saves, CS]\n",
    "#    print(values12)\n",
    "#    break\n",
    "    df12 = df12.append(pd.Series(values12,index=column12),ignore_index=True)\n",
    "print(df12)"
   ]
  },
  {
   "cell_type": "code",
   "execution_count": null,
   "metadata": {},
   "outputs": [],
   "source": []
  },
  {
   "cell_type": "code",
   "execution_count": 30,
   "metadata": {},
   "outputs": [
    {
     "name": "stdout",
     "output_type": "stream",
     "text": [
      "               Team PK   Sh  SoT  FK\n",
      "0           Arsenal  2  335  115  14\n",
      "1       Aston Villa  1  386  125  13\n",
      "2       Bournemouth  1  311   96  18\n",
      "3          Brighton  1  389  122  11\n",
      "4           Burnley  2  308  100  16\n",
      "5           Chelsea  5  511  173  19\n",
      "6    Crystal Palace  3  294   92  10\n",
      "7           Everton  0  404  137  17\n",
      "8    Leicester City  5  425  149  16\n",
      "9         Liverpool  5  477  177  15\n",
      "10  Manchester City  5  577  197  22\n",
      "11   Manchester Utd  7  443  165  27\n",
      "12    Newcastle Utd  0  323  103  12\n",
      "13     Norwich City  2  352  109  13\n",
      "14    Sheffield Utd  1  302   91   4\n",
      "15      Southampton  1  417  142  23\n",
      "16        Tottenham  3  372  132  16\n",
      "17          Watford  4  347   96  15\n",
      "18         West Ham  3  315  129  10\n",
      "19           Wolves  3  394  122  11\n"
     ]
    }
   ],
   "source": [
    "##Squad Shooting\n",
    "##all_tables[5]\n",
    "rows13 = all_tables[5].find_all('tr')\n",
    "column13 = ['Team', 'PK', 'Sh', 'SoT', 'FK']\n",
    "df13 = []\n",
    "df13 = pd.DataFrame(columns = column13)\n",
    "for i in range(0, len(rows13)):\n",
    "    Team = rows13[i].th.text\n",
    "    PK = rows13[i].find('td',{'data-stat':'pens_made'}).text\n",
    "    Sh = rows13[i].find('td',{'data-stat':'shots_total'}).text\n",
    "    SoT = rows13[i].find('td',{'data-stat':'shots_on_target'}).text\n",
    "    FK = rows13[i].find('td',{'data-stat':'shots_free_kicks'}).text\n",
    "    values13 = [Team, PK, Sh, SoT, FK]\n",
    "#    print(values13)\n",
    "#    break\n",
    "    df13 = df13.append(pd.Series(values13,index=column13),ignore_index=True)\n",
    "print(df13)"
   ]
  },
  {
   "cell_type": "code",
   "execution_count": null,
   "metadata": {},
   "outputs": [],
   "source": []
  },
  {
   "cell_type": "code",
   "execution_count": 34,
   "metadata": {
    "scrolled": true
   },
   "outputs": [
    {
     "name": "stdout",
     "output_type": "stream",
     "text": [
      "               Team    Cmp    Att CmpPert TotDist PrgDist\n",
      "0           Arsenal  13583  16379    82.9  265976   78747\n",
      "1       Aston Villa  10054  13294    75.6  209848   73795\n",
      "2       Bournemouth  10104  13352    75.7  198302   71180\n",
      "3          Brighton  13467  16670    80.8  270863   87980\n",
      "4           Burnley   7783  11295    68.9  160118   63312\n",
      "5           Chelsea  16418  19581    83.8  319450   91020\n",
      "6    Crystal Palace   9586  12679    75.6  186681   71735\n",
      "7           Everton  10591  13886    76.3  224351   81653\n",
      "8    Leicester City  14001  17086    81.9  268887   83831\n",
      "9         Liverpool  17000  20466    83.1  347166  101842\n",
      "10  Manchester City  19491  22281    87.5  377069  101125\n",
      "11   Manchester Utd  13844  16871    82.1  255985   77936\n",
      "12    Newcastle Utd   8295  11339    73.2  171598   66438\n",
      "13     Norwich City  12031  15088    79.7  221149   72329\n",
      "14    Sheffield Utd  10098  13644    74.0  203234   70527\n",
      "15      Southampton   9951  13676    72.8  191164   69408\n",
      "16        Tottenham  13067  16295    80.2  251487   77324\n",
      "17          Watford   9504  13109    72.5  187751   71015\n",
      "18         West Ham  10082  13443    75.0  195309   73868\n",
      "19           Wolves  11616  14819    78.4  246501   81519\n"
     ]
    }
   ],
   "source": [
    "##Squad Passing\n",
    "##all_tables[6]\n",
    "rows14 = all_tables[6].find_all('tr')\n",
    "column14 = ['Team', 'Cmp', 'Att', 'CmpPert', 'TotDist', 'PrgDist']\n",
    "df14 = []\n",
    "df14 = pd.DataFrame(columns = column14)\n",
    "for i in range(0, len(rows14)):\n",
    "    Team = rows14[i].th.text\n",
    "    Cmp = rows14[i].find('td',{'data-stat':'passes_completed'}).text\n",
    "    Att = rows14[i].find('td',{'data-stat':'passes'}).text\n",
    "    CmpPert = rows14[i].find('td',{'data-stat':'passes_pct'}).text\n",
    "    TotDist = rows14[i].find('td',{'data-stat':'passes_total_distance'}).text\n",
    "    PrgDist = rows14[i].find('td',{'data-stat':'passes_progressive_distance'}).text\n",
    "    values14 = [Team, Cmp, Att, CmpPert, TotDist, PrgDist]\n",
    "#    print(values14)\n",
    "#    break\n",
    "    df14 = df14.append(pd.Series(values14,index=column14),ignore_index=True)\n",
    "print(df14)\n"
   ]
  },
  {
   "cell_type": "code",
   "execution_count": 37,
   "metadata": {},
   "outputs": [
    {
     "name": "stdout",
     "output_type": "stream",
     "text": [
      "               Team  Tkl TklW Press PressSucc Block  Int   Clr Err\n",
      "0           Arsenal  499  310  5154      1362   496  272   799   9\n",
      "1       Aston Villa  516  328  5107      1391   637  358   858  25\n",
      "2       Bournemouth  466  282  5585      1429   578  398  1015  12\n",
      "3          Brighton  559  345  4841      1481   490  326   756  12\n",
      "4           Burnley  479  278  4920      1225   563  312  1025   4\n",
      "5           Chelsea  615  380  5232      1589   472  371   772   7\n",
      "6    Crystal Palace  596  350  5210      1386   560  371   878  10\n",
      "7           Everton  639  355  5111      1396   454  339   839   6\n",
      "8    Leicester City  638  395  5399      1657   486  343   862  10\n",
      "9         Liverpool  518  323  4843      1544   404  288   748   7\n",
      "10  Manchester City  464  295  4239      1298   368  287   526  11\n",
      "11   Manchester Utd  515  303  5093      1445   510  300   755   6\n",
      "12    Newcastle Utd  540  308  5155      1274   534  320   982  10\n",
      "13     Norwich City  604  361  5587      1538   603  322   872   9\n",
      "14    Sheffield Utd  548  337  5342      1485   501  346  1009  12\n",
      "15      Southampton  684  407  6003      1844   591  325  1114  17\n",
      "16        Tottenham  581  372  5291      1500   548  287   891   8\n",
      "17          Watford  591  364  5833      1590   521  342   971   9\n",
      "18         West Ham  602  388  5620      1524   534  351   767  11\n",
      "19           Wolves  633  373  5544      1492   505  360   833  11\n"
     ]
    }
   ],
   "source": [
    "##Squad Defensive Actions\n",
    "#all_tables[9]\n",
    "rows15 = all_tables[9].find_all('tr')\n",
    "column15 = ['Team', 'Tkl', 'TklW', 'Press', 'PressSucc', 'Block', 'Int', 'Clr', 'Err']\n",
    "df15 = []\n",
    "df15 = pd.DataFrame(columns = column15)\n",
    "for i in range(0, len(rows15)):\n",
    "    Team = rows15[i].th.text\n",
    "    Tkl = rows15[i].find('td',{'data-stat':'tackles'}).text\n",
    "    TklW = rows15[i].find('td',{'data-stat':'tackles_won'}).text\n",
    "    Press = rows15[i].find('td',{'data-stat':'pressures'}).text\n",
    "    PressSucc = rows15[i].find('td',{'data-stat':'pressure_regains'}).text\n",
    "    Block = rows15[i].find('td',{'data-stat':'blocks'}).text\n",
    "    Int = rows15[i].find('td',{'data-stat':'interceptions'}).text\n",
    "    Clr = rows15[i].find('td',{'data-stat':'clearances'}).text\n",
    "    Err = rows15[i].find('td',{'data-stat':'errors'}).text\n",
    "    values15 = [Team, Tkl, TklW, Press, PressSucc, Block, Int, Clr, Err]\n",
    "#    print(values15)\n",
    "#    break\n",
    "    df15 = df15.append(pd.Series(values15,index=column15),ignore_index=True)\n",
    "print(df15)"
   ]
  },
  {
   "cell_type": "code",
   "execution_count": 40,
   "metadata": {},
   "outputs": [
    {
     "name": "stdout",
     "output_type": "stream",
     "text": [
      "               Team Touches SuccDri TotDistCarr   Targ    Rec Miscon Dispos\n",
      "0           Arsenal   20012     354       81171  15661  13583    372    385\n",
      "1       Aston Villa   17184     327       65412  12237  10054    362    370\n",
      "2       Bournemouth   17295     292       62266  12336  10104    423    354\n",
      "3          Brighton   20393     296       78550  15869  13467    396    416\n",
      "4           Burnley   14985     237       44634  10227   7783    330    297\n",
      "5           Chelsea   23416     400       89826  18863  16418    392    390\n",
      "6    Crystal Palace   16710     368       58141  11767   9586    407    436\n",
      "7           Everton   17736     326       64116  12975  10591    406    393\n",
      "8    Leicester City   20997     343       76794  16192  14001    381    408\n",
      "9         Liverpool   24025     359       85036  19644  17000    379    369\n",
      "10  Manchester City   25444     433      104236  21516  19491    269    332\n",
      "11   Manchester Utd   20619     400       85480  16005  13844    368    397\n",
      "12    Newcastle Utd   15129     362       52277  10452   8295    383    339\n",
      "13     Norwich City   19107     385       71298  14263  12031    389    399\n",
      "14    Sheffield Utd   17259     306       53926  12645  10098    341    304\n",
      "15      Southampton   18086     383       59629  12510   9951    461    364\n",
      "16        Tottenham   20164     396       74029  15476  13067    328    395\n",
      "17          Watford   17002     308       54602  11967   9504    368    343\n",
      "18         West Ham   17035     350       62741  12551  10082    337    337\n",
      "19           Wolves   18646     447       69869  13894  11616    383    374\n"
     ]
    }
   ],
   "source": [
    "##Squad Possession\n",
    "all_tables[10]\n",
    "rows16 = all_tables[10].find_all('tr')\n",
    "column16 = ['Team', 'Touches', 'SuccDri', 'TotDistCarr', 'Targ', 'Rec', 'Miscon', 'Dispos']\n",
    "df16 = []\n",
    "df16 = pd.DataFrame(columns = column16)\n",
    "for i in range(0, len(rows15)):\n",
    "    Team = rows16[i].th.text\n",
    "    Touches = rows16[i].find('td',{'data-stat':'touches'}).text\n",
    "    SuccDri = rows16[i].find('td',{'data-stat':'dribbles_completed'}).text\n",
    "    TotDistCarr = rows16[i].find('td',{'data-stat':'carry_distance'}).text\n",
    "    Targ = rows16[i].find('td',{'data-stat':'pass_targets'}).text\n",
    "    Rec = rows16[i].find('td',{'data-stat':'passes_received'}).text\n",
    "    Miscon = rows16[i].find('td',{'data-stat':'miscontrols'}).text\n",
    "    Dispos = rows16[i].find('td',{'data-stat':'dispossessed'}).text\n",
    "    values16 = [Team, Touches, SuccDri, TotDistCarr, Targ, Rec, Miscon, Dispos]\n",
    "#    print(values16)\n",
    "#    break\n",
    "    df16 = df16.append(pd.Series(values16,index=column16),ignore_index=True)\n",
    "print(df16)"
   ]
  },
  {
   "cell_type": "code",
   "execution_count": 38,
   "metadata": {},
   "outputs": [
    {
     "data": {
      "text/plain": [
       "<tr><th class=\"left\" data-stat=\"squad\" scope=\"row\"><a href=\"/en/squads/18bb7c10/Arsenal\">Arsenal</a></th><td class=\"right\" data-stat=\"players_used\">28</td><td class=\"center\" data-stat=\"possession\">54.8</td><td class=\"right group_start\" data-stat=\"touches\">20012</td><td class=\"right\" data-stat=\"touches_def_pen_area\">2415</td><td class=\"right\" data-stat=\"touches_def_3rd\">7115</td><td class=\"right\" data-stat=\"touches_mid_3rd\">9447</td><td class=\"right\" data-stat=\"touches_att_3rd\">4796</td><td class=\"right\" data-stat=\"touches_att_pen_area\">801</td><td class=\"right\" data-stat=\"touches_live_ball\">18506</td><td class=\"right group_start\" data-stat=\"dribbles_completed\">354</td><td class=\"right\" data-stat=\"dribbles\">594</td><td class=\"right\" data-stat=\"dribbles_completed_pct\">59.6</td><td class=\"right\" data-stat=\"players_dribbled_past\">378</td><td class=\"right\" data-stat=\"nutmegs\">25</td><td class=\"right group_start\" data-stat=\"carries\">13701</td><td class=\"right\" data-stat=\"carry_distance\">81171</td><td class=\"right\" data-stat=\"carry_progressive_distance\">46190</td><td class=\"right group_start\" data-stat=\"pass_targets\">15661</td><td class=\"right\" data-stat=\"passes_received\">13583</td><td class=\"right\" data-stat=\"passes_received_pct\">86.7</td><td class=\"right group_start\" data-stat=\"miscontrols\">372</td><td class=\"right\" data-stat=\"dispossessed\">385</td></tr>"
      ]
     },
     "execution_count": 38,
     "metadata": {},
     "output_type": "execute_result"
    }
   ],
   "source": [
    "rows16 = all_tables[10].find_all('tr')\n",
    "rows16[0]"
   ]
  },
  {
   "cell_type": "code",
   "execution_count": null,
   "metadata": {},
   "outputs": [],
   "source": []
  },
  {
   "cell_type": "code",
   "execution_count": null,
   "metadata": {},
   "outputs": [],
   "source": []
  },
  {
   "cell_type": "code",
   "execution_count": null,
   "metadata": {},
   "outputs": [],
   "source": []
  }
 ],
 "metadata": {
  "kernelspec": {
   "display_name": "Python 3",
   "language": "python",
   "name": "python3"
  },
  "language_info": {
   "codemirror_mode": {
    "name": "ipython",
    "version": 3
   },
   "file_extension": ".py",
   "mimetype": "text/x-python",
   "name": "python",
   "nbconvert_exporter": "python",
   "pygments_lexer": "ipython3",
   "version": "3.7.6"
  }
 },
 "nbformat": 4,
 "nbformat_minor": 2
}
