{
 "cells": [
  {
   "cell_type": "code",
   "execution_count": null,
   "metadata": {},
   "outputs": [],
   "source": [
    "## Milestone 1"
   ]
  },
  {
   "cell_type": "code",
   "execution_count": 1,
   "metadata": {},
   "outputs": [],
   "source": [
    "from urllib.request import Request\n",
    "import urllib\n",
    "from datetime import datetime\n",
    "import numpy as np\n",
    "import pandas as pd\n",
    "import csv\n",
    "import os"
   ]
  },
  {
   "cell_type": "code",
   "execution_count": null,
   "metadata": {},
   "outputs": [],
   "source": []
  },
  {
   "cell_type": "code",
   "execution_count": null,
   "metadata": {},
   "outputs": [],
   "source": [
    "## Milestone 2"
   ]
  },
  {
   "cell_type": "code",
   "execution_count": 2,
   "metadata": {},
   "outputs": [],
   "source": [
    "import os, uuid, sys\n",
    "from azure.storage.blob import BlockBlobService, PublicAccess\n",
    "block_blob_service = BlockBlobService(account_name='wqd7005', account_key='XpndfNFVKvJKGU22QzDYnw8VKc91G4QIW3JESEZQSO4hxLkCB16O+F0wdo6IAAuPvJ+FizhoDO7AWKm4x9N6xw==')"
   ]
  },
  {
   "cell_type": "code",
   "execution_count": 3,
   "metadata": {},
   "outputs": [],
   "source": [
    "# Create a container called 'rawblob'.\n",
    "container_name ='rawblob'\n",
    "#block_blob_service.create_container(container_name)\n"
   ]
  },
  {
   "cell_type": "code",
   "execution_count": 25,
   "metadata": {},
   "outputs": [
    {
     "name": "stdout",
     "output_type": "stream",
     "text": [
      "\n",
      "Downloading blob to C:\\Users\\ts\\Documents\\Data Mining\\Data/ADVENTA_DOWNLOADED.csv\n",
      "\n",
      "Downloading blob to C:\\Users\\ts\\Documents\\Data Mining\\Data/AHEALTH_DOWNLOADED.csv\n",
      "\n",
      "Downloading blob to C:\\Users\\ts\\Documents\\Data Mining\\Data/DPHARMA_DOWNLOADED.csv\n",
      "\n",
      "Downloading blob to C:\\Users\\ts\\Documents\\Data Mining\\Data/HARTA_DOWNLOADED.csv\n",
      "\n",
      "Downloading blob to C:\\Users\\ts\\Documents\\Data Mining\\Data/IHH_DOWNLOADED.csv\n",
      "\n",
      "Downloading blob to C:\\Users\\ts\\Documents\\Data Mining\\Data/KOSSAN_DOWNLOADED.csv\n",
      "\n",
      "Downloading blob to C:\\Users\\ts\\Documents\\Data Mining\\Data/KOTRA_DOWNLOADED.csv\n",
      "\n",
      "Downloading blob to C:\\Users\\ts\\Documents\\Data Mining\\Data/KPJ_DOWNLOADED.csv\n",
      "\n",
      "Downloading blob to C:\\Users\\ts\\Documents\\Data Mining\\Data/PHARMA_DOWNLOADED.csv\n",
      "\n",
      "Downloading blob to C:\\Users\\ts\\Documents\\Data Mining\\Data/SUPERMX_DOWNLOADED.csv\n",
      "\n",
      "Downloading blob to C:\\Users\\ts\\Documents\\Data Mining\\Data/TMCLIFE_DOWNLOADED.csv\n",
      "\n",
      "Downloading blob to C:\\Users\\ts\\Documents\\Data Mining\\Data/TOPGLOV_DOWNLOADED.csv\n",
      "\n",
      "Downloading blob to C:\\Users\\ts\\Documents\\Data Mining\\Data/YSPSAH_DOWNLOADED.csv\n"
     ]
    }
   ],
   "source": [
    "# Download the blob(s) to local drive in csv format\n",
    "# Add '_DOWNLOADED' as prefix to '.txt' so you can see both files in Documents.\n",
    "generator = block_blob_service.list_blobs(container_name)\n",
    "for blob in generator:\n",
    "#    print(\"\\t Blob name: \" + blob.name)\n",
    "    local_file_name=os.path.join(blob.name)\n",
    "    full_path_to_file2 = os.path.join(local_path, str.replace(local_file_name ,'.csv', '_DOWNLOADED.csv'))\n",
    "    print(\"\\nDownloading blob to \" + full_path_to_file2)\n",
    "    block_blob_service.get_blob_to_path(container_name, blob.name, full_path_to_file2)\n",
    "\n",
    "#sys.stdout.write(\"Sample finished running. When you hit <any key>\")\n",
    "#sys.stdout.flush()"
   ]
  },
  {
   "cell_type": "code",
   "execution_count": 4,
   "metadata": {},
   "outputs": [
    {
     "name": "stdout",
     "output_type": "stream",
     "text": [
      "ADVENTA\n",
      "AHEALTH\n",
      "DPHARMA\n",
      "HARTA\n",
      "IHH\n",
      "KOSSAN\n",
      "KOTRA\n",
      "KPJ\n",
      "PHARMA\n",
      "SUPERMX\n",
      "TMCLIFE\n",
      "TOPGLOV\n",
      "YSPSAH\n"
     ]
    }
   ],
   "source": [
    "## Download blob in dataframe\n",
    "from io import StringIO\n",
    "import pandas as pd\n",
    "generator = block_blob_service.list_blobs(container_name)\n",
    "tables = {}\n",
    "for blob in generator:\n",
    "    local_file_name=os.path.join(blob.name)\n",
    "    #from azure.storage.blob import BlobService\n",
    "    #print(local_file_name)\n",
    "    blobstring = block_blob_service.get_blob_to_text(container_name,local_file_name).content\n",
    "    #df = pd.read_csv(StringIO(blobstring))\n",
    "    names1 = blob.name[5:]\n",
    "    names = names1[:-4]\n",
    "    print(names)\n",
    "    tables[names] = pd.read_csv(StringIO(blobstring))"
   ]
  },
  {
   "cell_type": "code",
   "execution_count": 7,
   "metadata": {},
   "outputs": [
    {
     "data": {
      "text/plain": [
       "['ADVENTA',\n",
       " 'AHEALTH',\n",
       " 'DPHARMA',\n",
       " 'HARTA',\n",
       " 'IHH',\n",
       " 'KOSSAN',\n",
       " 'KOTRA',\n",
       " 'KPJ',\n",
       " 'PHARMA',\n",
       " 'SUPERMX',\n",
       " 'TMCLIFE',\n",
       " 'TOPGLOV',\n",
       " 'YSPSAH']"
      ]
     },
     "execution_count": 7,
     "metadata": {},
     "output_type": "execute_result"
    }
   ],
   "source": [
    "list(tables)"
   ]
  },
  {
   "cell_type": "code",
   "execution_count": 33,
   "metadata": {},
   "outputs": [],
   "source": [
    "import csv\n",
    "topglov=pd.read_csv('Data\\TOPGLOV_DOWNLOADED.csv')"
   ]
  },
  {
   "cell_type": "code",
   "execution_count": 34,
   "metadata": {},
   "outputs": [
    {
     "data": {
      "text/plain": [
       "t    0\n",
       "c    5\n",
       "o    9\n",
       "h    8\n",
       "l    7\n",
       "v    0\n",
       "s    0\n",
       "dtype: int64"
      ]
     },
     "execution_count": 34,
     "metadata": {},
     "output_type": "execute_result"
    }
   ],
   "source": [
    "topglov.isnull().sum()"
   ]
  },
  {
   "cell_type": "code",
   "execution_count": null,
   "metadata": {},
   "outputs": [],
   "source": [
    "#column t - date ()\n",
    "#c, o, h, l - stock price\n",
    "#from previous analysis result it only has the missing data under c, o, h, l\n",
    "#we can't drop row with NA. so need to replace NA with mean value. \n"
   ]
  },
  {
   "cell_type": "code",
   "execution_count": 45,
   "metadata": {},
   "outputs": [
    {
     "name": "stdout",
     "output_type": "stream",
     "text": [
      "              t     c     o     h     l         v   s\n",
      "14   1548172800   NaN  4.87  4.87  4.82   4520000  ok\n",
      "18   1548691200  4.92   NaN  4.95  4.81   5547900  ok\n",
      "23   1549555200  4.89  4.85   NaN  4.83   4551400  ok\n",
      "24   1549814400   NaN  4.89  4.90  4.84   6424900  ok\n",
      "32   1550678400  5.10   NaN  5.17   NaN  10684700  ok\n",
      "44   1552233600  4.45  4.60   NaN  4.43  16086400  ok\n",
      "49   1552838400  4.52  4.57  4.59   NaN   5488400  ok\n",
      "57   1553702400   NaN   NaN  4.51  4.45   2837100  ok\n",
      "72   1555516800  4.48  4.55   NaN  4.47   3389000  ok\n",
      "75   1555948800  4.76  4.54  4.77   NaN   6842300  ok\n",
      "84   1557158400  4.81   NaN  4.84  4.78   1645700  ok\n",
      "99   1559145600  5.02  5.03   NaN  5.00   4137900  ok\n",
      "108  1560700800  5.00   NaN  5.06  5.00   4564100  ok\n",
      "112  1561046400  5.00  4.95  5.02   NaN  13681700  ok\n",
      "114  1561392000  4.96  4.97   NaN  4.91   1973200  ok\n",
      "126  1562774400  4.75   NaN  4.79  4.73   4552600  ok\n",
      "133  1563724800  4.64  4.66  4.68   NaN   3444500  ok\n",
      "146  1565193600   NaN  4.58  4.58  4.55   2465200  ok\n",
      "147  1565280000  4.52  4.57   NaN  4.51   1717000  ok\n",
      "170  1568822400  4.74  4.79  4.79   NaN   2390000  ok\n",
      "173  1569254400  4.73   NaN  4.75  4.70   1903700  ok\n",
      "190  1571241600  4.34  4.30  4.35   NaN   2520000  ok\n",
      "200  1572537600  4.40   NaN  4.40  4.34   2234400  ok\n",
      "202  1572883200   NaN  4.53  4.53  4.49   2809600  ok\n",
      "217  1574697600  4.59  4.59   NaN  4.54   5069900  ok\n",
      "221  1575216000  4.49  4.54   NaN  4.49    817900  ok\n",
      "237  1577289600  4.75   NaN  4.79  4.74    643600  ok\n"
     ]
    }
   ],
   "source": [
    "print(topglov[topglov.isnull().any(axis=1)])"
   ]
  },
  {
   "cell_type": "code",
   "execution_count": 48,
   "metadata": {},
   "outputs": [],
   "source": [
    "mean_valuec=topglov['c'].mean()\n",
    "topglov['c']=topglov['c'].fillna(mean_valuec)\n",
    "mean_valueo=topglov['o'].mean()\n",
    "topglov['o']=topglov['o'].fillna(mean_valueo)\n",
    "mean_valueh=topglov['h'].mean()\n",
    "topglov['h']=topglov['h'].fillna(mean_valueh)\n",
    "mean_valuel=topglov['l'].mean()\n",
    "topglov['l']=topglov['l'].fillna(mean_valuel)"
   ]
  },
  {
   "cell_type": "code",
   "execution_count": 49,
   "metadata": {},
   "outputs": [
    {
     "data": {
      "text/plain": [
       "t    0\n",
       "c    0\n",
       "o    0\n",
       "h    0\n",
       "l    0\n",
       "v    0\n",
       "s    0\n",
       "dtype: int64"
      ]
     },
     "execution_count": 49,
     "metadata": {},
     "output_type": "execute_result"
    }
   ],
   "source": [
    "topglov.isnull().sum()"
   ]
  },
  {
   "cell_type": "code",
   "execution_count": null,
   "metadata": {},
   "outputs": [],
   "source": []
  }
 ],
 "metadata": {
  "kernelspec": {
   "display_name": "Python 3",
   "language": "python",
   "name": "python3"
  },
  "language_info": {
   "codemirror_mode": {
    "name": "ipython",
    "version": 3
   },
   "file_extension": ".py",
   "mimetype": "text/x-python",
   "name": "python",
   "nbconvert_exporter": "python",
   "pygments_lexer": "ipython3",
   "version": "3.7.4"
  }
 },
 "nbformat": 4,
 "nbformat_minor": 2
}
