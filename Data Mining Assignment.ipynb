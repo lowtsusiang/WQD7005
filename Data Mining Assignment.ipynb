{
 "cells": [
  {
   "cell_type": "code",
   "execution_count": null,
   "metadata": {},
   "outputs": [],
   "source": [
    "pip install azure-mgmt-resource\n",
    "pip install azure-mgmt-datalake-store\n",
    "pip install azure-datalake-storr"
   ]
  },
  {
   "cell_type": "code",
   "execution_count": null,
   "metadata": {},
   "outputs": [],
   "source": [
    "pip install pandas\n",
    "pip install azure\n",
    "pip install numpy\n",
    "pip install urllib"
   ]
  },
  {
   "cell_type": "code",
   "execution_count": null,
   "metadata": {},
   "outputs": [],
   "source": [
    "pip install azure-storage\n",
    "#pip install azure-storage-blob==0.37.1"
   ]
  },
  {
   "cell_type": "code",
   "execution_count": null,
   "metadata": {},
   "outputs": [],
   "source": [
    "pip freeze"
   ]
  },
  {
   "cell_type": "code",
   "execution_count": null,
   "metadata": {},
   "outputs": [],
   "source": [
    "## Milestone 1"
   ]
  },
  {
   "cell_type": "code",
   "execution_count": 9,
   "metadata": {},
   "outputs": [],
   "source": [
    "from urllib.request import Request\n",
    "import urllib\n",
    "from datetime import datetime\n",
    "import numpy as np\n",
    "import pandas as pd\n",
    "import csv\n",
    "import os"
   ]
  },
  {
   "cell_type": "code",
   "execution_count": 6,
   "metadata": {},
   "outputs": [],
   "source": [
    "# sector_key_value = [{\"main_market\": \"healthcare\"}, {\"main_market\": \"energy\"}, {\"main_market\": \"tecnology\"},\n",
    "#                    {\"main_market\": \"properties\"}, {\"main_market\": \"utilities\"}, {\"main_market\": \"finance\"},\n",
    "#                    {\"main_market\": \"telco_media\"}, {\"main_market\": \"consumer\"}, {\"main_market\": \"constructn\"},\n",
    "#                    {\"main_market\": \"reits\"}, {\"main_market\": \"ind-prod\"}, {\"main_market\": \"plantation\"},\n",
    "#                    {\"main_market\": \"transport\"}, {\"main_market\": \"specialpurposeacquis\"}]\n",
    "sector_key_value = [{\"main_market\": \"healthcare\"}]"
   ]
  },
  {
   "cell_type": "code",
   "execution_count": 7,
   "metadata": {},
   "outputs": [],
   "source": [
    "## Collect the list of counter in the listed sector\n",
    "\n",
    "stock_list = []\n",
    "for item in sector_key_value:\n",
    "    for k, v in item.items():\n",
    "        stock_list.append([\"https://s3-ap-southeast-1.amazonaws.com/biz.thestar.com.my/json/sectors/{0}/{1}/stocks.js\".\n",
    "                          format(k, v), k, v])"
   ]
  },
  {
   "cell_type": "code",
   "execution_count": 18,
   "metadata": {},
   "outputs": [],
   "source": [
    "## Collect the data of selected counter\n",
    "\n",
    "def company_name(js_urls):\n",
    "    for url in js_urls:\n",
    "#        try:\n",
    "            res = urllib.request.urlopen(url[0])\n",
    "            body = str(res.read()).split(\"=\")\n",
    "            body = body[1].replace(\"\\\\r\\\\n\", \"\")\n",
    "            body = body.replace(body[0:14], \"\")\n",
    "            body = body.replace(\"]};\\'\", \"\")\n",
    "            data = eval(body)\n",
    "            try:\n",
    "                for item in data:\n",
    "                    crawl_data(item, url[1], url[2])\n",
    "            except:\n",
    "                crawl_data(data, url[1], url[2])\n",
    "#        except:\n",
    "#            print(\"error_stop1\")\n",
    "#            continue\n",
    "\n",
    "\n",
    "def crawl_data(name, sector, subsector):\n",
    "    start_date = \"1546376400\"\n",
    "    end_date = \"1577826000\"\n",
    "    url = \"https://charts.thestar.com.my/datafeed-udf/history?symbol={0}&resolution=D&from={1}&to={2}\".format(name[\"counter\"], start_date, end_date)\n",
    "    res = urllib.request.urlopen(url)\n",
    "    body = res.read().decode()\n",
    "    dict_data = eval(body)\n",
    "#    print(dict_data)\n",
    "    df=pd.DataFrame(dict_data)\n",
    "    path=\"C:\\\\Users\\\\ts\\\\Documents\\\\Data Mining\\\\Data\\\\\"\n",
    "    #print(path)\n",
    "    csv_file = format(name[\"counter\"])+\".csv\"\n",
    "    #print(csv_file)\n",
    "    df.to_csv (os.path.join(path,csv_file), index = False, header=True)\n",
    "\n",
    "if __name__ == \"__main__\":\n",
    "    company_name(stock_list)"
   ]
  },
  {
   "cell_type": "code",
   "execution_count": null,
   "metadata": {},
   "outputs": [],
   "source": []
  },
  {
   "cell_type": "code",
   "execution_count": null,
   "metadata": {},
   "outputs": [],
   "source": [
    "## Milestone 2"
   ]
  },
  {
   "cell_type": "code",
   "execution_count": 19,
   "metadata": {},
   "outputs": [],
   "source": [
    "import os, uuid, sys\n",
    "from azure.storage.blob import BlockBlobService, PublicAccess\n",
    "block_blob_service = BlockBlobService(account_name='wqd7005', account_key='XpndfNFVKvJKGU22QzDYnw8VKc91G4QIW3JESEZQSO4hxLkCB16O+F0wdo6IAAuPvJ+FizhoDO7AWKm4x9N6xw==')"
   ]
  },
  {
   "cell_type": "code",
   "execution_count": 21,
   "metadata": {},
   "outputs": [
    {
     "data": {
      "text/plain": [
       "True"
      ]
     },
     "execution_count": 21,
     "metadata": {},
     "output_type": "execute_result"
    }
   ],
   "source": [
    "# Create a container called 'rawblob'.\n",
    "container_name ='rawblob'\n",
    "block_blob_service.create_container(container_name)\n"
   ]
  },
  {
   "cell_type": "code",
   "execution_count": 22,
   "metadata": {},
   "outputs": [
    {
     "data": {
      "text/plain": [
       "<azure.storage.blob.models.ResourceProperties at 0x1eb4441fc08>"
      ]
     },
     "execution_count": 22,
     "metadata": {},
     "output_type": "execute_result"
    }
   ],
   "source": [
    "# Set the permission so the blobs are public.\n",
    "block_blob_service.set_container_acl(container_name, public_access=PublicAccess.Container)"
   ]
  },
  {
   "cell_type": "code",
   "execution_count": 23,
   "metadata": {},
   "outputs": [
    {
     "name": "stdout",
     "output_type": "stream",
     "text": [
      "ADVENTA.csv\n",
      "AHEALTH.csv\n",
      "DPHARMA.csv\n",
      "HARTA.csv\n",
      "IHH.csv\n",
      "KOSSAN.csv\n",
      "KOTRA.csv\n",
      "KPJ.csv\n",
      "PHARMA.csv\n",
      "SUPERMX.csv\n",
      "TMCLIFE.csv\n",
      "TOPGLOV.csv\n",
      "YSPSAH.csv\n"
     ]
    }
   ],
   "source": [
    "# Upload the created file, use local_file_name for the blob name\n",
    "import os\n",
    "local_path=os.path.abspath(os.path.curdir)\n",
    "path=os.path.join(local_path, \"Data\")\n",
    "\n",
    "def files(path):\n",
    "    for file in os.listdir(path):\n",
    "        if os.path.isfile(os.path.join(path, file)):\n",
    "            yield file\n",
    "\n",
    "for file in files(os.path.join(local_path, \"Data\")):\n",
    "    local_file_name=os.path.join(\"Data\",file)\n",
    "    full_path_to_file =os.path.join(local_path, local_file_name)\n",
    "    block_blob_service.create_blob_from_path(container_name, local_file_name, full_path_to_file)\n",
    "    print (file)"
   ]
  },
  {
   "cell_type": "code",
   "execution_count": 24,
   "metadata": {},
   "outputs": [
    {
     "name": "stdout",
     "output_type": "stream",
     "text": [
      "\n",
      "List blobs in the container\n",
      "\t Blob name: Data/ADVENTA.csv\n",
      "\t Blob name: Data/AHEALTH.csv\n",
      "\t Blob name: Data/DPHARMA.csv\n",
      "\t Blob name: Data/HARTA.csv\n",
      "\t Blob name: Data/IHH.csv\n",
      "\t Blob name: Data/KOSSAN.csv\n",
      "\t Blob name: Data/KOTRA.csv\n",
      "\t Blob name: Data/KPJ.csv\n",
      "\t Blob name: Data/PHARMA.csv\n",
      "\t Blob name: Data/SUPERMX.csv\n",
      "\t Blob name: Data/TMCLIFE.csv\n",
      "\t Blob name: Data/TOPGLOV.csv\n",
      "\t Blob name: Data/YSPSAH.csv\n"
     ]
    }
   ],
   "source": [
    "print(\"\\nList blobs in the container\")\n",
    "generator = block_blob_service.list_blobs(container_name)\n",
    "for blob in generator:\n",
    "    print(\"\\t Blob name: \" + blob.name)"
   ]
  },
  {
   "cell_type": "code",
   "execution_count": 25,
   "metadata": {},
   "outputs": [
    {
     "name": "stdout",
     "output_type": "stream",
     "text": [
      "\n",
      "Downloading blob to C:\\Users\\ts\\Documents\\Data Mining\\Data/ADVENTA_DOWNLOADED.csv\n",
      "\n",
      "Downloading blob to C:\\Users\\ts\\Documents\\Data Mining\\Data/AHEALTH_DOWNLOADED.csv\n",
      "\n",
      "Downloading blob to C:\\Users\\ts\\Documents\\Data Mining\\Data/DPHARMA_DOWNLOADED.csv\n",
      "\n",
      "Downloading blob to C:\\Users\\ts\\Documents\\Data Mining\\Data/HARTA_DOWNLOADED.csv\n",
      "\n",
      "Downloading blob to C:\\Users\\ts\\Documents\\Data Mining\\Data/IHH_DOWNLOADED.csv\n",
      "\n",
      "Downloading blob to C:\\Users\\ts\\Documents\\Data Mining\\Data/KOSSAN_DOWNLOADED.csv\n",
      "\n",
      "Downloading blob to C:\\Users\\ts\\Documents\\Data Mining\\Data/KOTRA_DOWNLOADED.csv\n",
      "\n",
      "Downloading blob to C:\\Users\\ts\\Documents\\Data Mining\\Data/KPJ_DOWNLOADED.csv\n",
      "\n",
      "Downloading blob to C:\\Users\\ts\\Documents\\Data Mining\\Data/PHARMA_DOWNLOADED.csv\n",
      "\n",
      "Downloading blob to C:\\Users\\ts\\Documents\\Data Mining\\Data/SUPERMX_DOWNLOADED.csv\n",
      "\n",
      "Downloading blob to C:\\Users\\ts\\Documents\\Data Mining\\Data/TMCLIFE_DOWNLOADED.csv\n",
      "\n",
      "Downloading blob to C:\\Users\\ts\\Documents\\Data Mining\\Data/TOPGLOV_DOWNLOADED.csv\n",
      "\n",
      "Downloading blob to C:\\Users\\ts\\Documents\\Data Mining\\Data/YSPSAH_DOWNLOADED.csv\n"
     ]
    }
   ],
   "source": [
    "# Download the blob(s) to local drive in csv format\n",
    "# Add '_DOWNLOADED' as prefix to '.txt' so you can see both files in Documents.\n",
    "generator = block_blob_service.list_blobs(container_name)\n",
    "for blob in generator:\n",
    "#    print(\"\\t Blob name: \" + blob.name)\n",
    "    local_file_name=os.path.join(blob.name)\n",
    "    full_path_to_file2 = os.path.join(local_path, str.replace(local_file_name ,'.csv', '_DOWNLOADED.csv'))\n",
    "    print(\"\\nDownloading blob to \" + full_path_to_file2)\n",
    "    block_blob_service.get_blob_to_path(container_name, blob.name, full_path_to_file2)\n",
    "\n",
    "#sys.stdout.write(\"Sample finished running. When you hit <any key>\")\n",
    "#sys.stdout.flush()"
   ]
  },
  {
   "cell_type": "code",
   "execution_count": 48,
   "metadata": {},
   "outputs": [
    {
     "name": "stdout",
     "output_type": "stream",
     "text": [
      "ADVENTA\n",
      "AHEALTH\n",
      "DPHARMA\n",
      "HARTA\n",
      "IHH\n",
      "KOSSAN\n",
      "KOTRA\n",
      "KPJ\n",
      "PHARMA\n",
      "SUPERMX\n",
      "TMCLIFE\n",
      "TOPGLOV\n",
      "YSPSAH\n"
     ]
    }
   ],
   "source": [
    "## Download blob in dataframe\n",
    "from io import StringIO\n",
    "import pandas as pd\n",
    "generator = block_blob_service.list_blobs(container_name)\n",
    "tables = {}\n",
    "for blob in generator:\n",
    "    local_file_name=os.path.join(blob.name)\n",
    "    #from azure.storage.blob import BlobService\n",
    "    #print(local_file_name)\n",
    "    blobstring = block_blob_service.get_blob_to_text(container_name,local_file_name).content\n",
    "    #df = pd.read_csv(StringIO(blobstring))\n",
    "    names1 = blob.name[5:]\n",
    "    names = names1[:-4]\n",
    "    print(names)\n",
    "    tables[names] = pd.read_csv(StringIO(blobstring))"
   ]
  },
  {
   "cell_type": "code",
   "execution_count": 49,
   "metadata": {},
   "outputs": [
    {
     "name": "stdout",
     "output_type": "stream",
     "text": [
      "{'ADVENTA':               t      c      o      h     l       v   s\n",
      "0    1546358400  0.435  0.400  0.435  0.40    9000  ok\n",
      "1    1546963200  0.430  0.430  0.430  0.43    5000  ok\n",
      "2    1547481600  0.380  0.380  0.380  0.38  124400  ok\n",
      "3    1547568000  0.370  0.380  0.400  0.37   21200  ok\n",
      "4    1547740800  0.355  0.360  0.380  0.35   73800  ok\n",
      "..          ...    ...    ...    ...   ...     ...  ..\n",
      "175  1577116800  0.550  0.555  0.555  0.55   10000  ok\n",
      "176  1577376000  0.560  0.560  0.560  0.56    9000  ok\n",
      "177  1577635200  0.560  0.560  0.560  0.56   30000  ok\n",
      "178  1577721600  0.600  0.620  0.620  0.60  208600  ok\n",
      "179  1577894400  0.610  0.610  0.610  0.61   80100  ok\n",
      "\n",
      "[180 rows x 7 columns], 'AHEALTH':               t     c     o     h     l      v   s\n",
      "0    1546444800  8.00  7.80  8.00  7.80  15600  ok\n",
      "1    1546531200  8.13  8.00  8.20  8.00  92600  ok\n",
      "2    1546790400  8.12  8.12  8.12  8.12   2000  ok\n",
      "3    1546876800  8.12  8.10  8.15  8.10  18000  ok\n",
      "4    1546963200  8.12  8.10  8.20  8.10  10500  ok\n",
      "..          ...   ...   ...   ...   ...    ...  ..\n",
      "231  1577289600  2.24  2.22  2.25  2.20  24000  ok\n",
      "232  1577376000  2.24  2.25  2.26  2.24  41200  ok\n",
      "233  1577635200  2.25  2.24  2.25  2.24  24600  ok\n",
      "234  1577721600  2.24  2.25  2.27  2.24   8100  ok\n",
      "235  1577894400  2.24  2.25  2.26  2.24  64400  ok\n",
      "\n",
      "[236 rows x 7 columns], 'DPHARMA':               t      c      o      h      l       v   s\n",
      "0    1546358400  0.950  0.940  0.950  0.940  123300  ok\n",
      "1    1546444800  0.955  0.950  0.955  0.950   61300  ok\n",
      "2    1546531200  0.980  0.945  0.980  0.945   57500  ok\n",
      "3    1546790400  1.020  0.985  1.030  0.985  328300  ok\n",
      "4    1546876800  1.010  1.030  1.040  1.010  155200  ok\n",
      "..          ...    ...    ...    ...    ...     ...  ..\n",
      "237  1577289600  1.390  1.400  1.410  1.390  256100  ok\n",
      "238  1577376000  1.400  1.390  1.410  1.390  477800  ok\n",
      "239  1577635200  1.400  1.410  1.420  1.390  181700  ok\n",
      "240  1577721600  1.420  1.390  1.430  1.390  311200  ok\n",
      "241  1577894400  1.460  1.410  1.480  1.410  570800  ok\n",
      "\n",
      "[242 rows x 7 columns], 'HARTA':               t     c     o     h     l         v   s\n",
      "0    1546358400  6.17  6.15  6.18  6.11    996800  ok\n",
      "1    1546444800  6.15  6.15  6.18  6.10    917700  ok\n",
      "2    1546531200  6.13  6.15  6.15  6.09   1104900  ok\n",
      "3    1546790400  5.75  6.11  6.14  5.69   8680300  ok\n",
      "4    1546876800  5.15  5.81  5.81  5.13  14457600  ok\n",
      "..          ...   ...   ...   ...   ...       ...  ..\n",
      "237  1577289600  5.43  5.46  5.49  5.39   1401500  ok\n",
      "238  1577376000  5.50  5.40  5.57  5.39   3109700  ok\n",
      "239  1577635200  5.56  5.50  5.57  5.50   2534100  ok\n",
      "240  1577721600  5.48  5.55  5.55  5.36   5974000  ok\n",
      "241  1577894400  5.35  5.40  5.43  5.32   2379500  ok\n",
      "\n",
      "[242 rows x 7 columns], 'IHH':               t     c     o     h     l         v   s\n",
      "0    1546358400  5.34  5.45  5.45  5.23    671800  ok\n",
      "1    1546444800  5.34  5.35  5.38  5.25   3870500  ok\n",
      "2    1546531200  5.44  5.34  5.53  5.24   2575000  ok\n",
      "3    1546790400  5.56  5.49  5.58  5.46   7502200  ok\n",
      "4    1546876800  5.63  5.60  5.65  5.41  15429400  ok\n",
      "..          ...   ...   ...   ...   ...       ...  ..\n",
      "237  1577289600  5.60  5.62  5.65  5.58    402700  ok\n",
      "238  1577376000  5.76  5.60  5.76  5.60    992100  ok\n",
      "239  1577635200  5.70  5.70  5.73  5.67   3220900  ok\n",
      "240  1577721600  5.47  5.65  5.70  5.43   3929100  ok\n",
      "241  1577894400  5.57  5.50  5.59  5.48   6634400  ok\n",
      "\n",
      "[242 rows x 7 columns], 'KOSSAN':               t     c     o     h     l        v   s\n",
      "0    1546358400  4.35  4.34  4.38  4.34    88100  ok\n",
      "1    1546444800  4.33  4.40  4.40  4.33  1079200  ok\n",
      "2    1546531200  4.33  4.32  4.34  4.32   116700  ok\n",
      "3    1546790400  4.25  4.30  4.40  4.21  3383400  ok\n",
      "4    1546876800  3.88  4.23  4.23  3.82  5278000  ok\n",
      "..          ...   ...   ...   ...   ...      ...  ..\n",
      "237  1577289600  4.20  4.16  4.25  4.16   312700  ok\n",
      "238  1577376000  4.25  4.18  4.25  4.16   311200  ok\n",
      "239  1577635200  4.20  4.24  4.24  4.19   467800  ok\n",
      "240  1577721600  4.16  4.18  4.19  4.15   152200  ok\n",
      "241  1577894400  4.16  4.16  4.17  4.15   187400  ok\n",
      "\n",
      "[242 rows x 7 columns], 'KOTRA':               t     c     o     h     l       v   s\n",
      "0    1546790400  1.70  1.70  1.70  1.70    9000  ok\n",
      "1    1546876800  1.70  1.70  1.70  1.70    3000  ok\n",
      "2    1547049600  1.70  1.70  1.70  1.70    6000  ok\n",
      "3    1547136000  1.70  1.70  1.70  1.70   11600  ok\n",
      "4    1547568000  1.70  1.70  1.70  1.70    5000  ok\n",
      "..          ...   ...   ...   ...   ...     ...  ..\n",
      "151  1577116800  1.86  1.84  1.86  1.84  262100  ok\n",
      "152  1577376000  1.86  1.88  1.88  1.86   11400  ok\n",
      "153  1577635200  1.88  1.86  1.88  1.86    3500  ok\n",
      "154  1577721600  1.88  1.88  1.89  1.87   23800  ok\n",
      "155  1577894400  1.90  1.91  1.91  1.90   14700  ok\n",
      "\n",
      "[156 rows x 7 columns], 'KPJ':               t      c      o      h      l         v   s\n",
      "0    1546358400  1.020  1.030  1.030  1.020    997000  ok\n",
      "1    1546444800  1.030  1.020  1.030  1.010    866100  ok\n",
      "2    1546531200  0.995  1.020  1.020  0.995  12403500  ok\n",
      "3    1546790400  1.000  1.000  1.010  0.995   3881000  ok\n",
      "4    1546876800  1.000  1.000  1.010  0.995   3208800  ok\n",
      "..          ...    ...    ...    ...    ...       ...  ..\n",
      "237  1577289600  0.935  0.935  0.940  0.930    684300  ok\n",
      "238  1577376000  0.940  0.940  0.940  0.925   2727300  ok\n",
      "239  1577635200  0.940  0.940  0.945  0.940    631300  ok\n",
      "240  1577721600  0.945  0.940  0.955  0.940   3689500  ok\n",
      "241  1577894400  0.960  0.945  0.960  0.945   1554800  ok\n",
      "\n",
      "[242 rows x 7 columns], 'PHARMA':               t     c     o     h     l      v   s\n",
      "0    1546358400  2.78  2.77  2.78  2.72   7300  ok\n",
      "1    1546444800  2.78  2.78  2.78  2.78  17000  ok\n",
      "2    1546531200  2.81  2.78  2.81  2.78  11000  ok\n",
      "3    1546790400  2.83  2.82  2.83  2.79  20000  ok\n",
      "4    1546876800  2.79  2.79  2.79  2.79    100  ok\n",
      "..          ...   ...   ...   ...   ...    ...  ..\n",
      "236  1577116800  2.09  2.08  2.09  2.08  34400  ok\n",
      "237  1577289600  2.10  2.07  2.10  2.06  36200  ok\n",
      "238  1577376000  2.09  2.08  2.09  2.07  31100  ok\n",
      "239  1577635200  2.09  2.09  2.09  2.06  57300  ok\n",
      "240  1577721600  2.06  2.08  2.08  2.06  83600  ok\n",
      "\n",
      "[241 rows x 7 columns], 'SUPERMX':               t     c     o     h     l        v   s\n",
      "0    1546358400  3.43  3.50  3.52  3.43  2321600  ok\n",
      "1    1546444800  1.71  1.73  1.79  1.70  5150600  ok\n",
      "2    1546531200  1.74  1.72  1.74  1.69  2029400  ok\n",
      "3    1546790400  1.73  1.76  1.79  1.71  5870800  ok\n",
      "4    1546876800  1.64  1.74  1.76  1.63  9128300  ok\n",
      "..          ...   ...   ...   ...   ...      ...  ..\n",
      "237  1577289600  1.41  1.39  1.41  1.39   692000  ok\n",
      "238  1577376000  1.41  1.40  1.43  1.39  1809000  ok\n",
      "239  1577635200  1.40  1.41  1.42  1.40  1912100  ok\n",
      "240  1577721600  1.39  1.40  1.40  1.38  2649700  ok\n",
      "241  1577894400  1.38  1.39  1.40  1.38  2130700  ok\n",
      "\n",
      "[242 rows x 7 columns], 'TMCLIFE':               t      c      o      h      l       v   s\n",
      "0    1546358400  0.730  0.745  0.755  0.705  868300  ok\n",
      "1    1546444800  0.740  0.725  0.740  0.720   92700  ok\n",
      "2    1546531200  0.730  0.725  0.730  0.720  137700  ok\n",
      "3    1546790400  0.725  0.730  0.730  0.720  138100  ok\n",
      "4    1546876800  0.730  0.725  0.740  0.725  113500  ok\n",
      "..          ...    ...    ...    ...    ...     ...  ..\n",
      "237  1577289600  0.625  0.630  0.630  0.625  292100  ok\n",
      "238  1577376000  0.625  0.625  0.635  0.620  342400  ok\n",
      "239  1577635200  0.630  0.635  0.635  0.625  652200  ok\n",
      "240  1577721600  0.630  0.630  0.630  0.620  468700  ok\n",
      "241  1577894400  0.625  0.630  0.630  0.620  364400  ok\n",
      "\n",
      "[242 rows x 7 columns], 'TOPGLOV':               t     c     o     h     l         v   s\n",
      "0    1546358400  5.58  5.62  5.68  5.56   1410800  ok\n",
      "1    1546444800  5.55  5.60  5.65  5.55   2303400  ok\n",
      "2    1546531200  5.54  5.57  5.58  5.51   1966600  ok\n",
      "3    1546790400  5.30  5.56  5.58  5.25  13526800  ok\n",
      "4    1546876800  5.03  5.30  5.30  5.01  22623000  ok\n",
      "..          ...   ...   ...   ...   ...       ...  ..\n",
      "237  1577289600  4.75  4.79  4.79  4.74    643600  ok\n",
      "238  1577376000  4.76  4.76  4.78  4.72   3778500  ok\n",
      "239  1577635200  4.75  4.77  4.77  4.73   1049200  ok\n",
      "240  1577721600  4.70  4.73  4.73  4.69   3629400  ok\n",
      "241  1577894400  4.65  4.70  4.73  4.61   1521000  ok\n",
      "\n",
      "[242 rows x 7 columns], 'YSPSAH':               t     c     o     h     l      v   s\n",
      "0    1546358400  2.72  2.70  2.72  2.70  18500  ok\n",
      "1    1546444800  2.70  2.71  2.71  2.70  23000  ok\n",
      "2    1546531200  2.75  2.77  2.77  2.75   1600  ok\n",
      "3    1546790400  2.72  2.72  2.72  2.72   4000  ok\n",
      "4    1546963200  2.74  2.71  2.75  2.71  27500  ok\n",
      "..          ...   ...   ...   ...   ...    ...  ..\n",
      "228  1577116800  2.30  2.30  2.30  2.30   2000  ok\n",
      "229  1577289600  2.37  2.31  2.37  2.31   8000  ok\n",
      "230  1577635200  2.33  2.37  2.38  2.33  75900  ok\n",
      "231  1577721600  2.33  2.34  2.35  2.33  16000  ok\n",
      "232  1577894400  2.35  2.33  2.35  2.33  27900  ok\n",
      "\n",
      "[233 rows x 7 columns]}\n"
     ]
    }
   ],
   "source": [
    "print(tables)"
   ]
  },
  {
   "cell_type": "code",
   "execution_count": 50,
   "metadata": {},
   "outputs": [
    {
     "name": "stdout",
     "output_type": "stream",
     "text": [
      "              t     c     o     h     l         v   s\n",
      "0    1546358400  6.17  6.15  6.18  6.11    996800  ok\n",
      "1    1546444800  6.15  6.15  6.18  6.10    917700  ok\n",
      "2    1546531200  6.13  6.15  6.15  6.09   1104900  ok\n",
      "3    1546790400  5.75  6.11  6.14  5.69   8680300  ok\n",
      "4    1546876800  5.15  5.81  5.81  5.13  14457600  ok\n",
      "..          ...   ...   ...   ...   ...       ...  ..\n",
      "237  1577289600  5.43  5.46  5.49  5.39   1401500  ok\n",
      "238  1577376000  5.50  5.40  5.57  5.39   3109700  ok\n",
      "239  1577635200  5.56  5.50  5.57  5.50   2534100  ok\n",
      "240  1577721600  5.48  5.55  5.55  5.36   5974000  ok\n",
      "241  1577894400  5.35  5.40  5.43  5.32   2379500  ok\n",
      "\n",
      "[242 rows x 7 columns]\n"
     ]
    }
   ],
   "source": [
    "print(tables['HARTA'])"
   ]
  },
  {
   "cell_type": "code",
   "execution_count": null,
   "metadata": {},
   "outputs": [],
   "source": []
  }
 ],
 "metadata": {
  "kernelspec": {
   "display_name": "Python 3",
   "language": "python",
   "name": "python3"
  },
  "language_info": {
   "codemirror_mode": {
    "name": "ipython",
    "version": 3
   },
   "file_extension": ".py",
   "mimetype": "text/x-python",
   "name": "python",
   "nbconvert_exporter": "python",
   "pygments_lexer": "ipython3",
   "version": "3.7.4"
  }
 },
 "nbformat": 4,
 "nbformat_minor": 2
}
